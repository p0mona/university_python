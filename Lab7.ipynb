{
  "cells": [
    {
      "cell_type": "markdown",
      "id": "8a19f531",
      "metadata": {
        "id": "8a19f531"
      },
      "source": [
        "## Task 1\n",
        "\n",
        "In laboratory task 6, task 6, you had to write a function `get_positive_integer` that asked the user to input a positive integer. The function checked if the user entered valid data and returned:\n",
        "- the entered number if the data was valid,\n",
        "- 1 if the user entered invalid data.\n",
        "\n",
        "Modify the function so that in case of invalid data, an error message is displayed, followed by a prompt, and the data is requested from the user again. This should continue until valid data is entered.\n",
        "\n",
        "Remember that the prompt should be a parameter of the function. Test the function."
      ]
    },
    {
      "cell_type": "code",
      "execution_count": 1,
      "id": "dfb6f1e4",
      "metadata": {
        "colab": {
          "base_uri": "https://localhost:8080/"
        },
        "id": "dfb6f1e4",
        "outputId": "20eb8246-c084-4dba-f839-8363c5c08be8"
      },
      "outputs": [
        {
          "output_type": "stream",
          "name": "stdout",
          "text": [
            "Enter a nonnegative integer:-5\n",
            "Error! Please provide correct details\n",
            "Enter a nonnegative integer:6\n",
            "6 It is a positive integer.\n",
            "6\n"
          ]
        }
      ],
      "source": [
        "# Solution of exercise 1.\n",
        "\n",
        "\n",
        "def get_positive_integer(promt):\n",
        "    while True:\n",
        "      try:\n",
        "        liczba = input(promt)\n",
        "        liczba = int(liczba)\n",
        "        if liczba > 0:\n",
        "          print(f\"{liczba} It is a positive integer.\")\n",
        "          return liczba\n",
        "          break\n",
        "        else:\n",
        "          print(\"Error! Please provide correct details\")\n",
        "      except ValueError:\n",
        "        print(\"Error! Please provide correct details\")\n",
        "print(get_positive_integer(\"Enter a nonnegative integer:\"))\n"
      ]
    },
    {
      "cell_type": "markdown",
      "id": "339e3a93",
      "metadata": {
        "id": "339e3a93"
      },
      "source": [
        "## Task 2\n",
        "\n",
        "Write a function `line` that displays a line composed of `n` identical characters. The number `n` and the character to display should be parameters of the function. For example, after executing:\n",
        "```python\n",
        "line(5, \"*\")\n",
        "```\n",
        "the output on the screen should be:\n",
        "```\n",
        "*****\n",
        "```\n",
        "\n",
        "The function can check if the argument containing the character to display actually contains only one character, or allow the situation where there are more characters. In that case, for example, after executing:\n",
        "```python\n",
        "line(5, \"* \")\n",
        "```\n",
        "the output on the screen should be:\n",
        "```\n",
        "* * * * *\n",
        "```\n"
      ]
    },
    {
      "cell_type": "code",
      "execution_count": 2,
      "id": "7553f33d",
      "metadata": {
        "colab": {
          "base_uri": "https://localhost:8080/"
        },
        "id": "7553f33d",
        "outputId": "f071aee0-495b-4930-a27e-fa6cd5da9174"
      },
      "outputs": [
        {
          "output_type": "stream",
          "name": "stdout",
          "text": [
            "*****\n",
            "* * * * * \n",
            "| || || || || || || || || || |\n"
          ]
        }
      ],
      "source": [
        "# Solution of exercise 2.\n",
        "\n",
        "def line(n,a):\n",
        "  res = n * a\n",
        "  return res\n",
        "print(line(5,'*'))\n",
        "print(line(5,'* '))\n",
        "print(line(10,'| |'))\n",
        "\n"
      ]
    },
    {
      "cell_type": "markdown",
      "id": "2351877d",
      "metadata": {
        "id": "2351877d"
      },
      "source": [
        "## Task 3\n",
        "\n",
        "Write a function `square` that displays a \"square\" made up of `n` lines, each consisting of `n` identical characters. The number `n` and the character to display should be parameters of the function. For example, after executing:\n",
        "```python\n",
        "square(5, \"+\")\n",
        "```\n",
        "the output on the screen should be:\n",
        "```\n",
        "+++++\n",
        "+++++\n",
        "+++++\n",
        "+++++\n",
        "+++++\n",
        "```\n",
        "\n",
        "The function can check if the argument containing the character to display actually contains only one character, or allow the situation where there are more characters. In that case, for example, after executing:\n",
        "```python\n",
        "square(5, \"+ \")\n",
        "```\n",
        "the output on the screen should be:\n",
        "```\n",
        "+ + + + +\n",
        "+ + + + +\n",
        "+ + + + +\n",
        "+ + + + +\n",
        "+ + + + +\n",
        "```"
      ]
    },
    {
      "cell_type": "code",
      "execution_count": 3,
      "id": "40c6ebae",
      "metadata": {
        "colab": {
          "base_uri": "https://localhost:8080/"
        },
        "id": "40c6ebae",
        "outputId": "d463ab9f-49bb-43fe-f55f-77164d2818e2"
      },
      "outputs": [
        {
          "output_type": "stream",
          "name": "stdout",
          "text": [
            "+ + + + + \n",
            "+ + + + + \n",
            "+ + + + + \n",
            "+ + + + + \n",
            "+ + + + + \n"
          ]
        }
      ],
      "source": [
        "# Solution of exercise 3.\n",
        "def square(n, a):\n",
        "  for i in range(n):\n",
        "    kw = n * a\n",
        "    print(kw)\n",
        "square(5, \"+ \")\n",
        "\n"
      ]
    },
    {
      "cell_type": "markdown",
      "id": "e450c089",
      "metadata": {
        "id": "e450c089"
      },
      "source": [
        "## Task 4\n",
        "\n",
        "Write a function `rectangle` that displays a rectangle made up of `m` lines, each consisting of `n` identical characters. The numbers `m`, `n`, and the character to display should be parameters of the function. For example, after executing:\n",
        "```python\n",
        "rectangle(3, 5, \"+\")\n",
        "```\n",
        "the output on the screen should be:\n",
        "```\n",
        "+++++\n",
        "+++++\n",
        "+++++\n",
        "```\n",
        "\n",
        "The function can check if the argument containing the character to display actually contains only one character, or allow the situation where there are more characters. In that case, for example, after executing:\n",
        "```python\n",
        "rectangle(3, 5, \"+ \")\n",
        "```\n",
        "the output on the screen should be:\n",
        "```\n",
        "+ + + + +\n",
        "+ + + + +\n",
        "+ + + + +\n",
        "```"
      ]
    },
    {
      "cell_type": "code",
      "execution_count": 4,
      "id": "5adfa1bb",
      "metadata": {
        "id": "5adfa1bb",
        "colab": {
          "base_uri": "https://localhost:8080/"
        },
        "outputId": "2e6c2473-792b-4551-cb1b-981d428a7316"
      },
      "outputs": [
        {
          "output_type": "stream",
          "name": "stdout",
          "text": [
            "+ + + + + \n",
            "+ + + + + \n",
            "+ + + + + \n"
          ]
        }
      ],
      "source": [
        "# Solution of exercise 4.\n",
        "def restangle(m,n,c):\n",
        "  for i in range (m):\n",
        "    pr = n * c\n",
        "    print(pr)\n",
        "restangle(3, 5, \"+ \")\n"
      ]
    },
    {
      "cell_type": "markdown",
      "id": "d504ec0c",
      "metadata": {
        "id": "d504ec0c"
      },
      "source": [
        "## Task 5\n",
        "\n",
        "Write a function `triangle_left_down` that displays a right-angled \"isosceles\" triangle consisting of `n` lines, each made up of identical characters. The number `n` and the character to display should be parameters of the function. The legs consist of `n` characters and are vertical/horizontal, one is at the bottom and the other on the left side. For example, after executing:\n",
        "```python\n",
        "triangle_left_down(5, \"+\")\n",
        "```\n",
        "the output on the screen should be:\n",
        "```\n",
        "+\n",
        "++\n",
        "+++\n",
        "++++\n",
        "+++++\n",
        "```\n",
        "\n",
        "The function can check if the argument containing the character to display actually contains only one character, or allow the situation where there are more characters. In that case, for example, after executing:\n",
        "```python\n",
        "triangle_left_down(5, \"+ \")\n",
        "```\n",
        "the output on the screen should be:\n",
        "```\n",
        "+\n",
        "+ +\n",
        "+ + +\n",
        "+ + + +\n",
        "+ + + + +\n",
        "```"
      ]
    },
    {
      "cell_type": "code",
      "execution_count": 5,
      "id": "5849f51f",
      "metadata": {
        "id": "5849f51f",
        "colab": {
          "base_uri": "https://localhost:8080/"
        },
        "outputId": "2b5718bb-fc5c-4400-a6da-c835a824882e"
      },
      "outputs": [
        {
          "output_type": "stream",
          "name": "stdout",
          "text": [
            "\n",
            "+ \n",
            "+ + \n",
            "+ + + \n",
            "+ + + + \n",
            "+ + + + + \n"
          ]
        }
      ],
      "source": [
        "# Solution of exercise 5.\n",
        "def triangle_left_down(n,a):\n",
        "  for n in range(n + 1):\n",
        "    trld = a * n\n",
        "    print(trld)\n",
        "triangle_left_down(5, \"+ \")"
      ]
    },
    {
      "cell_type": "markdown",
      "id": "72eeba0d",
      "metadata": {
        "id": "72eeba0d"
      },
      "source": [
        "## Task 6\n",
        "\n",
        "Write a function `triangle_left_up` that displays a right-angled \"isosceles\" triangle consisting of `n` lines, each made up of identical characters. The number `n` and the character to display should be parameters of the function. The legs consist of `n` characters and are vertical/horizontal, one is at the top and the other on the left side. For example, after executing:\n",
        "```python\n",
        "triangle_left_up(5, \"+\")\n",
        "```\n",
        "the output on the screen should be:\n",
        "```\n",
        "+++++\n",
        "++++\n",
        "+++\n",
        "++\n",
        "+\n",
        "```\n",
        "\n",
        "The function can check if the argument containing the character to display actually contains only one character, or allow the situation where there are more characters. In that case, for example, after executing:\n",
        "```python\n",
        "triangle_left_up(5, \"+ \")\n",
        "```\n",
        "the output on the screen should be:\n",
        "```\n",
        "+ + + + +\n",
        "+ + + +\n",
        "+ + +\n",
        "+ +\n",
        "+\n",
        "```"
      ]
    },
    {
      "cell_type": "code",
      "execution_count": 6,
      "id": "f69d2db1",
      "metadata": {
        "id": "f69d2db1",
        "colab": {
          "base_uri": "https://localhost:8080/"
        },
        "outputId": "5aa5ef4e-55a7-4760-f0a4-29540c0767e1"
      },
      "outputs": [
        {
          "output_type": "stream",
          "name": "stdout",
          "text": [
            "+ + + + + \n",
            "+ + + + \n",
            "+ + + \n",
            "+ + \n",
            "+ \n"
          ]
        }
      ],
      "source": [
        "# Solution of exercise 6.\n",
        "def triangle_left_up(n, a):\n",
        "  for i in range(n, 0, -1):\n",
        "    trlu = a * i\n",
        "    print(trlu)\n",
        "triangle_left_up(5,\"+ \")\n"
      ]
    },
    {
      "cell_type": "markdown",
      "id": "b2ff924c",
      "metadata": {
        "id": "b2ff924c"
      },
      "source": [
        "## Task 7\n",
        "\n",
        "Write a function `triangle_right_down` that displays a right-angled \"isosceles\" triangle consisting of `n` lines, each made up of identical characters. The number `n` and the character to display should be parameters of the function. The legs consist of `n` characters and are vertical/horizontal, one is at the bottom and the other on the right side. For example, after executing:\n",
        "```python\n",
        "triangle_right_down(5, \"+\")\n",
        "```\n",
        "the output on the screen should be:\n",
        "```\n",
        "    +\n",
        "   ++\n",
        "  +++\n",
        " ++++\n",
        "+++++\n",
        "```\n",
        "\n",
        "The function can check if the argument containing the character to display actually contains only one character, or allow the situation where there are more characters. In that case, for example, after executing:\n",
        "```python\n",
        "triangle_right_down(5, \"+ \")\n",
        "```\n",
        "the output on the screen should be:\n",
        "```\n",
        "        +\n",
        "      + +\n",
        "    + + +\n",
        "  + + + +\n",
        "+ + + + +\n",
        "```"
      ]
    },
    {
      "cell_type": "code",
      "execution_count": 12,
      "id": "4b5f697f",
      "metadata": {
        "id": "4b5f697f",
        "colab": {
          "base_uri": "https://localhost:8080/"
        },
        "outputId": "47be6452-8fc8-408b-d87c-59c4ac8585da"
      },
      "outputs": [
        {
          "output_type": "stream",
          "name": "stdout",
          "text": [
            "            +-\n",
            "         +- +-\n",
            "      +- +- +-\n",
            "   +- +- +- +-\n",
            "+- +- +- +- +-\n"
          ]
        }
      ],
      "source": [
        "# Solution of exercise 7.\n",
        "def triangle_right_down(n, a):\n",
        "    for i in range(1, n + 1):\n",
        "        row = ' '.join([a.strip()] * i)\n",
        "        print(row.rjust(len(a.strip()) * n + (n - 1)))\n",
        "\n",
        "triangle_right_down(5, \"+-\")\n",
        "\n"
      ]
    },
    {
      "cell_type": "markdown",
      "id": "6eafa726",
      "metadata": {
        "id": "6eafa726"
      },
      "source": [
        "## Task 8\n",
        "\n",
        "Write a function `triangle_right_up` that displays a right-angled \"isosceles\" triangle consisting of `n` lines, each made up of identical characters. The number `n` and the character to display should be parameters of the function. The legs consist of `n` characters and are vertical/horizontal, one is at the top and the other on the right side. For example, after executing:\n",
        "```python\n",
        "triangle_right_up(5, \"+\")\n",
        "```\n",
        "the output on the screen should be:\n",
        "```\n",
        "+++++\n",
        " ++++\n",
        "  +++\n",
        "   ++\n",
        "    +\n",
        "```\n",
        "\n",
        "The function can check if the argument containing the character to display actually contains only one character, or allow the situation where there are more characters. In that case, for example, after executing:\n",
        "```python\n",
        "triangle_right_up(5, \"+ \")\n",
        "```\n",
        "the output on the screen should be:\n",
        "```\n",
        "+ + + + +\n",
        "  + + + +\n",
        "    + + +\n",
        "      + +\n",
        "        +\n",
        "```"
      ]
    },
    {
      "cell_type": "code",
      "execution_count": 13,
      "id": "bddf42e9",
      "metadata": {
        "id": "bddf42e9",
        "colab": {
          "base_uri": "https://localhost:8080/"
        },
        "outputId": "68b00477-af6e-4fd6-f46d-d5a068c9a3cc"
      },
      "outputs": [
        {
          "output_type": "stream",
          "name": "stdout",
          "text": [
            "-=+= .-=+= .-=+= .-=+= .-=+= .\n",
            "      -=+= .-=+= .-=+= .-=+= .\n",
            "            -=+= .-=+= .-=+= .\n",
            "                  -=+= .-=+= .\n",
            "                        -=+= .\n"
          ]
        }
      ],
      "source": [
        "# Solution of exercise 8.\n",
        "def triangle_right_up(n, a):\n",
        "  for i in range(n, 0, -1):\n",
        "    sp = ' ' * (n - i) * len(a)\n",
        "    trru = sp + a * i\n",
        "    print(trru)\n",
        "triangle_right_up(5, \"-=+= .\")\n"
      ]
    },
    {
      "cell_type": "markdown",
      "id": "972c785f",
      "metadata": {
        "id": "972c785f"
      },
      "source": [
        "## Task 9\n",
        "\n",
        "Write a function that prints a multiplication table for a given range, arranged in a rectangular table format. For example, for the range 1-5, the table should look like this:\n",
        "```\n",
        "   |  1  2  3  4  5\n",
        "-------------------\n",
        "  1|  1  2  3  4  5\n",
        "  2|  2  4  6  8 10\n",
        "  3|  3  6  9 12 15\n",
        "  4|  4  8 12 16 20\n",
        "  5|  5 10 15 20 25\n",
        "```\n",
        "\n",
        "There should be an option to print the table for different ranges. In a simpler version, we can assume that the range always starts from 1 and ends with a number smaller than 32 — in that case, the products will have at most three digits, and it's easy to align them into columns. In a more complex version, the range could be arbitrary, e.g., 70-75, and arranging them into columns may require additional calculations.\n",
        "\n",
        "For example, for the range 30-35, the function should print:\n",
        "```\n",
        "     |   30   31   32   33   34   35\n",
        "------------------------------------\n",
        "   30|  900  930  960  990 1020 1050\n",
        "   31|  930  961  992 1023 1054 1085\n",
        "   32|  960  992 1024 1056 1088 1120\n",
        "   33|  990 1023 1056 1089 1122 1155\n",
        "   34| 1020 1054 1088 1122 1156 1190\n",
        "   35| 1050 1085 1120 1155 1190 1225\n",
        "```"
      ]
    },
    {
      "cell_type": "code",
      "execution_count": 14,
      "id": "0e7f5dfe",
      "metadata": {
        "id": "0e7f5dfe",
        "colab": {
          "base_uri": "https://localhost:8080/"
        },
        "outputId": "ee9655c7-e851-4710-9a9a-dc9cff01aab7"
      },
      "outputs": [
        {
          "output_type": "stream",
          "name": "stdout",
          "text": [
            "      1    2    3    4    5\n",
            "------------------------------\n",
            "1|    1    2    3    4    5\n",
            "2|    2    4    6    8   10\n",
            "3|    3    6    9   12   15\n",
            "4|    4    8   12   16   20\n",
            "5|    5   10   15   20   25\n",
            "\n",
            "     30   31   32   33   34   35\n",
            "------------------------------------\n",
            "30|  900  930  960  990 1020 1050\n",
            "31|  930  961  992 1023 1054 1085\n",
            "32|  960  992 1024 1056 1088 1120\n",
            "33|  990 1023 1056 1089 1122 1155\n",
            "34| 1020 1054 1088 1122 1156 1190\n",
            "35| 1050 1085 1120 1155 1190 1225\n"
          ]
        }
      ],
      "source": [
        "# Solution of exercise 9.\n",
        "def tm(a, b):\n",
        "  print('  ', end='')\n",
        "  for i in range(a, b + 1):\n",
        "    print(f\"{i:5}\", end=\"\")\n",
        "  print(\"\\n\" + \"-\" * (6 * (b - a + 1)))\n",
        "  for i in range(a, b + 1):\n",
        "    print(f\"{i}|\", end=\"\")\n",
        "    for j in range(a, b + 1):\n",
        "      print(f\"{i * j:5}\", end=\"\")\n",
        "    print()\n",
        "tm(1,5)\n",
        "#\n",
        "#\n",
        "#\n",
        "print()\n",
        "def tm1(a, b):\n",
        "  print('  ', end='')\n",
        "  for i in range(a, b + 1):\n",
        "    print(f\"{i:5}\", end=\"\")\n",
        "  print(\"\\n\" + \"-\" * (6 * (b - a + 1)))\n",
        "  for i in range(a, b + 1):\n",
        "    print(f\"{i}|\", end=\"\")\n",
        "    for j in range(a, b + 1):\n",
        "      print(f\"{i * j:5}\", end=\"\")\n",
        "    print()\n",
        "tm(30,35)\n"
      ]
    },
    {
      "cell_type": "markdown",
      "id": "c49d68c8",
      "metadata": {
        "id": "c49d68c8"
      },
      "source": [
        "## Task 10\n",
        "\n",
        "Write a function `strange_sum` that prints a \"strange\" sum and its result (you need to print all the terms connected by `+` signs and the result after the `=` sign). The function has one parameter `n`, which determines the number of terms. The terms are numbers: 1, 22, 333, ...., nn...n (the last term is the number `n` repeated `n` times).\n",
        "\n",
        "For example, after executing\n",
        "```python\n",
        "strange_sum(10)\n",
        "```\n",
        "the output should be:\n",
        "```\n",
        "1+22+333+4444+55555+666666+7777777+88888888+999999999+10101010101010101010 = 10101010102107494695\n",
        "```"
      ]
    },
    {
      "cell_type": "code",
      "execution_count": 15,
      "id": "7d75cf87",
      "metadata": {
        "id": "7d75cf87",
        "colab": {
          "base_uri": "https://localhost:8080/"
        },
        "outputId": "6377b46d-8bfa-48c5-e44b-062195ac6cd4"
      },
      "outputs": [
        {
          "output_type": "stream",
          "name": "stdout",
          "text": [
            "1 + 22 + 333 + 4444 + 55555 + 666666 + 7777777 + 88888888 + 999999999 + 10101010101010101010 = 10101010102107494695\n"
          ]
        }
      ],
      "source": [
        "# Solution of exercise 10.\n",
        "def strange_sum(n):\n",
        "  res = 0\n",
        "  a = \"\"\n",
        "  for i in range(1, n + 1):\n",
        "    b = int(str(i) * i)\n",
        "    res += b\n",
        "    a += str(b)\n",
        "    if i < n:\n",
        "      a += \" + \"\n",
        "  print(f\"{a} = {res}\")\n",
        "strange_sum(10)\n"
      ]
    },
    {
      "cell_type": "markdown",
      "id": "7b87edef",
      "metadata": {
        "id": "7b87edef"
      },
      "source": [
        "## Task 11\n",
        "\n",
        "Write a function `are_unique` that checks if all elements in a list are unique (do not repeat).\n",
        "\n",
        "After testing the function for a list, check if the function works for tuples and strings.\n",
        "\n",
        "In Python, the content of this function can be written in one line. All the necessary commands for this version have already been learned. If someone writes a longer version, that's fine."
      ]
    },
    {
      "cell_type": "code",
      "execution_count": 16,
      "id": "65f9c0b0",
      "metadata": {
        "id": "65f9c0b0",
        "colab": {
          "base_uri": "https://localhost:8080/"
        },
        "outputId": "349fc64e-83e8-4dc4-ec2b-fd12d74a42b6"
      },
      "outputs": [
        {
          "output_type": "stream",
          "name": "stdout",
          "text": [
            "All items are unique\n",
            "Not all items are unique\n",
            "All items are unique\n",
            "Not all items are unique\n",
            "Not all items are unique\n",
            "All items are unique\n"
          ]
        }
      ],
      "source": [
        "# Solution of exercise 11.\n",
        "def are_unique(n):\n",
        "  for i in range(len(n)):\n",
        "    for j in range(i + 1, len(n)):\n",
        "      if n[i] == n[j]:\n",
        "        print(\"Not all items are unique\")\n",
        "        return True\n",
        "  if not n == True:\n",
        "      print(\"All items are unique\")\n",
        "are_unique([1,2,3,4,5,6,7])\n",
        "are_unique([1,2,2,4,5,6,7])\n",
        "are_unique((1,2,3,4,5,6,7))\n",
        "are_unique((1,2,3,5,6,'a','a'))\n",
        "are_unique('Hello, World!')\n",
        "are_unique(\"aAsdfFghjk\")\n",
        "\n"
      ]
    },
    {
      "cell_type": "markdown",
      "id": "42c75814",
      "metadata": {
        "id": "42c75814"
      },
      "source": [
        "\n",
        "\n",
        "## Task 12\n",
        "\n",
        "Write a function `exchange_rows` that swaps two rows in a two-dimensional array (i.e., a list of lists). The array and the row indices should be parameters of the function. To print the array nicely (with each row on a separate line), a function `print_2D` has been provided. After executing the following code:\n",
        "\n",
        "```python\n",
        "arr = [[1,2],[3,4],[5,6]]\n",
        "print(\"Before swapping:\\n\")\n",
        "print_2D(arr)\n",
        "exchange_rows(arr, 0, 2)\n",
        "print(\"After swapping:\\n\")\n",
        "print_2D(arr)\n",
        "```\n",
        "\n",
        "The output on the screen should be:\n",
        "\n",
        "```\n",
        "Before swapping:\n",
        "\n",
        "1\t2\n",
        "3\t4\n",
        "5\t6\n",
        "\n",
        "After swapping:\n",
        "\n",
        "5\t6\n",
        "3\t4\n",
        "1\t2\n",
        "```"
      ]
    },
    {
      "cell_type": "code",
      "execution_count": 17,
      "id": "d1be6482",
      "metadata": {
        "id": "d1be6482",
        "colab": {
          "base_uri": "https://localhost:8080/"
        },
        "outputId": "372cdff5-9be9-4ad9-86f2-0ce2de2a6d07"
      },
      "outputs": [
        {
          "output_type": "stream",
          "name": "stdout",
          "text": [
            "Before the change:\n",
            "\n",
            "9\t8\n",
            "7\t6\n",
            "5\t4 \n",
            "\n",
            "After the exchange:\n",
            "\n",
            "5\t4\n",
            "7\t6\n",
            "9\t8 \n",
            "\n"
          ]
        }
      ],
      "source": [
        "# Solution of exercise 12.\n",
        "arr = [[9, 8], [7, 6], [5, 4]]\n",
        "def print_2D(arr):\n",
        "  print('\\n'.join(['\\t'.join([str(cell) for cell in row]) for row in arr]),'\\n')\n",
        "def exchange_rows(arr, row1, row2):\n",
        "  arr[row1], arr[row2] = arr[row2], arr[row1]\n",
        "print(\"Before the change:\\n\")\n",
        "print_2D(arr)\n",
        "exchange_rows(arr, 0, 2)\n",
        "print(\"After the exchange:\\n\")\n",
        "print_2D(arr)\n",
        "\n",
        "\n"
      ]
    },
    {
      "cell_type": "markdown",
      "id": "990a1fa9",
      "metadata": {
        "id": "990a1fa9"
      },
      "source": [
        "<br>\n",
        "\n",
        "## Task 13\n",
        "\n",
        "Write a function that picks an integer from a given range and lets the user make several guesses. The range and number of guesses should be the function parameters.\n",
        "\n",
        "The user is informed about the range and number of guesses. If the user guesses the number before the number of guesses expires, the user is notified and the function terminates. If this does not happen, the user is informed about the loss and the random number is displayed.\n",
        "\n",
        "To load the number provided by the user, use the function from task 1.\n",
        "\n",
        "Try to use the `break` instruction and the `else` part of the loop.\n",
        "\n",
        "Example function execution:\n",
        "```\n",
        "Guess the number from 1 to 10. You have 3 attempts.\n",
        "attempt 1: 4\n",
        "attempt 2: 3\n",
        "attempt 3: 2\n",
        "You lost... It was 10.\n",
        "```"
      ]
    },
    {
      "cell_type": "code",
      "execution_count": 20,
      "id": "886cde1a",
      "metadata": {
        "id": "886cde1a",
        "colab": {
          "base_uri": "https://localhost:8080/"
        },
        "outputId": "ba9d22b3-cc1a-4a73-e037-a542376f946f"
      },
      "outputs": [
        {
          "output_type": "stream",
          "name": "stdout",
          "text": [
            "Guess the number from 1 to 10. You have 3 attempts.\n",
            "attempt 1:8\n",
            "8 It is a positive integer.\n",
            "8\n",
            "YES!!! It was 8. You won!\n"
          ]
        }
      ],
      "source": [
        "# Solution of exercise 13.\n",
        "\n",
        "def los(f, t, a, num):\n",
        "  print(f\"Guess the number from {f} to {t}. You have {a} attempts.\")\n",
        "  for i in range(a):\n",
        "    k = get_positive_integer(f\"attempt {i + 1}:\")\n",
        "    print(k)\n",
        "    if k == num:\n",
        "      print(f\"YES!!! It was {num}. You won!\")\n",
        "      break\n",
        "  else:\n",
        "    print(f\"You lost... It was {num}.\")\n",
        "los(1, 10, 3, 8)\n",
        "\n",
        "\n"
      ]
    },
    {
      "cell_type": "markdown",
      "id": "eddb3cdb",
      "metadata": {
        "id": "eddb3cdb"
      },
      "source": [
        "<br>\n",
        "\n",
        "## Task 14\n",
        "\n",
        "Improve the function from the previous task so that after each failed guess a message appears about whether the number is too large or too small.\n",
        "\n",
        "Example execution of the function:\n",
        "```\n",
        "Guess the number from 8 to 16. You have 3 attempts.\n",
        "attempt 1: 12\n",
        "too small...\n",
        "attempt 2: 16\n",
        "too big...\n",
        "attempt 3: 15\n",
        "You won! It was 15.\n",
        "```"
      ]
    },
    {
      "cell_type": "code",
      "execution_count": 21,
      "id": "521975c2",
      "metadata": {
        "id": "521975c2",
        "colab": {
          "base_uri": "https://localhost:8080/"
        },
        "outputId": "188e1fc1-b887-493f-8889-2debb0332164"
      },
      "outputs": [
        {
          "output_type": "stream",
          "name": "stdout",
          "text": [
            "Guess the number from 1 to 10. You have 3 attempts.\n",
            "attempt 1:5\n",
            "5 It is a positive integer.\n",
            "5\n",
            "too small...\n",
            "attempt 2:7\n",
            "7 It is a positive integer.\n",
            "7\n",
            "too small...\n",
            "attempt 3:8\n",
            "8 It is a positive integer.\n",
            "8\n",
            "YES!!! It was 8. You won!\n"
          ]
        }
      ],
      "source": [
        "# Solution of exercise 14.\n",
        "def los(f, t, a, num):\n",
        "  print(f\"Guess the number from {f} to {t}. You have {a} attempts.\")\n",
        "  for i in range(a):\n",
        "    k = get_positive_integer(f\"attempt {i + 1}:\")\n",
        "    print(k)\n",
        "    if k > num:\n",
        "      print(f\"too big...\")\n",
        "    elif k < num:\n",
        "      print(f\"too small...\")\n",
        "    if k == num:\n",
        "      print(f\"YES!!! It was {num}. You won!\")\n",
        "      break\n",
        "  else:\n",
        "    print(f\"You lost... It was {num}.\")\n",
        "\n",
        "los(1, 10, 3, 8)\n",
        "\n"
      ]
    },
    {
      "cell_type": "markdown",
      "id": "757e6868",
      "metadata": {
        "id": "757e6868"
      },
      "source": [
        "<br>\n",
        "\n",
        "## Task 15\n",
        "\n",
        "Write a function that takes as one of its parameters a text consisting of multiple words separated by spaces, e.g.\n",
        "```\n",
        "\"Python is an interpreted high-level general-purpose programming language. Its design philosophy emphasizes code readability with its use of significant indentation. Its language constructs as well as its object-oriented approach aim to help programmers write clear, logical code for small and large-scale projects.\"\n",
        "```\n",
        "The function prints the initial text fragment to the screen until it encounters the specified word. Each word should be on a separate line. For example, if the word was `code`, then for the text above the function would print to the screen:\n",
        "```\n",
        "Python\n",
        "is\n",
        "an\n",
        "interpreted\n",
        "high-level\n",
        "general-purpose\n",
        "programming\n",
        "language.\n",
        "Its\n",
        "design\n",
        "philosophy\n",
        "emphasizes\n",
        "code\n",
        "```\n",
        "If the word does not appear in the text, the function prints the entire text and additionally a message like:\n",
        "```\n",
        "Warning: there isn't a word 'codee' in the text.\n",
        "```\n",
        "Hint: use the `split` function."
      ]
    },
    {
      "cell_type": "code",
      "execution_count": 22,
      "id": "044049b8",
      "metadata": {
        "id": "044049b8",
        "colab": {
          "base_uri": "https://localhost:8080/"
        },
        "outputId": "aa8f0cd5-d432-4fca-e2f7-3ba9d1882cf6"
      },
      "outputs": [
        {
          "output_type": "stream",
          "name": "stdout",
          "text": [
            "Python\n",
            "is\n",
            "an\n",
            "interpreted\n",
            "high-level\n",
            "general-purpose\n",
            "programming\n",
            "language.\n",
            "Its\n",
            "design\n",
            "------------------------------------------------------------------------\n",
            "Python\n",
            "is\n",
            "an\n",
            "interpreted\n",
            "high-level\n",
            "general-purpose\n",
            "programming\n",
            "language.\n",
            "Its\n",
            "design\n",
            "philosophy\n",
            "emphasizes\n",
            "code\n",
            "readability\n",
            "with\n",
            "its\n",
            "use\n",
            "of\n",
            "significant\n",
            "indentation.\n",
            "Its\n",
            "language\n",
            "constructs\n",
            "as\n",
            "well\n",
            "as\n",
            "its\n",
            "object-oriented\n",
            "approach\n",
            "aim\n",
            "to\n",
            "help\n",
            "programmers\n",
            "write\n",
            "clear,\n",
            "logical\n",
            "code\n",
            "for\n",
            "small\n",
            "and\n",
            "large-scale\n",
            "projects.\n",
            "Warning: there isn't a word 'designsss' in the text.\n"
          ]
        }
      ],
      "source": [
        "from posixpath import split\n",
        "# Solution of exercise 15.\n",
        "\n",
        "def lala(text, word):\n",
        "    text = text.split()\n",
        "    flag = True\n",
        "    for i in text:\n",
        "        print(i)\n",
        "        if i == word:\n",
        "            flag = True\n",
        "            break\n",
        "    if i != word:\n",
        "        print(f\"Warning: there isn't a word '{word}' in the text.\")\n",
        "lala(\"Python is an interpreted high-level general-purpose programming language.\\\n",
        " Its design philosophy emphasizes code readability with its use of significant \\\n",
        " indentation. Its language constructs as well as its object-oriented approach aim \\\n",
        " to help programmers write clear, logical code for small and large-scale projects.\",\"design\")\n",
        "print(\"------------------------------------------------------------------------\")\n",
        "lala(\"Python is an interpreted high-level general-purpose programming language.\\\n",
        " Its design philosophy emphasizes code readability with its use of significant \\\n",
        " indentation. Its language constructs as well as its object-oriented approach aim \\\n",
        " to help programmers write clear, logical code for small and large-scale projects.\",\"designsss\")\n",
        "\n",
        "\n"
      ]
    },
    {
      "cell_type": "markdown",
      "id": "85796944",
      "metadata": {
        "id": "85796944"
      },
      "source": [
        "<br>\n",
        "\n",
        "## Task 16\n",
        "Write a function `is_correct_equation_solution` that\n",
        "- picks a number a from the range 1 - 15\n",
        "- picks a number c from the range 16 - 30\n",
        "- displays \"a + ... = c\", where a and c are random values, for example \"10 + ... = 20\"\n",
        "- takes a number from the user - use the function from task 1,\n",
        "- checks if what the user entered is equal to the difference of c and a, if so, the function returns `True`, otherwise `False`\n",
        "\n",
        "Try not to use a conditional statement."
      ]
    },
    {
      "cell_type": "code",
      "execution_count": 23,
      "id": "26d2be94",
      "metadata": {
        "id": "26d2be94",
        "colab": {
          "base_uri": "https://localhost:8080/"
        },
        "outputId": "6bea1527-aa73-4a73-e362-acde77bd778c"
      },
      "outputs": [
        {
          "output_type": "stream",
          "name": "stdout",
          "text": [
            "12 + ... = 19\n",
            "Enter a integer:7\n",
            "7 It is a positive integer.\n",
            "True\n"
          ]
        }
      ],
      "source": [
        "# Solution of exercise 16.\n",
        "from random import random, randrange\n",
        "def is_correct_equation_solution():\n",
        "  a = randrange(1, 16)\n",
        "  c = randrange(16, 31)\n",
        "  print(f\"{a} + ... = {c}\")\n",
        "  x = get_positive_integer(\"Enter a integer:\")\n",
        "  if x == c - a:\n",
        "    return True\n",
        "  else:\n",
        "    return False\n",
        "print(is_correct_equation_solution())\n",
        "\n",
        "#its a positive..\n"
      ]
    },
    {
      "cell_type": "markdown",
      "id": "d2bf9a5c",
      "metadata": {
        "id": "d2bf9a5c"
      },
      "source": [
        "<br>\n",
        "\n",
        "## Task 17\n",
        "\n",
        "Test the code below and guess its purpose, or read about it on the Internet.\n",
        "```python\n",
        "import time\n",
        "\n",
        "start = time.time()\n",
        "time.sleep(3)\n",
        "end = time.time()\n",
        "print(end - start)\n",
        "```\n",
        "\n",
        "Write the function `equation_game`. The function is to use the above code to run a game testing the efficiency of solving equations of the type \"10 + ... = 20\".\n",
        "\n",
        "- The function prints out subsequent equations to be solved for about 30 seconds (the time from the start of the game to the display of the last equation is counted, the time limit can also be a parameter). After each equation is displayed, the user enters a number and it is checked whether it is a correct solution. Be sure to use the function written in the previous task.\n",
        "- Points are awarded for correct solutions. Propose your own scoring system.\n",
        "- At the end, the result should be printed out. Regardless of the invented score, the user should know how many correct and incorrect answers there were.\n",
        "\n",
        "#### Modification for the ambitious:\n",
        "\n",
        "You can expand the task so that at the end you can additionally display equations with incorrect answers, answers provided by the user, and correct answers. What data structures would be useful here? What should the function from the previous task additionally return in such a case?"
      ]
    },
    {
      "cell_type": "code",
      "execution_count": 24,
      "id": "6b44d739",
      "metadata": {
        "id": "6b44d739",
        "colab": {
          "base_uri": "https://localhost:8080/"
        },
        "outputId": "74f67d96-8239-4e99-ec28-d7ec26e806a3"
      },
      "outputs": [
        {
          "output_type": "stream",
          "name": "stdout",
          "text": [
            "4 + ... = 28\n",
            "Enter a integer:24\n",
            "24 It is a positive integer.\n",
            "Correct answer!\n",
            "\n",
            "12 + ... = 23\n",
            "Enter a integer:11\n",
            "11 It is a positive integer.\n",
            "Correct answer!\n",
            "\n",
            "13 + ... = 23\n",
            "Enter a integer:10\n",
            "10 It is a positive integer.\n",
            "Correct answer!\n",
            "\n",
            "15 + ... = 30\n",
            "Enter a integer:15\n",
            "15 It is a positive integer.\n",
            "Correct answer!\n",
            "\n",
            "15 + ... = 26\n",
            "Enter a integer:11\n",
            "11 It is a positive integer.\n",
            "Correct answer!\n",
            "\n",
            "5 + ... = 24\n",
            "Enter a integer:19\n",
            "19 It is a positive integer.\n",
            "Correct answer!\n",
            "\n",
            "9 + ... = 20\n",
            "Enter a integer:11\n",
            "11 It is a positive integer.\n",
            "Correct answer!\n",
            "\n",
            "13 + ... = 29\n",
            "Enter a integer:16\n",
            "16 It is a positive integer.\n",
            "Correct answer!\n",
            "\n",
            "7 + ... = 28\n",
            "Enter a integer:21\n",
            "21 It is a positive integer.\n",
            "Correct answer!\n",
            "\n",
            "Correct answers: 9\n",
            "Incorrect answers: 0\n"
          ]
        }
      ],
      "source": [
        "# Solution of exercise 17.\n",
        "import time\n",
        "def equation_game(time_limit):\n",
        "    start = time.time()\n",
        "    end = start + time_limit\n",
        "    score = 0\n",
        "    fscore = 0\n",
        "    for i in range(time_limit):\n",
        "        while time.time() < end:\n",
        "          if is_correct_equation_solution():\n",
        "              print(\"Correct answer!\\n\")\n",
        "              score += 1\n",
        "          else:\n",
        "              print(\"Incorrect answer. Try again.\\n\")\n",
        "              fscore += 1\n",
        "    print(\"Correct answers:\", score)\n",
        "    print(\"Incorrect answers:\", fscore)\n",
        "equation_game(30)\n"
      ]
    }
  ],
  "metadata": {
    "kernelspec": {
      "display_name": "Python 3",
      "language": "python",
      "name": "python3"
    },
    "language_info": {
      "codemirror_mode": {
        "name": "ipython",
        "version": 3
      },
      "file_extension": ".py",
      "mimetype": "text/x-python",
      "name": "python",
      "nbconvert_exporter": "python",
      "pygments_lexer": "ipython3",
      "version": "3.8.1"
    },
    "colab": {
      "provenance": []
    }
  },
  "nbformat": 4,
  "nbformat_minor": 5
}