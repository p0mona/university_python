{
  "cells": [
    {
      "cell_type": "markdown",
      "id": "1ab596b9",
      "metadata": {
        "id": "1ab596b9"
      },
      "source": [
        "## Task 1 - Lists: Basic Operations\n",
        "\n",
        "The task aims to practice functions and methods mentioned in the lecture.\n",
        "\n",
        "1. Create a list `beverages` with the elements `\"tea\"`, `\"coffee\"`, `\"juice\"`, `\"tea\"`. Print it.\n",
        "2. Check the type of the variable `beverages`.\n",
        "3. Print the length of the list.\n",
        "4. Add two drinks `\"milk\"` and `\"cider\"` to the end of the list. Do this in two ways: first by adding each drink separately (find the method in the lecture), and then by concatenating lists (using the `+` operator). Print the list after each method. Can the elements of the list repeat?\n",
        "5. Add the drink `\"milk\"` to the beginning of the list.\n",
        "6. Using an appropriate method, calculate how many times the drink `\"milk\"` appears in the list and print the result.\n",
        "7. Remove the element `\"milk\"` from the list. Print the list. How many elements were removed?\n",
        "8. Print the index of the element `\"tea\"`. How many indices were printed?\n",
        "9. Remove the last element of the list. Do this in two ways: first using the `pop` method, and second using the `del` command with the `len` function. Print the list each time. Which of these methods allows you to store the value of the removed element in a variable?\n",
        "10. Reverse the order of the elements in the list. Print the list.\n",
        "11. Clear the entire list using the `clear` method. Print the variable `beverages`. Check its type.\n",
        "12. Delete the variable `beverages` using the `del` command. Try printing `beverages`.\n",
        "\n",
        "\n",
        "Hints:\n",
        "- **Step 3:** Use the built-in `len` function from the standard library.\n",
        "- **Step 5:** Use the `insert` method.\n",
        "- **Step 7:** Use the `remove` method.\n",
        "- **Step 8:** Use the `index` method."
      ]
    },
    {
      "cell_type": "code",
      "execution_count": 1,
      "id": "6fa4807f",
      "metadata": {
        "colab": {
          "base_uri": "https://localhost:8080/",
          "height": 411
        },
        "id": "6fa4807f",
        "outputId": "6fc55305-a5ac-414b-ca09-f86649978cfb"
      },
      "outputs": [
        {
          "output_type": "stream",
          "name": "stdout",
          "text": [
            "<class 'list'>\n",
            "4\n",
            "['tea', 'coffee', 'juice', 'tea', 'milk', 'cider']\n",
            "['tea', 'coffee', 'juice', 'tea', 'milk', 'cider', 'milk', 'cider']\n",
            "['milk', 'tea', 'coffee', 'juice', 'tea', 'milk', 'cider', 'milk', 'cider']\n",
            "3\n",
            "['tea', 'coffee', 'juice', 'tea', 'milk', 'cider', 'milk', 'cider']\n",
            "0\n",
            "['tea', 'coffee', 'juice', 'tea', 'milk', 'cider', 'milk']\n",
            "['tea', 'coffee', 'juice', 'tea', 'milk', 'cider']\n",
            "6\n",
            "['cider', 'milk', 'tea', 'juice', 'coffee', 'tea']\n",
            "['cider', 'milk', 'tea', 'juice', 'coffee', 'tea']\n",
            "[] <class 'list'>\n"
          ]
        },
        {
          "output_type": "error",
          "ename": "NameError",
          "evalue": "name 'beverages' is not defined",
          "traceback": [
            "\u001b[0;31m---------------------------------------------------------------------------\u001b[0m",
            "\u001b[0;31mNameError\u001b[0m                                 Traceback (most recent call last)",
            "\u001b[0;32m<ipython-input-1-b77b320b2acd>\u001b[0m in \u001b[0;36m<cell line: 27>\u001b[0;34m()\u001b[0m\n\u001b[1;32m     25\u001b[0m \u001b[0mprint\u001b[0m\u001b[0;34m(\u001b[0m\u001b[0mbeverages\u001b[0m\u001b[0;34m,\u001b[0m \u001b[0mtype\u001b[0m\u001b[0;34m(\u001b[0m\u001b[0mbeverages\u001b[0m\u001b[0;34m)\u001b[0m\u001b[0;34m)\u001b[0m\u001b[0;34m\u001b[0m\u001b[0;34m\u001b[0m\u001b[0m\n\u001b[1;32m     26\u001b[0m \u001b[0;32mdel\u001b[0m \u001b[0mbeverages\u001b[0m\u001b[0;34m\u001b[0m\u001b[0;34m\u001b[0m\u001b[0m\n\u001b[0;32m---> 27\u001b[0;31m \u001b[0mprint\u001b[0m\u001b[0;34m(\u001b[0m\u001b[0mbeverages\u001b[0m\u001b[0;34m)\u001b[0m\u001b[0;34m\u001b[0m\u001b[0;34m\u001b[0m\u001b[0m\n\u001b[0m",
            "\u001b[0;31mNameError\u001b[0m: name 'beverages' is not defined"
          ]
        }
      ],
      "source": [
        "# Solution of exercise 1.\n",
        "beverages = [\"tea\", \"coffee\", \"juice\", \"tea\"]\n",
        "print(type(beverages))\n",
        "print(len(beverages))\n",
        "beverages = beverages + [\"milk\", \"cider\"]\n",
        "print(beverages)\n",
        "beverages.append(\"milk\")\n",
        "beverages.append(\"cider\")\n",
        "print(beverages)\n",
        "beverages.insert(0,\"milk\")\n",
        "print(beverages)\n",
        "print(beverages.count(\"milk\"))\n",
        "beverages.remove(\"milk\")\n",
        "print(beverages)\n",
        "print(beverages.index(\"tea\"))\n",
        "beverages.pop(-1)\n",
        "print(beverages)\n",
        "del beverages[-1]\n",
        "print(beverages)\n",
        "print(len(beverages))\n",
        "print(beverages[::-1])\n",
        "beverages.reverse()\n",
        "print(beverages)\n",
        "beverages.clear()\n",
        "print(beverages, type(beverages))\n",
        "del beverages\n",
        "print(beverages)"
      ]
    },
    {
      "cell_type": "markdown",
      "id": "9ec70543",
      "metadata": {
        "id": "9ec70543"
      },
      "source": [
        "## Task 2 - Lists: Indexing and Slicing\n",
        "\n",
        "This task may benefit from the guide at [Railsware: Indexing and Slicing](https://railsware.com/blog/indexing-and-slicing-for-lists-tuples-strings-sequential-types/).\n",
        "\n",
        "1. Create a list `num` with the elements `1, 2, 3, 4, 5, 6, 7`. Print it.\n",
        "2. Print the first element of the list.\n",
        "3. Print the last element of the list in three ways:  \n",
        "   - By providing the index value (a number),  \n",
        "   - By calculating the index using the `len` function,  \n",
        "   - By using a negative index.\n",
        "4. Create a slice of the list `num` containing the elements `3, 4, 5`. Be sure to use the `:` notation. Assign the result to the variable `slice` and print it.\n",
        "5. Create a slice consisting of the first 3 elements of the list `num` and print it. Use only one number when defining the slice.\n",
        "6. Create a slice consisting of the last 3 elements of the list `num` and print it. Use only one number when defining the slice."
      ]
    },
    {
      "cell_type": "code",
      "execution_count": 2,
      "id": "24f83e65",
      "metadata": {
        "colab": {
          "base_uri": "https://localhost:8080/"
        },
        "id": "24f83e65",
        "outputId": "2462b6aa-26c1-4be1-ac6f-7b57926c744c"
      },
      "outputs": [
        {
          "output_type": "stream",
          "name": "stdout",
          "text": [
            "[1, 2, 3, 4, 5, 6, 7]\n",
            "1\n",
            "7\n",
            "7\n",
            "7\n",
            "[3, 4, 5]\n",
            "[1, 2, 3]\n",
            "[5, 6, 7]\n"
          ]
        }
      ],
      "source": [
        "# Solution of exercise 2.\n",
        "num = [1, 2, 3, 4, 5, 6, 7]\n",
        "print(num)\n",
        "print(num[0])\n",
        "print(num[6])\n",
        "num3 = len(num)-1\n",
        "num1 = num[num3]\n",
        "print(num1)\n",
        "print(num[-1])\n",
        "slice = num[2:5]\n",
        "print(slice)\n",
        "print(num[:3])\n",
        "print(num[4:])"
      ]
    },
    {
      "cell_type": "markdown",
      "id": "9fbe7e96",
      "metadata": {
        "id": "9fbe7e96"
      },
      "source": [
        "## Task 3 - Lists of Lists\n",
        "\n",
        "1. Create a list `arr` with two elements. The first element of the list is `[1, 2, 3]`, and the second is `[4, 5, 6]`. Print it.\n",
        "2. Check the type of `arr` and the types of both its elements.\n",
        "3. Using double indexing, print each of the three elements of `arr[1]` one by one: first print the number `4`, then `5`, and finally `6`."
      ]
    },
    {
      "cell_type": "code",
      "execution_count": 3,
      "id": "cbb7e737",
      "metadata": {
        "colab": {
          "base_uri": "https://localhost:8080/"
        },
        "id": "cbb7e737",
        "outputId": "14a55dcf-ab3d-45ce-d880-f09029b8e51f"
      },
      "outputs": [
        {
          "output_type": "stream",
          "name": "stdout",
          "text": [
            "[[1, 2, 3], [4, 5, 6]]\n",
            "<class 'list'>\n",
            "<class 'list'>\n",
            "<class 'list'>\n",
            "4\n",
            "5\n",
            "6\n"
          ]
        }
      ],
      "source": [
        "# Solution of exercise 3.\n",
        "arr = [[1,2,3],[4,5,6]]\n",
        "print(arr)\n",
        "print(type(arr))\n",
        "print(type(arr[0]))\n",
        "print(type(arr[1]))\n",
        "print(arr[1][0])\n",
        "print(arr[1][1])\n",
        "print(arr[1][2])"
      ]
    },
    {
      "cell_type": "markdown",
      "id": "2115bfe9",
      "metadata": {
        "id": "2115bfe9"
      },
      "source": [
        "## Task 4 - Dictionaries\n",
        "\n",
        "1. Create a dictionary `bev_prices`. The keys should be beverages: `\"orange juice\"`, `\"apple juice\"`, `\"milk\"`, and the values should be prices: `8`, `7`, `5`. Print `bev_prices`. Check the type of `bev_prices`.\n",
        "2. Print the length of the dictionary, i.e., the number of entries.\n",
        "3. Print the price of milk in two ways:  \n",
        "   - Using square bracket notation,  \n",
        "   - Using the `get` method.\n",
        "4. Add two new entries to the dictionary: `\"tea\"` with a price of `10` and `\"coffee\"` with a price of `12`. Add the first entry using square bracket notation and the second using a method discussed in the lecture. Print the dictionary.\n",
        "5. Change the price of `\"tea\"` to `9` and `\"coffee\"` to `11`. Make the first change using square bracket notation and the second using a method discussed in the lecture. Print the dictionary.\n",
        "6. Use the `get` method to print the value associated with a non-existent key `\"buttermilk\"`. Call `get` with only one argument.\n",
        "7. Remove the entry with the key `\"tea\"` from the dictionary using the `del` command. Print the dictionary.\n",
        "8. Remove the entry with the key `\"coffee\"` from the dictionary using the `pop` method. Print the dictionary.\n",
        "9. Clear the entire dictionary using the `clear` method. Print the dictionary after clearing it.\n",
        "10. Delete the variable `bev_prices` using the `del` command. Try printing `bev_prices`.\n",
        "\n",
        "### Hints:\n",
        "- **Step 2:** Use the built-in `len` function from the standard library.  \n",
        "- **Steps 7 and 8:** Descriptions of `del` and `pop` can be found at [Career Karma: Remove Key from a Dictionary](https://careerkarma.com/blog/python-remove-key-from-a-dictionary/)."
      ]
    },
    {
      "cell_type": "code",
      "execution_count": 6,
      "id": "efbd752f",
      "metadata": {
        "id": "efbd752f",
        "colab": {
          "base_uri": "https://localhost:8080/",
          "height": 360
        },
        "outputId": "a0c36f0c-4d8a-41d6-846d-8dc7ce466a18"
      },
      "outputs": [
        {
          "output_type": "stream",
          "name": "stdout",
          "text": [
            "{'orange juice': 8, 'apple juice': 7, 'milk': 5} <class 'dict'>\n",
            "3\n",
            "5\n",
            "5\n",
            "{'orange juice': 8, 'apple juice': 7, 'milk': 5, 'tea': 10}\n",
            "{'orange juice': 8, 'apple juice': 7, 'milk': 5, 'tea': 10, 'coffee': 12}\n",
            "{'orange juice': 8, 'apple juice': 7, 'milk': 5, 'tea': 9, 'coffee': 11}\n",
            "None\n",
            "{'orange juice': 8, 'apple juice': 7, 'milk': 5, 'coffee': 11}\n",
            "{'orange juice': 8, 'apple juice': 7, 'milk': 5}\n",
            "{}\n"
          ]
        },
        {
          "output_type": "error",
          "ename": "NameError",
          "evalue": "name 'bev_prices' is not defined",
          "traceback": [
            "\u001b[0;31m---------------------------------------------------------------------------\u001b[0m",
            "\u001b[0;31mNameError\u001b[0m                                 Traceback (most recent call last)",
            "\u001b[0;32m<ipython-input-6-d3b5ab858b23>\u001b[0m in \u001b[0;36m<cell line: 22>\u001b[0;34m()\u001b[0m\n\u001b[1;32m     20\u001b[0m \u001b[0mprint\u001b[0m\u001b[0;34m(\u001b[0m\u001b[0mbev_prices\u001b[0m\u001b[0;34m)\u001b[0m\u001b[0;34m\u001b[0m\u001b[0;34m\u001b[0m\u001b[0m\n\u001b[1;32m     21\u001b[0m \u001b[0;32mdel\u001b[0m \u001b[0mbev_prices\u001b[0m\u001b[0;34m\u001b[0m\u001b[0;34m\u001b[0m\u001b[0m\n\u001b[0;32m---> 22\u001b[0;31m \u001b[0mprint\u001b[0m\u001b[0;34m(\u001b[0m\u001b[0mbev_prices\u001b[0m\u001b[0;34m)\u001b[0m\u001b[0;34m\u001b[0m\u001b[0;34m\u001b[0m\u001b[0m\n\u001b[0m",
            "\u001b[0;31mNameError\u001b[0m: name 'bev_prices' is not defined"
          ]
        }
      ],
      "source": [
        "# Solution of exercise 4.\n",
        "bev_prices = {\"orange juice\" : 8, \"apple juice\" : 7, \"milk\" : 5}\n",
        "print(bev_prices, type(bev_prices))\n",
        "print(len(bev_prices))\n",
        "print(bev_prices[\"milk\"])\n",
        "print(bev_prices.get(\"milk\"))\n",
        "bev_prices[\"tea\"] = 10\n",
        "print(bev_prices)\n",
        "bev_prices.update({\"coffee\" : 12})\n",
        "print(bev_prices)\n",
        "bev_prices[\"tea\"] = 9\n",
        "bev_prices.update({\"coffee\" : 11})\n",
        "print(bev_prices)\n",
        "print(bev_prices.get(\"buttermilk\"))\n",
        "del bev_prices[\"tea\"]\n",
        "print(bev_prices)\n",
        "bev_prices.pop(\"coffee\")\n",
        "print(bev_prices)\n",
        "bev_prices.clear()\n",
        "print(bev_prices)\n",
        "del bev_prices\n",
        "print(bev_prices)"
      ]
    },
    {
      "cell_type": "markdown",
      "id": "7b827f0b",
      "metadata": {
        "id": "7b827f0b"
      },
      "source": [
        "## Task 5 - Tuples: Basic Operations\n",
        "\n",
        "This task is modeled after Task 1. Commands that cannot be performed on tuples are crossed out.\n",
        "\n",
        "1. Create a tuple `beverages` with the elements `\"tea\"`, `\"coffee\"`, `\"juice\"`, `\"tea\"`. Print it.\n",
        "2. Check the type of the variable `beverages`.\n",
        "3. Print the length of the tuple.\n",
        "4. ~~Add drinks to the end of the tuple: ....~~\n",
        "5. ~~Add a drink ... to the beginning of the tuple.~~\n",
        "6. Using an appropriate method, calculate how many times the drink `\"tea\"` appears in the tuple and print the result. Do the same for `\"milk\"`.\n",
        "7. ~~Remove an element with the value .... from the tuple.~~\n",
        "8. Print the index of the element with the value `\"tea\"`. How many indices were printed?\n",
        "9. ~~Remove the last element of the tuple.~~\n",
        "10. ~~Reverse the order of elements in the tuple.~~\n",
        "11. ~~Clear the entire tuple using the `clear` method.~~\n",
        "12. Delete the variable `beverages` using the `del` command. Try printing `beverages`.\n",
        "\n",
        "### Hints:\n",
        "- **Step 3:** Use the built-in `len` function from the standard library, just like for lists.\n",
        "- **Step 6:** Use the `count` method, just like for lists.\n",
        "- **Step 8:** Use the `index` method, just like for lists."
      ]
    },
    {
      "cell_type": "code",
      "execution_count": 9,
      "id": "cc0eb545",
      "metadata": {
        "id": "cc0eb545",
        "colab": {
          "base_uri": "https://localhost:8080/",
          "height": 258
        },
        "outputId": "d251fd6b-4e49-4136-bd13-1b5be61a9422"
      },
      "outputs": [
        {
          "output_type": "stream",
          "name": "stdout",
          "text": [
            "('tea', 'coffee', 'juice', 'tea')\n",
            "<class 'tuple'>\n",
            "4\n",
            "2\n",
            "0\n"
          ]
        },
        {
          "output_type": "error",
          "ename": "NameError",
          "evalue": "name 'beverages' is not defined",
          "traceback": [
            "\u001b[0;31m---------------------------------------------------------------------------\u001b[0m",
            "\u001b[0;31mNameError\u001b[0m                                 Traceback (most recent call last)",
            "\u001b[0;32m<ipython-input-9-ce6fbfd3d2ec>\u001b[0m in \u001b[0;36m<cell line: 9>\u001b[0;34m()\u001b[0m\n\u001b[1;32m      7\u001b[0m \u001b[0mprint\u001b[0m\u001b[0;34m(\u001b[0m\u001b[0mbeverages\u001b[0m\u001b[0;34m.\u001b[0m\u001b[0mindex\u001b[0m\u001b[0;34m(\u001b[0m\u001b[0;34m\"tea\"\u001b[0m\u001b[0;34m)\u001b[0m\u001b[0;34m)\u001b[0m\u001b[0;34m\u001b[0m\u001b[0;34m\u001b[0m\u001b[0m\n\u001b[1;32m      8\u001b[0m \u001b[0;32mdel\u001b[0m \u001b[0mbeverages\u001b[0m\u001b[0;34m\u001b[0m\u001b[0;34m\u001b[0m\u001b[0m\n\u001b[0;32m----> 9\u001b[0;31m \u001b[0mprint\u001b[0m\u001b[0;34m(\u001b[0m\u001b[0mbeverages\u001b[0m\u001b[0;34m)\u001b[0m\u001b[0;34m\u001b[0m\u001b[0;34m\u001b[0m\u001b[0m\n\u001b[0m",
            "\u001b[0;31mNameError\u001b[0m: name 'beverages' is not defined"
          ]
        }
      ],
      "source": [
        "# Solution of exercise 5.\n",
        "beverages = \"tea\", \"coffee\", \"juice\", \"tea\"\n",
        "print(beverages)\n",
        "print(type(beverages))\n",
        "print(len(beverages))\n",
        "print(beverages.count(\"tea\"))\n",
        "print(beverages.index(\"tea\"))\n",
        "del beverages\n",
        "print(beverages)"
      ]
    },
    {
      "cell_type": "markdown",
      "id": "e4fa3964",
      "metadata": {
        "id": "e4fa3964"
      },
      "source": [
        "## Task 6 - Tuples: Indexing and Slicing\n",
        "\n",
        "This task is modeled after Task 2.\n",
        "\n",
        "1. Create a tuple `num` with the elements `1, 2, 3, 4, 5, 6, 7`. Print it.\n",
        "2. Print the first element of the tuple.\n",
        "3. Print the last element of the tuple in three ways:  \n",
        "   - By providing the index value (a number),  \n",
        "   - By calculating the index using the `len` function,  \n",
        "   - By using a negative index.\n",
        "4. Create a slice of the tuple `num` containing the elements `3, 4, 5`. Be sure to use the `:` notation. Assign the result to the variable `slice` and print it.\n",
        "5. Create a slice consisting of the first 3 elements of the tuple `num` and print it. Use only one number when defining the slice.\n",
        "6. Create a slice consisting of the last 3 elements of the tuple `num` and print it. Use only one number when defining the slice."
      ]
    },
    {
      "cell_type": "code",
      "execution_count": 10,
      "id": "ae6ceba4",
      "metadata": {
        "id": "ae6ceba4",
        "colab": {
          "base_uri": "https://localhost:8080/"
        },
        "outputId": "163995a6-05c0-41cf-c5c5-5cec103220b5"
      },
      "outputs": [
        {
          "output_type": "stream",
          "name": "stdout",
          "text": [
            "(1, 2, 3, 4, 5, 6, 7)\n",
            "1\n",
            "7\n",
            "7\n",
            "7\n",
            "(3, 4, 5)\n",
            "(1, 2, 3)\n",
            "(5, 6, 7)\n"
          ]
        }
      ],
      "source": [
        "# Solution of exercise 6.\n",
        "num = (1, 2, 3, 4, 5, 6, 7)\n",
        "print(num)\n",
        "print(num[0])\n",
        "print(num[6])\n",
        "print(num[len(num)-1])\n",
        "print(num[-1])\n",
        "slice = num[2:5]\n",
        "print(slice)\n",
        "print(num[:3])\n",
        "print(num[4:])"
      ]
    },
    {
      "cell_type": "markdown",
      "id": "6e8de9b8",
      "metadata": {
        "id": "6e8de9b8"
      },
      "source": [
        "## Task 7 - Reinforcement: Tuples of Tuples\n",
        "\n",
        "This task is modeled after Task 3.\n",
        "\n",
        "1. Create a tuple `arr` with two elements. The first element of the tuple is `(1, 2, 3)`, and the second is `(4, 5, 6)`. Print it.\n",
        "2. Check the type of `arr` and the types of both its elements.\n",
        "3. Using double indexing, print each of the three elements of `arr[1]` one by one: first print the number `4`, then `5`, and finally `6`."
      ]
    },
    {
      "cell_type": "code",
      "execution_count": 11,
      "id": "ca5be546",
      "metadata": {
        "id": "ca5be546",
        "colab": {
          "base_uri": "https://localhost:8080/"
        },
        "outputId": "f223bbb3-4391-439f-f572-1d31367442c4"
      },
      "outputs": [
        {
          "output_type": "stream",
          "name": "stdout",
          "text": [
            "((1, 2, 3), (4, 5, 6)) <class 'tuple'>\n",
            "<class 'tuple'>\n",
            "<class 'tuple'>\n",
            "4\n",
            "5\n",
            "6\n"
          ]
        }
      ],
      "source": [
        "# Solution of exercise 7.\n",
        "arr = ((1,2,3),(4,5,6))\n",
        "print(arr, type(arr))\n",
        "print(type(arr[0]))\n",
        "print(type(arr[1]))\n",
        "print(arr[1][0])\n",
        "print(arr[1][1])\n",
        "print(arr[1][2])"
      ]
    },
    {
      "cell_type": "markdown",
      "id": "909188fb",
      "metadata": {
        "id": "909188fb"
      },
      "source": [
        "## Task 8 - Reinforcement: Lists, Dictionaries, Tuples of Length 0 and 1\n",
        "\n",
        "1. Use the magic command `%reset` to remove all variables created in previous tasks. Then use the magic command `%whos` to check if they have been removed.\n",
        "2. Create an empty dictionary, an empty list, and an empty tuple using the appropriate brackets. Use `%whos` to check if they have been created.\n",
        "3. Create an empty dictionary, an empty list, and an empty tuple using the appropriate functions. Use `%whos` to check if they have been created.\n",
        "4. Create a dictionary, a list, and a tuple of length 1. Use `%whos` to check if they have been created. Carefully verify the types of the variables."
      ]
    },
    {
      "cell_type": "code",
      "execution_count": 12,
      "id": "9cd73438",
      "metadata": {
        "id": "9cd73438",
        "colab": {
          "base_uri": "https://localhost:8080/"
        },
        "outputId": "8c4bba61-275d-4392-ca5c-2d57a6523402"
      },
      "outputs": [
        {
          "output_type": "stream",
          "name": "stdout",
          "text": [
            "Once deleted, variables cannot be recovered. Proceed (y/[n])? y\n",
            "Interactive namespace is empty.\n",
            "Variable   Type     Data/Info\n",
            "-----------------------------\n",
            "k2         tuple    n=0\n",
            "l2         list     n=0\n",
            "s2         dict     n=0\n",
            "Variable   Type     Data/Info\n",
            "-----------------------------\n",
            "k2         tuple    n=0\n",
            "k3         tuple    n=0\n",
            "l2         list     n=0\n",
            "l3         list     n=0\n",
            "s2         dict     n=0\n",
            "s3         dict     n=0\n",
            "Variable   Type     Data/Info\n",
            "-----------------------------\n",
            "k2         tuple    n=0\n",
            "k3         tuple    n=0\n",
            "k4         tuple    n=1\n",
            "l2         list     n=0\n",
            "l3         list     n=0\n",
            "l4         list     n=1\n",
            "s2         dict     n=0\n",
            "s3         dict     n=0\n",
            "s4         dict     n=1\n",
            "<class 'dict'> <class 'list'> <class 'tuple'>\n"
          ]
        }
      ],
      "source": [
        "# Solution of exercise 8.\n",
        "%reset\n",
        "%whos\n",
        "s2 = {}\n",
        "l2 = []\n",
        "k2 = ()\n",
        "%whos\n",
        "s3 = dict()\n",
        "l3 = list()\n",
        "k3 = tuple()\n",
        "%whos\n",
        "s4 = {\"lala\" : 4}\n",
        "l4 = [\"lala4\"]\n",
        "k4 = (\"lala4\",)\n",
        "%whos\n",
        "print(type(s4), type(l4), type(k4))"
      ]
    },
    {
      "cell_type": "markdown",
      "id": "5d415477",
      "metadata": {
        "id": "5d415477"
      },
      "source": [
        "## Task 9 - Reinforcement: Conversions Between Lists, Dictionaries, and Tuples Using `list`, `tuple`, and `dict`\n",
        "\n",
        "1. Create a multi-element list. Print it and its type.\n",
        "2. Create a tuple based on the list. Use the appropriate conversion function. Print the tuple and its type.\n",
        "3. Attempt to create a dictionary based on the list. Use the appropriate conversion function."
      ]
    },
    {
      "cell_type": "code",
      "execution_count": 14,
      "id": "0027b265",
      "metadata": {
        "id": "0027b265",
        "colab": {
          "base_uri": "https://localhost:8080/"
        },
        "outputId": "9a957949-73c3-452b-bcc2-6728c6099e87"
      },
      "outputs": [
        {
          "output_type": "stream",
          "name": "stdout",
          "text": [
            "[1, 2, 3, 4] <class 'list'>\n",
            "(1, 2, 3, 4) <class 'tuple'>\n",
            "{1: 'liczba', 2: 'liczba', 3: 'liczba', 4: 'liczba'} <class 'dict'>\n",
            "[1, 2, 3, 4] <class 'list'>\n",
            "(1, 2, 3, 4) <class 'tuple'>\n"
          ]
        }
      ],
      "source": [
        "#1\n",
        "l1 = [1,2,3,4]\n",
        "print(l1, type(l1))\n",
        "k1 = tuple(l1)\n",
        "print(k1,type(k1))\n",
        "s1 = dict.fromkeys(l1, \"liczba\")\n",
        "print(s1, type(s1))\n",
        "\n",
        "#2\n",
        "l2 = [1,2,3,4]\n",
        "print(l2, type(l2))\n",
        "k2 = tuple(l2)\n",
        "print(k2,type(k2))\n",
        "# s2 = dict(l2)\n",
        "# print(s2, type(s2))\n"
      ]
    },
    {
      "cell_type": "markdown",
      "id": "69b990f0",
      "metadata": {
        "id": "69b990f0"
      },
      "source": [
        "\n",
        "1. Create a multi-element tuple. Print it and its type.\n",
        "2. Create a list based on the tuple. Use the appropriate conversion function. Print the list and its type.\n",
        "3. Attempt to create a dictionary based on the tuple. Use the appropriate conversion function."
      ]
    },
    {
      "cell_type": "code",
      "execution_count": 16,
      "id": "de1381f6",
      "metadata": {
        "id": "de1381f6",
        "colab": {
          "base_uri": "https://localhost:8080/"
        },
        "outputId": "2ca3ada4-6aaa-44b7-d1f0-16512efe94f2"
      },
      "outputs": [
        {
          "output_type": "stream",
          "name": "stdout",
          "text": [
            "(1, 2, 'milk') <class 'tuple'>\n",
            "[1, 2, 'milk'] <class 'list'>\n",
            "{1: 'zmienna', 2: 'zmienna', 'milk': 'zmienna'} <class 'dict'>\n",
            "(1, 2, 'milk') <class 'tuple'>\n",
            "[1, 2, 'milk'] <class 'list'>\n"
          ]
        }
      ],
      "source": [
        "#1\n",
        "kro1 = (1, 2, \"milk\")\n",
        "print(kro1, type(kro1))\n",
        "li1 = list(kro1)\n",
        "print(li1,type(li1))\n",
        "sl1 = dict.fromkeys(kro1, \"zmienna\")\n",
        "print(sl1,type(sl1))\n",
        "\n",
        "\n",
        "#2\n",
        "kro2 = (1, 2, \"milk\")\n",
        "print(kro2, type(kro2))\n",
        "li2 = list(kro2)\n",
        "print(li2,type(li2))\n",
        "# sl2 = dict(kro2)\n",
        "# print(sl2,type(sl2))"
      ]
    },
    {
      "cell_type": "markdown",
      "id": "1ab6d220",
      "metadata": {
        "id": "1ab6d220"
      },
      "source": [
        "\n",
        "\n",
        "1. Create a multi-element dictionary. Print it and its type.\n",
        "2. Create a list based on the dictionary. Use the appropriate conversion function. Print the list and its type.\n",
        "3. Create a tuple based on the dictionary. Use the appropriate conversion function. Print the tuple and its type."
      ]
    },
    {
      "cell_type": "code",
      "execution_count": 17,
      "id": "c7fd0d8c",
      "metadata": {
        "id": "c7fd0d8c",
        "colab": {
          "base_uri": "https://localhost:8080/"
        },
        "outputId": "e71ebe2d-2e0f-474b-9847-93a34c16ab72"
      },
      "outputs": [
        {
          "output_type": "stream",
          "name": "stdout",
          "text": [
            "{'mom': 1, 'grandma': 2, 'uncle': 3} <class 'dict'>\n",
            "['mom', 'grandma', 'uncle'] <class 'list'>\n",
            "('mom', 'grandma', 'uncle') <class 'tuple'>\n"
          ]
        }
      ],
      "source": [
        "d = {\"mom\" : 1, \"grandma\" : 2, \"uncle\" : 3}\n",
        "print(d, type(d))\n",
        "lis = list(d)\n",
        "print(lis, type(lis))\n",
        "krot = tuple(d)\n",
        "print(krot, type(krot))"
      ]
    },
    {
      "cell_type": "markdown",
      "id": "18e64b7a",
      "metadata": {
        "id": "18e64b7a"
      },
      "source": [
        "## Task 10 - Reinforcement: The `in` Operator\n",
        "\n",
        "The `in` operator is used to check if an element belongs to a list, tuple, or dictionary. Test its behavior.\n",
        "\n",
        "- Create the following list, tuple, and dictionary:\n",
        "```python\n",
        "var_list = [11, 12, 13]\n",
        "var_tuple = (11, 12, 13)\n",
        "var_dict = {\"key1\":11, \"key2\":12, \"key3\":13}\n",
        "```\n",
        "- Create and print logical statements checking if:\n",
        "    - The number 11 is in the list,\n",
        "    - The number 21 is in the list,\n",
        "    - The number 11 is in the tuple,\n",
        "    - The number 21 is in the tuple,\n",
        "    - The number 11 is in the dictionary,\n",
        "    - The string `\"key1\"` is in the dictionary (remember to use quotes).\n",
        "    \n",
        "If you have difficulty writing the conditions intuitively, refer to this page: [in and not in operators in Python](https://www.askpython.com/python/examples/in-and-not-in-operators-in-python).   "
      ]
    },
    {
      "cell_type": "code",
      "execution_count": 18,
      "id": "608d3a20",
      "metadata": {
        "id": "608d3a20",
        "colab": {
          "base_uri": "https://localhost:8080/"
        },
        "outputId": "fd0faa79-4796-4307-e1f1-958fbe4e3d10"
      },
      "outputs": [
        {
          "output_type": "stream",
          "name": "stdout",
          "text": [
            "True\n",
            "False\n",
            "True\n",
            "False\n",
            "False\n",
            "True\n"
          ]
        }
      ],
      "source": [
        "# Solution of exercise 10.\n",
        "var_list = [11, 12, 13]\n",
        "var_tuple = (11, 12, 13)\n",
        "var_dict = {\"key1\":11, \"key2\":12, \"Key3\":13}\n",
        "print(11 in var_list)\n",
        "print(21 in var_list)\n",
        "print(11 in var_tuple)\n",
        "print(21 in var_tuple)\n",
        "print(11 in var_dict)\n",
        "print(\"key1\" in var_dict)"
      ]
    },
    {
      "cell_type": "markdown",
      "id": "acb0c333",
      "metadata": {
        "id": "acb0c333"
      },
      "source": [
        "## Task 11 - Reinforcement: Nesting Data Types\n",
        "\n",
        "- Create a two-element list where:\n",
        "    - The first element is a non-empty tuple,\n",
        "    - The second element is a non-empty dictionary.\n",
        "- Print a selected element from the tuple and a selected element from the dictionary."
      ]
    },
    {
      "cell_type": "code",
      "execution_count": 20,
      "id": "6c06891f",
      "metadata": {
        "id": "6c06891f",
        "colab": {
          "base_uri": "https://localhost:8080/",
          "height": 224
        },
        "outputId": "b5171d10-eb68-407b-e078-89915a102158"
      },
      "outputs": [
        {
          "output_type": "stream",
          "name": "stdout",
          "text": [
            "milk\n"
          ]
        },
        {
          "output_type": "error",
          "ename": "KeyError",
          "evalue": "1",
          "traceback": [
            "\u001b[0;31m---------------------------------------------------------------------------\u001b[0m",
            "\u001b[0;31mKeyError\u001b[0m                                  Traceback (most recent call last)",
            "\u001b[0;32m<ipython-input-20-0ea725b6db64>\u001b[0m in \u001b[0;36m<cell line: 3>\u001b[0;34m()\u001b[0m\n\u001b[1;32m      1\u001b[0m \u001b[0ml\u001b[0m \u001b[0;34m=\u001b[0m \u001b[0;34m[\u001b[0m\u001b[0;34m(\u001b[0m\u001b[0;36m9\u001b[0m\u001b[0;34m,\u001b[0m \u001b[0;36m4\u001b[0m\u001b[0;34m,\u001b[0m \u001b[0;34m'milk'\u001b[0m\u001b[0;34m)\u001b[0m\u001b[0;34m,\u001b[0m \u001b[0;34m{\u001b[0m\u001b[0;34m'I'\u001b[0m \u001b[0;34m:\u001b[0m \u001b[0;36m2\u001b[0m\u001b[0;34m,\u001b[0m \u001b[0;34m\"you\"\u001b[0m \u001b[0;34m:\u001b[0m \u001b[0;36m1\u001b[0m\u001b[0;34m}\u001b[0m\u001b[0;34m]\u001b[0m\u001b[0;34m\u001b[0m\u001b[0;34m\u001b[0m\u001b[0m\n\u001b[1;32m      2\u001b[0m \u001b[0mprint\u001b[0m\u001b[0;34m(\u001b[0m\u001b[0ml\u001b[0m\u001b[0;34m[\u001b[0m\u001b[0;36m0\u001b[0m\u001b[0;34m]\u001b[0m\u001b[0;34m[\u001b[0m\u001b[0;34m-\u001b[0m\u001b[0;36m1\u001b[0m\u001b[0;34m]\u001b[0m\u001b[0;34m)\u001b[0m\u001b[0;34m\u001b[0m\u001b[0;34m\u001b[0m\u001b[0m\n\u001b[0;32m----> 3\u001b[0;31m \u001b[0mprint\u001b[0m\u001b[0;34m(\u001b[0m\u001b[0ml\u001b[0m\u001b[0;34m[\u001b[0m\u001b[0;36m1\u001b[0m\u001b[0;34m]\u001b[0m\u001b[0;34m[\u001b[0m\u001b[0;36m1\u001b[0m\u001b[0;34m]\u001b[0m\u001b[0;34m)\u001b[0m\u001b[0;34m\u001b[0m\u001b[0;34m\u001b[0m\u001b[0m\n\u001b[0m\u001b[1;32m      4\u001b[0m \u001b[0;34m\u001b[0m\u001b[0m\n\u001b[1;32m      5\u001b[0m \u001b[0;31m#or\u001b[0m\u001b[0;34m\u001b[0m\u001b[0;34m\u001b[0m\u001b[0m\n",
            "\u001b[0;31mKeyError\u001b[0m: 1"
          ]
        }
      ],
      "source": [
        "l = [(9, 4, 'milk'), {'I' : 2, \"you\" : 1}]\n",
        "print(l[0][-1])\n",
        "print(l[1][1])\n",
        "\n",
        "#or\n",
        "l1 = [(9, 4, 'milk'), {'ja' : 2, \"ty\" : 1}]\n",
        "print(l1[0][-1])\n",
        "l2 = list(l1[1])\n",
        "print(l2[0])\n"
      ]
    },
    {
      "cell_type": "markdown",
      "id": "b280bcc7",
      "metadata": {
        "id": "b280bcc7"
      },
      "source": [
        "\n",
        "- Create a two-element tuple where:\n",
        "    - The first element is a non-empty list,\n",
        "    - The second element is a non-empty dictionary.\n",
        "- Print a selected element from the list and a selected element from the dictionary."
      ]
    },
    {
      "cell_type": "code",
      "execution_count": 22,
      "id": "8236263d",
      "metadata": {
        "id": "8236263d",
        "outputId": "f0cde258-458c-4d72-a5d0-e9aa794ad646",
        "colab": {
          "base_uri": "https://localhost:8080/"
        }
      },
      "outputs": [
        {
          "output_type": "stream",
          "name": "stdout",
          "text": [
            "3\n",
            "4\n",
            "3\n",
            "vegetables\n"
          ]
        }
      ],
      "source": [
        "k = ([1,2,3],{\"vegetables\" : 6, \"fruits\" : 4})\n",
        "print(k[0][2])\n",
        "print(k[1]['fruits'])\n",
        "\n",
        "#albo\n",
        "k1 = ([1,2,3],{\"vegetables\" : 6, \"fruits\" : 4})\n",
        "print(k1[0][2])\n",
        "k2 = tuple(k1[1])\n",
        "print(k2[0])\n"
      ]
    },
    {
      "cell_type": "markdown",
      "id": "ca04a39e",
      "metadata": {
        "id": "ca04a39e"
      },
      "source": [
        "\n",
        "\n",
        "- Create a dictionary of length 2, where:\n",
        "    - The value corresponding to the first key is a non-empty list,\n",
        "    - The value corresponding to the second key is a non-empty tuple.\n",
        "- Print a selected element from the list and a selected element from the tuple."
      ]
    },
    {
      "cell_type": "code",
      "execution_count": 23,
      "id": "bedb7ce6",
      "metadata": {
        "id": "bedb7ce6",
        "colab": {
          "base_uri": "https://localhost:8080/"
        },
        "outputId": "2e0e63de-5550-4c8f-95e7-3565d020735b"
      },
      "outputs": [
        {
          "output_type": "stream",
          "name": "stdout",
          "text": [
            "1 tea\n"
          ]
        }
      ],
      "source": [
        "sl = {1:[1,2,3], 2:(1,'tea')}\n",
        "print(sl[1][0],sl[2][1])"
      ]
    },
    {
      "cell_type": "markdown",
      "id": "eaa1dcf9",
      "metadata": {
        "id": "eaa1dcf9"
      },
      "source": [
        "\n",
        "\n",
        "- Create a complex nested structure with several levels of depth. Ensure that no values are repeated.\n",
        "- Choose several values from the structure and print them."
      ]
    },
    {
      "cell_type": "code",
      "execution_count": 24,
      "id": "80bb9176",
      "metadata": {
        "id": "80bb9176",
        "colab": {
          "base_uri": "https://localhost:8080/"
        },
        "outputId": "58684f29-0a4c-4c67-c452-7657cb1dbc67"
      },
      "outputs": [
        {
          "output_type": "stream",
          "name": "stdout",
          "text": [
            "8 10 5\n"
          ]
        }
      ],
      "source": [
        "num = ([1,4,8],{'tea': 10,'milk': 15},(2,5,3))\n",
        "print(num[0][2], num[1]['tea'], num[2][1])\n"
      ]
    }
  ],
  "metadata": {
    "kernelspec": {
      "display_name": "Python 3",
      "language": "python",
      "name": "python3"
    },
    "language_info": {
      "codemirror_mode": {
        "name": "ipython",
        "version": 3
      },
      "file_extension": ".py",
      "mimetype": "text/x-python",
      "name": "python",
      "nbconvert_exporter": "python",
      "pygments_lexer": "ipython3",
      "version": "3.8.1"
    },
    "colab": {
      "provenance": []
    }
  },
  "nbformat": 4,
  "nbformat_minor": 5
}