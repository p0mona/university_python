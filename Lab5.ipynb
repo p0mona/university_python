{
  "cells": [
    {
      "cell_type": "code",
      "execution_count": 1,
      "id": "de3123a3",
      "metadata": {
        "id": "de3123a3"
      },
      "outputs": [],
      "source": [
        "# Number of ones - the length of the list.\n",
        "n = 5000"
      ]
    },
    {
      "cell_type": "markdown",
      "id": "fd5b3e32",
      "metadata": {
        "id": "fd5b3e32"
      },
      "source": [
        "## Task 1\n",
        "\n",
        "This task should be solved in 6 different ways - the task description is provided below. The methods differ in terms of code length, readability, and execution time.\n",
        "\n",
        "In Python, the same task can usually be solved in multiple ways. These methods don't have to be equally good. It's important to develop an intuition from the beginning about what is better and what is worse.\n",
        "\n",
        "It is also necessary to experimentally check which methods are faster and which are slower. Intuition is very important, but it doesn't replace measurement.\n",
        "\n",
        "In this task, we will use the magic command `%%timeit` to measure execution time. This command should be placed at the beginning of the code cell. Since it starts with two percentage signs `%%`, it measures the execution time of the entire cell, not just a single line of code.\n",
        "\n",
        "This command causes the code in the cell to be executed multiple times, and the average execution time is calculated. It is normal for the same code to have varying execution times, even on the same computer.\n",
        "\n",
        "In this task, the results should be printed in different cells than the calculation itself. Printing to the screen is costly, and we don't want it to interfere with time measurement.\n",
        "\n",
        "Therefore, multiple cells have been prepared, where the solution should be placed - printing has already been done. It is assumed that the result is always stored in the variable `res`. After it's calculated, the result is printed in the next cell.\n",
        "\n",
        "At the beginning, write all the solutions and test them for a small value of `n`, e.g., 10. At this stage, **do not** measure the time (the `%%timeit` command is intentionally commented out). This is extremely important because the `%%timeit` command has serious drawbacks, such as treating the `res` variable locally in the cell with that command, making its value invisible in other cells.\n",
        "\n",
        "When the tests pass successfully, change the value of `n` to 5000, uncomment all `%%timeit` commands, and run the entire code again across all cells. This time, focus on execution times.\n",
        "\n",
        "#### Task description\n",
        "\n",
        "Write a code that creates a list consisting of `n` ones. The code should work for different values of the variable `n`.\n",
        "\n",
        "- **Method 1.** Use a `while` loop. In each iteration, append another number `1` to the end of the list using the `append` method. **Remember to create a counter to control the number of iterations. Traditionally, the counter variable is called `i`.**\n",
        "- **Method 2.** Use a `while` loop. In each iteration, concatenate the resulting list with a one-element list `[1]` using the `+` operator.\n",
        "- **Method 3.** Use a `for` loop and a `range` generator. In each iteration, append another number `1` to the end of the list using the `append` method.\n",
        "- **Method 4.** Use a `for` loop and a `range` generator. In each iteration, concatenate the resulting list with a one-element list `[1]` using the `+` operator.\n",
        "- **Method 5.** Use a list comprehension:\n",
        "```python\n",
        "res = [1 for i in range(1, n+1)]\n",
        "```\n",
        "List comprehensions are used to generate lists. This knowledge goes beyond the course material (more information can be found here: https://bulldogjob.pl/readme/jak-uzywac-wyrazen-listowych-w-pythonie).\n",
        "- **Method 6.** Use the `*` operator for lists (see https://www.oraask.com/wiki/python-list-repetition?expand_article=1).\n",
        "\n",
        "#### Questions\n",
        "\n",
        "Please answer the following questions and check if other people have the same answers.\n",
        "\n",
        "- Which is faster: the `append` method or the `+` operator for concatenating lists?\n",
        "- Which is faster: a `while` loop controlled by a counter that changes with each iteration, or a `for` loop with `range`?\n",
        "- Which is faster: a `for` loop or a list comprehension?\n",
        "- Which is faster: a list comprehension or the `*` operator for lists?"
      ]
    },
    {
      "cell_type": "code",
      "execution_count": 2,
      "id": "fc5c38e7",
      "metadata": {
        "id": "fc5c38e7",
        "colab": {
          "base_uri": "https://localhost:8080/"
        },
        "outputId": "b57d8a2d-78ba-4987-8135-1e25986fe51a"
      },
      "outputs": [
        {
          "output_type": "stream",
          "name": "stdout",
          "text": [
            "1.31 ms ± 465 µs per loop (mean ± std. dev. of 7 runs, 1000 loops each)\n"
          ]
        }
      ],
      "source": [
        "%%timeit\n",
        "# Method 1 (exercise 1)\n",
        "res = []\n",
        "i = 0\n",
        "while i < n:\n",
        "    res.append(1)\n",
        "    i += 1\n"
      ]
    },
    {
      "cell_type": "code",
      "execution_count": 3,
      "id": "5e4fc3a1",
      "metadata": {
        "id": "5e4fc3a1",
        "colab": {
          "base_uri": "https://localhost:8080/"
        },
        "outputId": "1ec025e1-1013-40a3-9f1c-da8c765281cf"
      },
      "outputs": [
        {
          "output_type": "stream",
          "name": "stdout",
          "text": [
            "Result for n = 5000. If n >= 100, you won't see the result.\n"
          ]
        }
      ],
      "source": [
        "print(f\"Result for n = {n}. If n >= 100, you won't see the result.\")\n",
        "if n < 100:\n",
        "    print(res)"
      ]
    },
    {
      "cell_type": "code",
      "execution_count": 4,
      "id": "4623b9b2",
      "metadata": {
        "id": "4623b9b2",
        "colab": {
          "base_uri": "https://localhost:8080/"
        },
        "outputId": "a8a8c3fd-d9ea-4aa4-87f1-2c380ea2db0c"
      },
      "outputs": [
        {
          "output_type": "stream",
          "name": "stdout",
          "text": [
            "957 µs ± 274 µs per loop (mean ± std. dev. of 7 runs, 1000 loops each)\n"
          ]
        }
      ],
      "source": [
        "%%timeit\n",
        "# Method 2 (exercise 1)\n",
        "res = []\n",
        "i = 0\n",
        "while i < n:\n",
        "    res += [1]\n",
        "    i += 1"
      ]
    },
    {
      "cell_type": "code",
      "execution_count": 5,
      "id": "c889ce44",
      "metadata": {
        "id": "c889ce44",
        "colab": {
          "base_uri": "https://localhost:8080/"
        },
        "outputId": "247a814b-1155-4130-f8e4-0078e7400fe5"
      },
      "outputs": [
        {
          "output_type": "stream",
          "name": "stdout",
          "text": [
            "Result for n = 5000. If n >= 100, you won't see the result.\n"
          ]
        }
      ],
      "source": [
        "print(f\"Result for n = {n}. If n >= 100, you won't see the result.\")\n",
        "if n < 100:\n",
        "    print(res)"
      ]
    },
    {
      "cell_type": "code",
      "execution_count": 6,
      "id": "6156071d",
      "metadata": {
        "id": "6156071d",
        "colab": {
          "base_uri": "https://localhost:8080/"
        },
        "outputId": "678e0ba4-719e-4099-f6e4-d9699b553657"
      },
      "outputs": [
        {
          "output_type": "stream",
          "name": "stdout",
          "text": [
            "529 µs ± 6.33 µs per loop (mean ± std. dev. of 7 runs, 1000 loops each)\n"
          ]
        }
      ],
      "source": [
        "%%timeit\n",
        "# Method 3 (exercise 1)\n",
        "res = []\n",
        "i = 0\n",
        "for i in range(1, n + 1):\n",
        "    res.append(1)\n",
        "    i += 1\n",
        "\n"
      ]
    },
    {
      "cell_type": "code",
      "execution_count": 7,
      "id": "b8c779e2",
      "metadata": {
        "id": "b8c779e2",
        "colab": {
          "base_uri": "https://localhost:8080/"
        },
        "outputId": "7ca4cb43-a1ac-4f64-efab-0946fec943f6"
      },
      "outputs": [
        {
          "output_type": "stream",
          "name": "stdout",
          "text": [
            "Result for n = 5000. If n >= 100, you won't see the result.\n"
          ]
        }
      ],
      "source": [
        "print(f\"Result for n = {n}. If n >= 100, you won't see the result.\")\n",
        "if n < 100:\n",
        "    print(res)"
      ]
    },
    {
      "cell_type": "code",
      "execution_count": 8,
      "id": "3dfc6b38",
      "metadata": {
        "id": "3dfc6b38",
        "colab": {
          "base_uri": "https://localhost:8080/"
        },
        "outputId": "73fb107b-c221-44d6-d472-0e19304cca13"
      },
      "outputs": [
        {
          "output_type": "stream",
          "name": "stdout",
          "text": [
            "670 µs ± 8.54 µs per loop (mean ± std. dev. of 7 runs, 1000 loops each)\n"
          ]
        }
      ],
      "source": [
        "%%timeit\n",
        "# Method 4 (exercise 1)\n",
        "res = []\n",
        "i = 0\n",
        "for i in range(1, n + 1):\n",
        "    res += [1]\n",
        "    i += 1"
      ]
    },
    {
      "cell_type": "code",
      "execution_count": 9,
      "id": "9ded14f2",
      "metadata": {
        "id": "9ded14f2",
        "colab": {
          "base_uri": "https://localhost:8080/"
        },
        "outputId": "f4b0d875-df66-48bc-cb96-6d12b0064ded"
      },
      "outputs": [
        {
          "output_type": "stream",
          "name": "stdout",
          "text": [
            "Result for n = 5000. If n >= 100, you won't see the result.\n"
          ]
        }
      ],
      "source": [
        "print(f\"Result for n = {n}. If n >= 100, you won't see the result.\")\n",
        "if n < 100:\n",
        "    print(res)"
      ]
    },
    {
      "cell_type": "code",
      "execution_count": 10,
      "id": "ffc60c2f",
      "metadata": {
        "id": "ffc60c2f",
        "colab": {
          "base_uri": "https://localhost:8080/"
        },
        "outputId": "6f0c9ccd-4b2c-47e6-8812-64509bc1b0b5"
      },
      "outputs": [
        {
          "output_type": "stream",
          "name": "stdout",
          "text": [
            "203 µs ± 46.3 µs per loop (mean ± std. dev. of 7 runs, 10000 loops each)\n"
          ]
        }
      ],
      "source": [
        "%%timeit\n",
        "# Method 5 (exercise 1)\n",
        "i = 0\n",
        "res = [1 for i in range(1, n+1)]\n"
      ]
    },
    {
      "cell_type": "code",
      "execution_count": 11,
      "id": "83cbef93",
      "metadata": {
        "id": "83cbef93",
        "colab": {
          "base_uri": "https://localhost:8080/"
        },
        "outputId": "81389b76-68f7-41d5-b175-26ba0c8a4726"
      },
      "outputs": [
        {
          "output_type": "stream",
          "name": "stdout",
          "text": [
            "Result for n = 5000. If n >= 100, you won't see the result.\n"
          ]
        }
      ],
      "source": [
        "print(f\"Result for n = {n}. If n >= 100, you won't see the result.\")\n",
        "if n < 100:\n",
        "    print(res)"
      ]
    },
    {
      "cell_type": "code",
      "execution_count": 12,
      "id": "980bdd96",
      "metadata": {
        "id": "980bdd96",
        "colab": {
          "base_uri": "https://localhost:8080/"
        },
        "outputId": "aa33cad0-7659-4408-96e0-540e41590668"
      },
      "outputs": [
        {
          "output_type": "stream",
          "name": "stdout",
          "text": [
            "12.5 µs ± 439 ns per loop (mean ± std. dev. of 7 runs, 100000 loops each)\n"
          ]
        }
      ],
      "source": [
        "%%timeit\n",
        "# Method 6 (exercise 1)\n",
        "res = [1] * n\n"
      ]
    },
    {
      "cell_type": "code",
      "execution_count": 13,
      "id": "5c9cf729",
      "metadata": {
        "id": "5c9cf729",
        "colab": {
          "base_uri": "https://localhost:8080/"
        },
        "outputId": "287a7ddd-a317-479b-d679-aa3a4120ff12"
      },
      "outputs": [
        {
          "output_type": "stream",
          "name": "stdout",
          "text": [
            "Result for n = 5000. If n >= 100, you won't see the result.\n"
          ]
        }
      ],
      "source": [
        "print(f\"Result for n = {n}. If n >= 100, you won't see the result.\")\n",
        "if n < 100:\n",
        "    print(res)"
      ]
    },
    {
      "cell_type": "markdown",
      "id": "2b9bfeea",
      "metadata": {
        "id": "2b9bfeea"
      },
      "source": [
        "## Task 2\n",
        "\n",
        "This task should also be solved in 6 different ways, and the execution times should be compared, just like in the previous task. First, write the entire code and test it for small variable values, e.g., `n = 10`, `base = 2`, with the `%%timeit` commands commented out. Once the tests are successful, change the value of `n` to 5000, `base` to 23, uncomment the `%%timeit` commands, and run the entire code across all cells again. This time, focus on the execution times.\n",
        "\n",
        "#### Task description\n",
        "\n",
        "Write a code that creates a list consisting of the first `n` powers of the number stored in the variable `base` (starting from the first power).\n",
        "\n",
        "- **Method 1.** Use a `for` loop and a `range` generator. In each iteration, append the next power to the list using the `append` method. Use the `**` operator to calculate the powers.\n",
        "- **Method 2.** Use a `for` loop and a `range` generator. In each iteration, append the next power to the list using the `append` method. Use the `pow` function from the standard library to calculate the powers.\n",
        "- **Method 3.** Use a list comprehension. In the list comprehension from the previous task:\n",
        "```python\n",
        "res = [1 for i in range(1, n+1)]\n",
        "```\n",
        "replace the `1` before `for` with the appropriate power calculated using the `**` operator.\n",
        "- **Method 4.** Use a list comprehension. In the list comprehension from the previous task:\n",
        "```python\n",
        "res = [1 for i in range(1, n+1)]\n",
        "```\n",
        "replace the `1` before `for` with the appropriate power calculated using the `pow` function.\n",
        "- **Method 5.** Use a `for` loop and a `range` generator. In each iteration, append the next power to the list using the `append` method. This time, **do not use** either the `**` operator or the `pow` function. Proceed as if you had to calculate the powers on paper without using a calculator. For example, when you already have the power `2^21`, to calculate `2^22`, you don't start from scratch, but simply multiply `2^21` by 2.\n",
        "- **Method 6.** Use the following code:\n",
        "```python\n",
        "res = list(np.power(base, range(1, n+1)))\n",
        "```\n",
        "This code uses the `numpy` library and its `power` method. This method can calculate the power values for multiple exponents at once: you provide the base `base` and the set of exponents `range(1, n+1)`. It uses fast vectorized computations – please observe the time.\n",
        "\n",
        "#### Questions\n",
        "\n",
        "Please answer the following questions and check if other people have the same answers.\n",
        "\n",
        "- Which is faster: the `pow` function from the standard library or the `**` operator for calculating powers?\n",
        "- Which is faster: the `for` loop from method 1 or 2, or the list comprehension from method 3 and 4?\n",
        "- Which is faster: the `for` loop from method 1 or 2, or the `for` loop from method 5?\n",
        "- How does method 6 compare to method 5?"
      ]
    },
    {
      "cell_type": "code",
      "execution_count": 14,
      "id": "4f7fdd26",
      "metadata": {
        "id": "4f7fdd26"
      },
      "outputs": [],
      "source": [
        "import numpy as np      # used in method 6\n",
        "\n",
        "# Number of powers - the length of the list.\n",
        "n = 5000\n",
        "\n",
        "# Base of exponentiation.\n",
        "base = 23"
      ]
    },
    {
      "cell_type": "code",
      "execution_count": 15,
      "id": "c0fd510b",
      "metadata": {
        "id": "c0fd510b",
        "colab": {
          "base_uri": "https://localhost:8080/"
        },
        "outputId": "87049913-db82-4983-c79e-62a27f04fa3d"
      },
      "outputs": [
        {
          "output_type": "stream",
          "name": "stdout",
          "text": [
            "174 ms ± 29.8 ms per loop (mean ± std. dev. of 7 runs, 10 loops each)\n"
          ]
        }
      ],
      "source": [
        "%%timeit\n",
        "# Method 1 (exercise 2)\n",
        "i = 0\n",
        "res = []\n",
        "for i in range(1, n + 1):\n",
        "    res.append(base ** i)\n",
        "    i += 1\n"
      ]
    },
    {
      "cell_type": "code",
      "execution_count": 16,
      "id": "ce540d03",
      "metadata": {
        "id": "ce540d03",
        "colab": {
          "base_uri": "https://localhost:8080/"
        },
        "outputId": "f5d1ef20-c44c-4f39-ff85-cb1aad268635"
      },
      "outputs": [
        {
          "output_type": "stream",
          "name": "stdout",
          "text": [
            "Result for n = 5000 and base = 23. If n >= 100, you won't see the result.\n"
          ]
        }
      ],
      "source": [
        "print(f\"Result for n = {n} and base = {base}. If n >= 100, you won't see the result.\")\n",
        "if n < 100:\n",
        "    print(res)"
      ]
    },
    {
      "cell_type": "code",
      "execution_count": 17,
      "id": "9f3d91ef",
      "metadata": {
        "id": "9f3d91ef",
        "colab": {
          "base_uri": "https://localhost:8080/"
        },
        "outputId": "560811dc-e7d9-4f3d-9cce-64162120e156"
      },
      "outputs": [
        {
          "output_type": "stream",
          "name": "stdout",
          "text": [
            "173 ms ± 35.7 ms per loop (mean ± std. dev. of 7 runs, 10 loops each)\n"
          ]
        }
      ],
      "source": [
        "%%timeit\n",
        "# Method 2 (exercise 2)\n",
        "i = 0\n",
        "res = []\n",
        "for i in range(1, n + 1):\n",
        "    res.append(pow(base, i))\n",
        "    i += 1\n"
      ]
    },
    {
      "cell_type": "code",
      "execution_count": 18,
      "id": "d0da71c7",
      "metadata": {
        "id": "d0da71c7",
        "colab": {
          "base_uri": "https://localhost:8080/"
        },
        "outputId": "ccb2854f-6534-451a-83a0-9a4deed6bb45"
      },
      "outputs": [
        {
          "output_type": "stream",
          "name": "stdout",
          "text": [
            "Result for n = 5000 and base = 23. If n >= 100, you won't see the result.\n"
          ]
        }
      ],
      "source": [
        "print(f\"Result for n = {n} and base = {base}. If n >= 100, you won't see the result.\")\n",
        "if n < 100:\n",
        "    print(res)"
      ]
    },
    {
      "cell_type": "code",
      "execution_count": 19,
      "id": "15ec7609",
      "metadata": {
        "id": "15ec7609",
        "colab": {
          "base_uri": "https://localhost:8080/"
        },
        "outputId": "db89346f-3819-4e1d-bb6f-81383ba55622"
      },
      "outputs": [
        {
          "output_type": "stream",
          "name": "stdout",
          "text": [
            "172 ms ± 32.6 ms per loop (mean ± std. dev. of 7 runs, 10 loops each)\n"
          ]
        }
      ],
      "source": [
        "%%timeit\n",
        "# Method 3 (exercise 2)\n",
        "i = 0\n",
        "res = [base ** i for i in range(1, n+1)]\n"
      ]
    },
    {
      "cell_type": "code",
      "execution_count": 20,
      "id": "aa7682db",
      "metadata": {
        "id": "aa7682db",
        "colab": {
          "base_uri": "https://localhost:8080/"
        },
        "outputId": "cce5ee5d-78cd-4407-b235-ed6b30c6c9df"
      },
      "outputs": [
        {
          "output_type": "stream",
          "name": "stdout",
          "text": [
            "Result for n = 5000 and base = 23. If n >= 100, you won't see the result.\n"
          ]
        }
      ],
      "source": [
        "print(f\"Result for n = {n} and base = {base}. If n >= 100, you won't see the result.\")\n",
        "if n < 100:\n",
        "    print(res)"
      ]
    },
    {
      "cell_type": "code",
      "execution_count": 21,
      "id": "5799f80e",
      "metadata": {
        "id": "5799f80e",
        "colab": {
          "base_uri": "https://localhost:8080/"
        },
        "outputId": "56b9ddf2-5720-4f51-8f6e-c07edc35a817"
      },
      "outputs": [
        {
          "output_type": "stream",
          "name": "stdout",
          "text": [
            "172 ms ± 29.7 ms per loop (mean ± std. dev. of 7 runs, 10 loops each)\n"
          ]
        }
      ],
      "source": [
        "%%timeit\n",
        "# Method 4 (exercise 2)\n",
        "i = 0\n",
        "res = [pow(base, i) for i in range(1, n+1)]\n"
      ]
    },
    {
      "cell_type": "code",
      "execution_count": 22,
      "id": "481df3bf",
      "metadata": {
        "id": "481df3bf",
        "colab": {
          "base_uri": "https://localhost:8080/"
        },
        "outputId": "6ae74a16-cfb4-44fe-97cb-2905d995582f"
      },
      "outputs": [
        {
          "output_type": "stream",
          "name": "stdout",
          "text": [
            "Result for n = 5000 and base = 23. If n >= 100, you won't see the result.\n"
          ]
        }
      ],
      "source": [
        "print(f\"Result for n = {n} and base = {base}. If n >= 100, you won't see the result.\")\n",
        "if n < 100:\n",
        "    print(res)"
      ]
    },
    {
      "cell_type": "code",
      "execution_count": 23,
      "id": "da2b80bc",
      "metadata": {
        "id": "da2b80bc",
        "colab": {
          "base_uri": "https://localhost:8080/"
        },
        "outputId": "4b442bc9-0c1f-4929-b11a-e60e8b92bcba"
      },
      "outputs": [
        {
          "output_type": "stream",
          "name": "stdout",
          "text": [
            "6.29 ms ± 1.42 ms per loop (mean ± std. dev. of 7 runs, 100 loops each)\n"
          ]
        }
      ],
      "source": [
        "%%timeit\n",
        "# Method 5 (exercise 2)\n",
        "i = 1\n",
        "res = []\n",
        "res1 = 1\n",
        "for i in range(1, n + 1):\n",
        "    res1 *= base\n",
        "    res.append(res1)\n",
        "    i += 1\n"
      ]
    },
    {
      "cell_type": "code",
      "execution_count": 24,
      "id": "f02bd1c8",
      "metadata": {
        "id": "f02bd1c8",
        "colab": {
          "base_uri": "https://localhost:8080/"
        },
        "outputId": "4acdcd1f-00f5-48c8-8b4d-c59ef878963b"
      },
      "outputs": [
        {
          "output_type": "stream",
          "name": "stdout",
          "text": [
            "Result for n = 5000 and base = 23. If n >= 100, you won't see the result.\n"
          ]
        }
      ],
      "source": [
        "print(f\"Result for n = {n} and base = {base}. If n >= 100, you won't see the result.\")\n",
        "if n < 100:\n",
        "    print(res)"
      ]
    },
    {
      "cell_type": "code",
      "execution_count": 25,
      "id": "27610f61",
      "metadata": {
        "id": "27610f61",
        "colab": {
          "base_uri": "https://localhost:8080/"
        },
        "outputId": "e6ef3d47-c5f2-40d2-8e11-66ce1f576377"
      },
      "outputs": [
        {
          "output_type": "stream",
          "name": "stdout",
          "text": [
            "1.13 ms ± 275 µs per loop (mean ± std. dev. of 7 runs, 1000 loops each)\n"
          ]
        }
      ],
      "source": [
        "%%timeit\n",
        "# Method 6 (exercise 2)\n",
        "res = list(np.power(base, range(1, n+1)))\n"
      ]
    },
    {
      "cell_type": "code",
      "execution_count": 26,
      "id": "9c3c0521",
      "metadata": {
        "id": "9c3c0521",
        "colab": {
          "base_uri": "https://localhost:8080/"
        },
        "outputId": "6bca5e44-2922-40a9-a01a-9682b3d17176"
      },
      "outputs": [
        {
          "output_type": "stream",
          "name": "stdout",
          "text": [
            "Result for n = 5000 and base = 23. If n >= 100, you won't see the result.\n"
          ]
        }
      ],
      "source": [
        "print(f\"Result for n = {n} and base = {base}. If n >= 100, you won't see the result.\")\n",
        "if n < 100:\n",
        "    print(res)\n",
        "    print(type(res))"
      ]
    },
    {
      "cell_type": "markdown",
      "id": "b0b51ab2",
      "metadata": {
        "id": "b0b51ab2"
      },
      "source": [
        "## Task 3 - Reinforcement of Knowledge\n",
        "\n",
        "Create a list `seq` with several values. Write a loop that prints each element of the list, each on a new line. Do not use the `range` generator. Test what happens when, instead of a list, you assign a tuple, string, or set to the `seq` variable."
      ]
    },
    {
      "cell_type": "code",
      "execution_count": 27,
      "id": "8c72c6ea",
      "metadata": {
        "id": "8c72c6ea",
        "colab": {
          "base_uri": "https://localhost:8080/"
        },
        "outputId": "ed0bd74a-6901-4268-854d-2efb43b98a38"
      },
      "outputs": [
        {
          "output_type": "stream",
          "name": "stdout",
          "text": [
            "1\n",
            "3\n",
            "5\n",
            "9\n",
            "0\n",
            "H\n",
            "e\n",
            "l\n",
            "l\n",
            "o\n",
            "a\n",
            "4\n",
            "9\n",
            "b\n"
          ]
        }
      ],
      "source": [
        "# Solution of exercise 3.\n",
        "seq = [1,3,5,9,0]\n",
        "for item in seq:\n",
        "  print(item)\n",
        "\n",
        "seq = (\"Hello\")\n",
        "for item in seq:\n",
        "  print(item)\n",
        "\n",
        "seq = ('a', 4, 9, 'b')\n",
        "for item in seq:\n",
        "  print(item)"
      ]
    },
    {
      "cell_type": "markdown",
      "id": "15e5dc1f",
      "metadata": {
        "id": "15e5dc1f"
      },
      "source": [
        "## Task 4 - Reinforcement of Knowledge\n",
        "\n",
        "- Create a dictionary `seq` with several values. Test what happens when you use the loop from the previous task.\n",
        "- Write another loop that differs from the first one by iterating over `seq.keys()` instead of `seq`.\n",
        "- Write another loop that differs from the first one by iterating over `seq.values()` instead of `seq`.\n",
        "- Write another loop that differs from the first one by iterating over `seq.items()` instead of `seq`."
      ]
    },
    {
      "cell_type": "code",
      "execution_count": 28,
      "id": "1cc8242b",
      "metadata": {
        "id": "1cc8242b",
        "colab": {
          "base_uri": "https://localhost:8080/"
        },
        "outputId": "15c91c3f-fe71-4068-99e1-f64df165b5f3"
      },
      "outputs": [
        {
          "output_type": "stream",
          "name": "stdout",
          "text": [
            "cake : 10\n",
            "ice-cream : 6\n",
            "tort : 8\n",
            "cake\n",
            "ice-cream\n",
            "tort\n",
            "10\n",
            "6\n",
            "8\n",
            "('cake', 10)\n",
            "('ice-cream', 6)\n",
            "('tort', 8)\n"
          ]
        }
      ],
      "source": [
        "# Solution of exercise 4.\n",
        "seq = {'cake': 10, 'ice-cream': 6, 'tort': 8}\n",
        "seq.keys()\n",
        "\n",
        "for item in seq:\n",
        " print(item, \":\", seq[item])\n",
        "\n",
        "for item in seq.keys():\n",
        "  print(item)\n",
        "\n",
        "for item in seq.values():\n",
        "  print(item)\n",
        "\n",
        "for item in seq.items():\n",
        "  print(item)"
      ]
    }
  ],
  "metadata": {
    "kernelspec": {
      "display_name": "Python 3",
      "language": "python",
      "name": "python3"
    },
    "language_info": {
      "codemirror_mode": {
        "name": "ipython",
        "version": 3
      },
      "file_extension": ".py",
      "mimetype": "text/x-python",
      "name": "python",
      "nbconvert_exporter": "python",
      "pygments_lexer": "ipython3",
      "version": "3.8.1"
    },
    "colab": {
      "provenance": []
    }
  },
  "nbformat": 4,
  "nbformat_minor": 5
}