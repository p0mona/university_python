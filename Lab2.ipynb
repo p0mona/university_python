{
  "cells": [
    {
      "cell_type": "markdown",
      "metadata": {
        "id": "glHjj47CBj6u"
      },
      "source": [
        "<br>\n",
        "\n",
        "## Task 1\n",
        "\n",
        "Randomly select an even integer from the range [0,8].\n",
        "\n",
        "*Note 1: The appropriate function was provided in Lecture 3, but not all of its possibilities were discussed. You can read more about it in the standard library documentation, which is linked in the same lecture.\n",
        "\n",
        "*Note 2: Perform several tests and check if it was possible to randomly select the number 8. If not, consider whether the code is correct."
      ]
    },
    {
      "cell_type": "code",
      "execution_count": 1,
      "metadata": {
        "colab": {
          "base_uri": "https://localhost:8080/"
        },
        "id": "AauVU8wLBj6x",
        "outputId": "1d49ba1d-6d63-4c25-a31e-061e53a6cb27"
      },
      "outputs": [
        {
          "output_type": "stream",
          "name": "stdout",
          "text": [
            "5\n"
          ]
        }
      ],
      "source": [
        "# Solution of exercise 1.\n",
        "from random import random, randrange\n",
        "print(randrange(0,9))"
      ]
    },
    {
      "cell_type": "markdown",
      "metadata": {
        "id": "RxqRnOb-Bj61"
      },
      "source": [
        "<br>\n",
        "\n",
        "## Task 2\n",
        "\n",
        "*Randomly select two numbers from the range [0,10] and print them.\n",
        "\n",
        "*Modify the random selection to ensure that the first selected number is smaller than the second one.\n",
        "\n",
        "*Note 1: Pay attention that the first number cannot be equal to 10.\n",
        "\n",
        "*Note 2: Do not use any conditional statements, loops, or auxiliary functions—only functions for random number generation.\n"
      ]
    },
    {
      "cell_type": "code",
      "execution_count": 3,
      "metadata": {
        "colab": {
          "base_uri": "https://localhost:8080/"
        },
        "id": "GFrPFm1bBj63",
        "outputId": "187e9246-d376-4568-c0fb-db6de65ed93c"
      },
      "outputs": [
        {
          "output_type": "stream",
          "name": "stdout",
          "text": [
            "1\n",
            "6\n"
          ]
        }
      ],
      "source": [
        "# Solution of exercise 2.\n",
        "import random\n",
        "num1 = random.randint(0, 9)\n",
        "num2 = random.randint(num1+1, 10)\n",
        "print(num1)\n",
        "print(num2)"
      ]
    },
    {
      "cell_type": "markdown",
      "metadata": {
        "id": "vdGj5qvYBj64"
      },
      "source": [
        "<br>\n",
        "\n",
        "## Task 3\n",
        "\n",
        "In the Python documentation (link provided in Lecture 3, topic Built-in Types -> Numeric Types — int, float, complex), it is stated *Integers have unlimited precision.* This means that Python can handle arbitrarily large integers. Is this really true?\n",
        "\n",
        "The second question is: are large numbers handled as quickly by Python as smaller ones? To test this, conduct the following experiment.\n",
        "\n",
        "1. Assign the following powers of 10 to the variables `x1`, `x2`, `x3`, `x4`, `x5`, `x6`, `x7`:\n",
        "    - 10 to the power of 10,  \n",
        "    - 10 to the power of 100,  \n",
        "    - 10 to the power of 1000,  \n",
        "    - 10 to the power of 10000,  \n",
        "    - 10 to the power of 100000,  \n",
        "    - 10 to the power of 1000000,  \n",
        "    - 10 to the power of 10000000.\n",
        "2. At the beginning of each line, add the magic command `%time`. This command measures how much time it takes to compute the given line. For example, if we want to find out how much time it takes to compute the sum of numbers from 1 to 1000000, we can do it as follows:\n",
        "```python\n",
        "%time result = sum(range(1,1000001))\n",
        "```\n",
        "3. Assign the product of `x3` and `x4` to the variable `x8`, and the product of `x6` and `x7` to the variable `x9`. Measure the execution time of these operations as before.\n",
        "4. Be patient...\n",
        "    \n",
        "    "
      ]
    },
    {
      "cell_type": "code",
      "execution_count": 4,
      "metadata": {
        "colab": {
          "base_uri": "https://localhost:8080/"
        },
        "id": "GjTgGiNfBj66",
        "outputId": "77e77af3-1c43-4544-9bb5-918ef00e79d1"
      },
      "outputs": [
        {
          "output_type": "stream",
          "name": "stdout",
          "text": [
            "CPU times: user 3 µs, sys: 0 ns, total: 3 µs\n",
            "Wall time: 7.63 µs\n",
            "CPU times: user 7 µs, sys: 1e+03 ns, total: 8 µs\n",
            "Wall time: 12.2 µs\n",
            "CPU times: user 12 µs, sys: 2 µs, total: 14 µs\n",
            "Wall time: 17.6 µs\n",
            "CPU times: user 263 µs, sys: 0 ns, total: 263 µs\n",
            "Wall time: 268 µs\n",
            "CPU times: user 9.13 ms, sys: 34 µs, total: 9.16 ms\n",
            "Wall time: 12.4 ms\n",
            "CPU times: user 309 ms, sys: 1.8 ms, total: 311 ms\n",
            "Wall time: 350 ms\n",
            "CPU times: user 9.88 s, sys: 62.3 ms, total: 9.94 s\n",
            "Wall time: 10 s\n",
            "CPU times: user 86 µs, sys: 0 ns, total: 86 µs\n",
            "Wall time: 88.7 µs\n",
            "CPU times: user 4.27 s, sys: 23.8 ms, total: 4.29 s\n",
            "Wall time: 4.27 s\n"
          ]
        }
      ],
      "source": [
        "# Solution of exercise 3.\n",
        "%time x1 = 10 ** 10\n",
        "%time x2 = 10 ** 100\n",
        "%time x3 = 10 ** 1000\n",
        "%time x4 = 10 ** 10000\n",
        "%time x5 = 10 ** 100000\n",
        "%time x6 = 10 ** 1000000\n",
        "%time x7 = 10 ** 10000000\n",
        "%time x8 = x3 * x4\n",
        "%time x9 = x6 * x7"
      ]
    },
    {
      "cell_type": "markdown",
      "metadata": {
        "id": "-DsGykcXBj68"
      },
      "source": [
        "<br>\n",
        "\n",
        "## Task 4\n",
        "\n",
        "In this task, you need to use the following methods:\n",
        "```python\n",
        "strip\n",
        "lower\n",
        "upper\n",
        "center\n",
        "ljust\n",
        "rjust\n",
        "```\n",
        "These methods are described in the standard library documentation (link provided in Lecture 3). You can find the methods by going to the topic:\n",
        "\n",
        "- Built-in Types -> Text Sequence Type — str\n",
        "\n",
        "The built-in function `len` will also be useful, which is described in the documentation under the topic:\n",
        "- Built-in Functions\n",
        "\n",
        "Follow the instructions below:\n",
        "\n",
        "1. Create a string that is a sentence made up of several words, with a few spaces before and after the sentence. It would be good if the sentence contains numbers. Store it in the variable `str1`.\n",
        "2. Use the appropriate method to remove the leading and trailing spaces. Store the result in the variable `str2`.\n",
        "3. Use the appropriate method to convert all the letters of the sentence `str2` to lowercase. Store the result in the variable `str3`.\n",
        "4. Use the appropriate method to convert all the letters of the sentence `str3` to uppercase. Store the result in the variable `str4`.\n",
        "5. Calculate the length of the string `str4` and print it.\n",
        "6. Use the appropriate method to center `str4` in a string that is 10 characters longer than `str4`. Store the result in the variable `str5`.\n",
        "7. Use the appropriate method to right-align `str4` in a string that is 10 characters longer than `str4`. Store the result in the variable `str6`.\n",
        "8. Use the appropriate method to left-align `str4` in a string that is 10 characters longer than `str4`. Store the result in the variable `str7`.\n",
        "9. Print all the variables (`str1`, `str2`, `str3`, `str4`, `str5`, `str6`, `str7`) and their lengths. Note that none of the methods changed the string on which they operated; they only created a new string\n",
        "\n"
      ]
    },
    {
      "cell_type": "code",
      "execution_count": 5,
      "metadata": {
        "colab": {
          "base_uri": "https://localhost:8080/"
        },
        "id": "_d0hFr71Bj69",
        "outputId": "5fdc9e72-549c-490d-8911-2496daca6727"
      },
      "outputs": [
        {
          "output_type": "stream",
          "name": "stdout",
          "text": [
            "   I am 20 years old, and you?    33\n",
            "I am 20 years old, and you? 27\n",
            "i am 20 years old, and you? 27\n",
            "I AM 20 YEARS OLD, AND YOU? 27\n",
            "-I AM 20 YEARS OLD, AND YOU?-- 30\n",
            "---I AM 20 YEARS OLD, AND YOU? 30\n",
            "I AM 20 YEARS OLD, AND YOU?--- 30\n"
          ]
        }
      ],
      "source": [
        "# Solution of exercise 4.\n",
        "str1 = \"   I am 20 years old, and you?   \"\n",
        "str2 = str1.strip()\n",
        "str3 = str2.lower()\n",
        "str4 = str3.upper()\n",
        "str5 = str4.center(30,\"-\")\n",
        "str6 = str4.rjust(30,\"-\")\n",
        "str7 = str4.ljust(30,\"-\")\n",
        "print(str1,len(str1))\n",
        "print(str2,len(str2))\n",
        "print(str3,len(str3))\n",
        "print(str4,len(str4))\n",
        "print(str5,len(str5))\n",
        "print(str6,len(str6))\n",
        "print(str7,len(str7))"
      ]
    },
    {
      "cell_type": "markdown",
      "metadata": {
        "id": "qiJhv60JBj6_"
      },
      "source": [
        "\n",
        "\n",
        "## Task 5\n",
        "\n",
        "1. Create a string (at least a few characters long) and print it along with its length.\n",
        "2. Randomly select and print two non-negative numbers smaller than the length of the string – these represent positions of characters in the string. Ensure that the first number is smaller than the second.\n",
        "3. Create a new string based on the original. It should differ from the original only by swapping the characters at the randomly selected positions. Print the new string.\n",
        "\n",
        "- Note 1: Consider what the maximum value of the first randomly selected number could be.\n",
        "- Note 2: Write the code so that it works for strings of different lengths – by changing **only** the string, the code should still work."
      ]
    },
    {
      "cell_type": "code",
      "execution_count": 6,
      "metadata": {
        "id": "zRAxvV7HBj7A",
        "colab": {
          "base_uri": "https://localhost:8080/",
          "height": 35
        },
        "outputId": "1b71e1f0-2f09-49d1-fcfa-64b9df629557"
      },
      "outputs": [
        {
          "output_type": "execute_result",
          "data": {
            "text/plain": [
              "'i want ot sleep'"
            ],
            "application/vnd.google.colaboratory.intrinsic+json": {
              "type": "string"
            }
          },
          "metadata": {},
          "execution_count": 6
        }
      ],
      "source": [
        "# Solution of exercise 5.\n",
        "num = \"i want to sleep\"\n",
        "import random\n",
        "num1 = random.randint(0, len(num)-1)\n",
        "num2 = random.randint(num1, len(num)-1)\n",
        "num3 = list(num)\n",
        "num3[num1],num3[num2] = num3[num2],num3[num1]\n",
        "''.join(num3)"
      ]
    },
    {
      "cell_type": "markdown",
      "metadata": {
        "id": "cT2QLtNCBj7B"
      },
      "source": [
        "<br>\n",
        "\n",
        "\n",
        "## Task 6\n",
        "\n",
        "1. Assign the integer 1234 to the variable `x`.\n",
        "2. Using the appropriate arithmetic operation, calculate the ones digit of this number (in this case, 4). Store it in the variable `x0` and print it.\n",
        "3. Using the appropriate arithmetic operation, calculate the number obtained from `x` by \"removing the ones digit\" (in this case, 123). Store it in the variable `y0` and print it.\n",
        "4. Test if the code works for other integer values of `x`, not necessarily four-digit numbers.\n",
        "5. Similarly, calculate the tens digit.\n",
        "6. Write a condition that is true if and only if the number stored in `x` is a two-digit number and its tens digit is greater than the ones digit. When creating this condition, use only the variable `x`."
      ]
    },
    {
      "cell_type": "code",
      "execution_count": 7,
      "metadata": {
        "id": "rX8rxQhJBj7C",
        "colab": {
          "base_uri": "https://localhost:8080/"
        },
        "outputId": "292bf9a5-5481-4858-e979-4b8c58060460"
      },
      "outputs": [
        {
          "output_type": "stream",
          "name": "stdout",
          "text": [
            "True\n"
          ]
        }
      ],
      "source": [
        "# Solution of exercise 6\n",
        "x = 12\n",
        "x0 = x % 10\n",
        "y0 = x // 10\n",
        "a0 = x % 100 // 10\n",
        "b0 = x // 100\n",
        "b = 10 <= x <= 99 and x % 10 > x % 100 // 10\n",
        "print(b)"
      ]
    },
    {
      "cell_type": "markdown",
      "metadata": {
        "id": "60YqcVhiBj7C"
      },
      "source": [
        "<br>\n",
        "\n",
        "## Task 7 - Reinforcement of Knowledge: Strings (Basics)\n",
        "\n",
        "\n",
        "\n",
        "\n",
        "\n",
        "\n"
      ]
    },
    {
      "cell_type": "markdown",
      "metadata": {
        "id": "1xrQOYpvBj7D"
      },
      "source": [
        "\n",
        "- Create a variable `bev` with the value `\"coffee\"`.\n",
        "- Create a variable `food` with the value `\"cookie\"`.\n",
        "- Create a variable `clients` with the value `3`.\n",
        "- Display their value and type."
      ]
    },
    {
      "cell_type": "code",
      "execution_count": 8,
      "metadata": {
        "id": "gV0H3fcnBj7D",
        "colab": {
          "base_uri": "https://localhost:8080/"
        },
        "outputId": "0c435508-a346-4d96-a2a2-e926d887e262"
      },
      "outputs": [
        {
          "output_type": "stream",
          "name": "stdout",
          "text": [
            "coffee <class 'str'>\n",
            "cookie <class 'str'>\n",
            "3 <class 'int'>\n"
          ]
        }
      ],
      "source": [
        "bev = 'coffee'\n",
        "food = 'cookie'\n",
        "clients = 3\n",
        "print(bev, type(bev))\n",
        "print(food, type(food))\n",
        "print(clients, type(clients))"
      ]
    },
    {
      "cell_type": "markdown",
      "metadata": {
        "id": "DZ9Xy_G2Bj7E"
      },
      "source": [
        "\n",
        "- Add the variable `clients` to `bev`. Store the result in the variable `bev`. Print `bev`.\n",
        "- Read the error description. What is not allowed?"
      ]
    },
    {
      "cell_type": "code",
      "execution_count": 9,
      "metadata": {
        "id": "wxi_7-KLBj7F",
        "colab": {
          "base_uri": "https://localhost:8080/",
          "height": 139
        },
        "outputId": "efc09f0f-0bf4-492c-90e4-f8737ed67d9b"
      },
      "outputs": [
        {
          "output_type": "error",
          "ename": "TypeError",
          "evalue": "can only concatenate str (not \"int\") to str",
          "traceback": [
            "\u001b[0;31m---------------------------------------------------------------------------\u001b[0m",
            "\u001b[0;31mTypeError\u001b[0m                                 Traceback (most recent call last)",
            "\u001b[0;32m<ipython-input-9-23399ca3bc19>\u001b[0m in \u001b[0;36m<cell line: 1>\u001b[0;34m()\u001b[0m\n\u001b[0;32m----> 1\u001b[0;31m \u001b[0mbev\u001b[0m \u001b[0;34m=\u001b[0m \u001b[0mbev\u001b[0m \u001b[0;34m+\u001b[0m \u001b[0mclients\u001b[0m\u001b[0;34m\u001b[0m\u001b[0;34m\u001b[0m\u001b[0m\n\u001b[0m",
            "\u001b[0;31mTypeError\u001b[0m: can only concatenate str (not \"int\") to str"
          ]
        }
      ],
      "source": [
        "bev = bev + clients"
      ]
    },
    {
      "cell_type": "markdown",
      "metadata": {
        "id": "HCD3mD5ABj7G"
      },
      "source": [
        "\n",
        "- Repeat the addition operation by placing `clients` inside the `str()` function. Print `bev` and its type.\n",
        "- What is the action performed by the `str` function called?\n",
        "- Run the code multiple times and check what happens."
      ]
    },
    {
      "cell_type": "code",
      "execution_count": 10,
      "metadata": {
        "id": "4qFYDKBnBj7G",
        "colab": {
          "base_uri": "https://localhost:8080/"
        },
        "outputId": "bc38c07c-2652-409b-c133-feda70eb8d48"
      },
      "outputs": [
        {
          "output_type": "stream",
          "name": "stdout",
          "text": [
            "coffee3 <class 'str'>\n"
          ]
        }
      ],
      "source": [
        "bev = bev + str(clients)\n",
        "print(bev, type(bev))"
      ]
    },
    {
      "cell_type": "markdown",
      "metadata": {
        "id": "LrqxgnD9Bj7H"
      },
      "source": [
        "\n",
        "- Save the same addition using the `+=` operator. Print `bev` and its type."
      ]
    },
    {
      "cell_type": "code",
      "execution_count": 11,
      "metadata": {
        "id": "ccCtL1Q4Bj7H",
        "colab": {
          "base_uri": "https://localhost:8080/"
        },
        "outputId": "8a1b7ce9-8567-432c-fd49-b25b69a8abef"
      },
      "outputs": [
        {
          "output_type": "stream",
          "name": "stdout",
          "text": [
            "coffee33 <class 'str'>\n"
          ]
        }
      ],
      "source": [
        "bev += str(clients)\n",
        "print(bev,type(bev))"
      ]
    },
    {
      "cell_type": "markdown",
      "metadata": {
        "id": "Dy9dirFkBj7I"
      },
      "source": [
        "\n",
        "- Print the variable `food` and its type.\n",
        "- Then assign the number 5 to the variable `food`.\n",
        "- Print the variable `food` and its type again.\n",
        "- Remember what happened to the type, this is very important."
      ]
    },
    {
      "cell_type": "code",
      "execution_count": 12,
      "metadata": {
        "id": "8EYDvZk2Bj7I",
        "colab": {
          "base_uri": "https://localhost:8080/"
        },
        "outputId": "2be65470-49e4-4dcc-95a4-10efa742eee7"
      },
      "outputs": [
        {
          "output_type": "stream",
          "name": "stdout",
          "text": [
            "cookie <class 'str'>\n",
            "5 <class 'int'>\n"
          ]
        }
      ],
      "source": [
        "print(food,type(food))\n",
        "food = 5\n",
        "print(food,type(food))"
      ]
    },
    {
      "cell_type": "markdown",
      "metadata": {
        "id": "V-7J7Sn5Bj7J"
      },
      "source": [
        "<br>\n",
        "\n",
        "## Task 8 - Reinforcement of knowledge: mathematical operators\n",
        "\n",
        "- Declare variables `a` and `b` and assign them the values 9 and 4, respectively, and print them.\n",
        "- Print the result of subtracting `b` from `a`.\n",
        "- Print the result of raising `a` to the power of `b`.\n",
        "- Print the result of dividing `a` by `b`. Do this twice: once using floating-point division and once using integer division.\n",
        "- Print the remainder of dividing `a` by `b`.\n",
        "- Print the floating-point quotient of `a` divided by `b` rounded to one decimal place. Use the function `round(x, n)`, where `x` is the number to round, and `n` is the number of decimal places."
      ]
    },
    {
      "cell_type": "code",
      "execution_count": 13,
      "metadata": {
        "id": "OYmeiYHjBj7J",
        "colab": {
          "base_uri": "https://localhost:8080/"
        },
        "outputId": "86dbdeab-a536-41c8-f472-27bc2f567094"
      },
      "outputs": [
        {
          "output_type": "stream",
          "name": "stdout",
          "text": [
            "5\n",
            "6561\n",
            "2.25\n",
            "2\n",
            "1\n",
            "2.2\n"
          ]
        }
      ],
      "source": [
        "a = 9\n",
        "b = 4\n",
        "c = a / b\n",
        "print(a - b)\n",
        "print(a ** b)\n",
        "print(a / b)\n",
        "print(a // b)\n",
        "print(a % b)\n",
        "print(round(c,1))"
      ]
    }
  ],
  "metadata": {
    "kernelspec": {
      "display_name": "Python 3",
      "language": "python",
      "name": "python3"
    },
    "language_info": {
      "codemirror_mode": {
        "name": "ipython",
        "version": 3
      },
      "file_extension": ".py",
      "mimetype": "text/x-python",
      "name": "python",
      "nbconvert_exporter": "python",
      "pygments_lexer": "ipython3",
      "version": "3.8.1"
    },
    "colab": {
      "provenance": []
    }
  },
  "nbformat": 4,
  "nbformat_minor": 0
}