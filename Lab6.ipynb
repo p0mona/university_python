{
  "cells": [
    {
      "cell_type": "markdown",
      "id": "17a573d2",
      "metadata": {
        "id": "17a573d2"
      },
      "source": [
        "## Task 1\n",
        "\n",
        "Write a function `area_side_height` that, given the side and height of a triangle, calculates the area of the triangle.\n",
        "\n",
        "- \"Given\" means that the side and height should be passed as parameters.\n",
        "- \"Calculates\" means that the function should not print anything to the screen, but should return the area value.\n",
        "- Assume that the side and height are positive numbers — no need to check for this.\n",
        "\n",
        "Test the function by calling it with different sets of parameter values and printing the result."
      ]
    },
    {
      "cell_type": "code",
      "execution_count": 1,
      "id": "c49c30da",
      "metadata": {
        "colab": {
          "base_uri": "https://localhost:8080/"
        },
        "id": "c49c30da",
        "outputId": "cfca8b55-6a04-4b5a-ef35-19e7ecc33f0b"
      },
      "outputs": [
        {
          "output_type": "stream",
          "name": "stdout",
          "text": [
            "10.0\n",
            "62.5\n",
            "61728000.0\n"
          ]
        }
      ],
      "source": [
        "# Solution of exercise 1.\n",
        "def area_side_height(a, h):\n",
        "    res = (a * h) / 2\n",
        "    return res\n",
        "print(area_side_height(10,2))\n",
        "print(area_side_height(25,5))\n",
        "print(area_side_height(1000,123456))"
      ]
    },
    {
      "cell_type": "markdown",
      "id": "81758c9b",
      "metadata": {
        "id": "81758c9b"
      },
      "source": [
        "## Task 2\n",
        "\n",
        "Write a function `area_two_sides_angle` that, given two sides and the angle between them, calculates the area of the triangle. The angle is given in degrees.\n",
        "\n",
        "- Assume that the sides are positive numbers, and the angle is a number from the interval (0, 180).\n",
        "- In this task, you will need the `sin` function. It is a function from the standard library in the `math` module. If you don't remember how to use functions from the standard library, refer to lecture 3.\n",
        "- The `sin` function from the `math` module calculates the sine of an angle expressed in radians, not degrees. In the `math` library, there is a function `radians` that converts degrees to radians.\n",
        "\n",
        "Test the function by calling it with different sets of parameter values and printing the result."
      ]
    },
    {
      "cell_type": "code",
      "execution_count": 16,
      "id": "a4ebcf1c",
      "metadata": {
        "id": "a4ebcf1c",
        "colab": {
          "base_uri": "https://localhost:8080/"
        },
        "outputId": "201a97a5-72a8-4119-9edf-4b01d19c9d8c"
      },
      "outputs": [
        {
          "output_type": "stream",
          "name": "stdout",
          "text": [
            "152.0279579551077\n",
            "24.756701718539258\n",
            "-25.000000000000007\n"
          ]
        }
      ],
      "source": [
        "# Solution of exercise 2.\n",
        "import math\n",
        "def area_two_sides_angle(a_side, b_side, c_degrees):\n",
        "\n",
        "    c_degrees_radians = math.radians(c_degrees)\n",
        "    c_degrees_sin = math.sin(c_degrees_radians)\n",
        "    res = 0.5 * a_side * b_side * c_degrees_sin\n",
        "    return res\n",
        "print(area_two_sides_angle(10,43,45))\n",
        "print(area_two_sides_angle(5, 10, 98))\n",
        "print(area_two_sides_angle(1,100,210))\n"
      ]
    },
    {
      "cell_type": "markdown",
      "id": "11eaa617",
      "metadata": {
        "id": "11eaa617"
      },
      "source": [
        "## Task 3\n",
        "\n",
        "Write a function `is_triangle` that, given three numbers, checks whether they can be the sides of a triangle (i.e., whether a triangle with these sides can exist).\n",
        "\n",
        "- Assume that the numbers are positive.\n",
        "\n",
        "Test the function by calling it with different sets of parameter values and printing the result."
      ]
    },
    {
      "cell_type": "code",
      "execution_count": 3,
      "id": "10cddf67",
      "metadata": {
        "id": "10cddf67",
        "colab": {
          "base_uri": "https://localhost:8080/"
        },
        "outputId": "c53b95a8-c8b4-4d81-c5b1-ef230f6cf2f5"
      },
      "outputs": [
        {
          "output_type": "stream",
          "name": "stdout",
          "text": [
            "triangle doesn't exist\n",
            "False\n",
            "triangle exists\n",
            "True\n",
            "triangle exists\n",
            "True\n"
          ]
        }
      ],
      "source": [
        "# Solution of exercise 3.\n",
        "def is_triangle(a_side, b_side, c_side):\n",
        "    if a_side + b_side > c_side and a_side + c_side > b_side and \\\n",
        "    b_side + c_side > a_side:\n",
        "        print(\"triangle exists\")\n",
        "        return True\n",
        "    else:\n",
        "        print(\"triangle doesn't exist\")\n",
        "        return False\n",
        "print(is_triangle(10,5,15))\n",
        "print(is_triangle(3,4,5))\n",
        "print(is_triangle(6,6,6))"
      ]
    },
    {
      "cell_type": "markdown",
      "id": "c6ba28b8",
      "metadata": {
        "id": "c6ba28b8"
      },
      "source": [
        "## Task 4\n",
        "\n",
        "Write a function `area_three_sides` that, given three sides, calculates the area of a triangle.\n",
        "\n",
        "- Assume that the sides are positive numbers.\n",
        "- Assume that a triangle can be formed from the given sides.\n",
        "\n",
        "Test the function by calling it with different sets of parameter values and printing the result."
      ]
    },
    {
      "cell_type": "code",
      "execution_count": 4,
      "id": "4bc59742",
      "metadata": {
        "id": "4bc59742",
        "colab": {
          "base_uri": "https://localhost:8080/"
        },
        "outputId": "00209ba4-47d3-4a8f-e6be-98fa378d9ff2"
      },
      "outputs": [
        {
          "output_type": "stream",
          "name": "stdout",
          "text": [
            "499.3746088859545\n",
            "6.0\n",
            "125.14067084685138\n"
          ]
        }
      ],
      "source": [
        "# Solution of exercise 4.\n",
        "import math\n",
        "def area_three_sides(a_side, b_side, c_side):\n",
        "    perimeter = (a_side + b_side + c_side) / 2\n",
        "    res = math.sqrt(perimeter * (perimeter - a_side) * (perimeter - b_side) * \\\n",
        "     (perimeter - c_side))\n",
        "    return res\n",
        "print(area_three_sides(10,100,100))\n",
        "print(area_three_sides(3,4,5))\n",
        "print(area_three_sides(17,17,17))\n"
      ]
    },
    {
      "cell_type": "markdown",
      "id": "67bf85c7",
      "metadata": {
        "id": "67bf85c7"
      },
      "source": [
        "## Task 5\n",
        "\n",
        "Write a function `menu` that displays the following menu:\n",
        "\n",
        "```\n",
        "1: side and height dropped on it\n",
        "2: two sides and the angle between them\n",
        "3: three sides\n",
        "```\n",
        "\n",
        "Then it prompts the user to choose an option:\n",
        "\n",
        "```\n",
        "Choose an option (1, 2 or 3):\n",
        "```\n",
        "\n",
        "It checks if the user entered a valid option. The function should handle cases where the user inputs something other than a number, for example, `afdsaf`.\n",
        "\n",
        "The function should return an **integer**, which is the number of the selected option (not a string). If the user enters an invalid option, the function should display the message:\n",
        "\n",
        "```\n",
        "Incorrect option...\n",
        "Option 1 is selected by default.\n",
        "```\n",
        "\n",
        "and return 1.\n",
        "\n",
        "Hint: review the tasks from previous labs.\n",
        "\n",
        "Test the function by calling it multiple times, providing different inputs, and printing the result."
      ]
    },
    {
      "cell_type": "code",
      "execution_count": 5,
      "id": "c7b98bbe",
      "metadata": {
        "id": "c7b98bbe",
        "colab": {
          "base_uri": "https://localhost:8080/"
        },
        "outputId": "82064cfe-de70-4d64-c93d-c76669ea0e1f"
      },
      "outputs": [
        {
          "output_type": "stream",
          "name": "stdout",
          "text": [
            "1: side and height dropped on it \n",
            "2: two sides and the angle     between them \n",
            "3: three sides\n",
            "Choose an option (1, 2 or 3):3\n",
            "3\n"
          ]
        }
      ],
      "source": [
        "# Solution of exercise 5.\n",
        "def menu(promt):\n",
        "    print(promt)\n",
        "    choice = input(\"Choose an option (1, 2 or 3):\")\n",
        "    if choice.isdecimal() == False :\n",
        "        print(\"Incorrect option... Option 1 is selected by default.\")\n",
        "        return 1\n",
        "    else:\n",
        "        true_choice = int(choice)\n",
        "        if true_choice in [1, 2, 3]:\n",
        "            return true_choice\n",
        "        else:\n",
        "            print(\"Incorrect option... Option 1 is selected by default.\")\n",
        "            return 1\n",
        "print(menu(\"1: side and height dropped on it \\n2: two sides and the angle \\\n",
        "    between them \\n3: three sides\"))\n",
        "\n",
        "\n",
        "\n",
        "\n"
      ]
    },
    {
      "cell_type": "markdown",
      "id": "96414a49",
      "metadata": {
        "id": "96414a49"
      },
      "source": [
        "## Task 6\n",
        "\n",
        "Write a function `get_positive_integer` that prompts the user to input a **positive integer**. The prompt message, which encourages the user to enter a number, should be passed as a parameter. The function will be used for different purposes (e.g., inputting the length of a side, angle measure), and the prompt should be adapted to the situation. It will be provided during the function call.\n",
        "\n",
        "The function checks if the user has entered valid data. It should handle cases where the user inputs something other than a number, for example, `afdsaf`.\n",
        "\n",
        "The function should return the **number** (not a string). If the user enters invalid data, the function should display the message:\n",
        "\n",
        "```\n",
        "It isn't a positive integer...\n",
        "Value 1 is set by default.\n",
        "```\n",
        "\n",
        "and return 1.\n",
        "\n",
        "Test the function by calling it multiple times, providing different inputs, and printing the result."
      ]
    },
    {
      "cell_type": "code",
      "execution_count": 6,
      "id": "1fabce07",
      "metadata": {
        "id": "1fabce07",
        "colab": {
          "base_uri": "https://localhost:8080/"
        },
        "outputId": "e8f274f9-82ca-4c6c-d037-260522fa2bae"
      },
      "outputs": [
        {
          "output_type": "stream",
          "name": "stdout",
          "text": [
            "Enter a nonnegative integer:-6\n",
            "-6 It isn't a positive integer... Value 1 is set by default.\n",
            "1\n"
          ]
        }
      ],
      "source": [
        "# Solution of exercise 6.\n",
        "def get_positive_integer(promt):\n",
        "  liczba = input(promt)\n",
        "  if liczba.isdecimal() == False :\n",
        "      print(f\"{liczba} It isn't a positive integer... Value 1 is set by default.\")\n",
        "      return 1\n",
        "  else:\n",
        "      liczba = int(liczba)\n",
        "      return liczba\n",
        "\n",
        "print(get_positive_integer(\"Enter a nonnegative integer:\"))\n"
      ]
    },
    {
      "cell_type": "markdown",
      "id": "7099a77b",
      "metadata": {
        "id": "7099a77b"
      },
      "source": [
        "\n",
        "\n",
        "## Task 7\n",
        "\n",
        "Write a function `get_positive_integer_smaller_than` that asks the user to enter a **positive integer smaller than a given limit**. The prompt displayed to the user, asking them to input the number, should be passed as a parameter.\n",
        "\n",
        "The function checks if the user has entered valid data. It should handle the case when the user enters something other than a number, for example, `afdsaf`.\n",
        "\n",
        "The function should return the entered **number** (not a string). If the user does not enter a valid positive integer, the function should display the message:\n",
        "\n",
        "```\n",
        "It isn't a positive integer...\n",
        "Value 1 is set by default.\n",
        "```\n",
        "\n",
        "and return 1.\n",
        "\n",
        "If the user enters an integer that is too large, the function should display the message:\n",
        "\n",
        "```\n",
        "Integer is too big...\n",
        "Value 1 is set by default.\n",
        "```\n",
        "\n",
        "and also return 1.\n",
        "\n",
        "You must call the function `get_positive_integer` within this function (you should avoid copying the code — since we already have a tested function that performs part of the work, it should be reused, and the rest of the logic should be added).\n",
        "\n",
        "Test the function by calling it several times, entering different data, and printing the result.\n",
        "\n",
        "---"
      ]
    },
    {
      "cell_type": "code",
      "execution_count": 17,
      "id": "4de4a8cc",
      "metadata": {
        "id": "4de4a8cc",
        "colab": {
          "base_uri": "https://localhost:8080/"
        },
        "outputId": "55962cc2-96c0-4d25-f658-1899f20fbd42"
      },
      "outputs": [
        {
          "output_type": "stream",
          "name": "stdout",
          "text": [
            "Please enter a positive integer less than the given limit 6\n",
            "It is a positive integer.\n",
            "6.0\n"
          ]
        }
      ],
      "source": [
        "# Solution of exercise 7.\n",
        "def get_positive_integer_smaller_than(promt, limit):\n",
        "  num = input(promt)\n",
        "  if num.isdecimal() == False :\n",
        "      print(f\"{num} It isn't a positive integer... Value 1 is set by default.\")\n",
        "      return 1\n",
        "  if int(num) > limit:\n",
        "    print (\"Integer is too big... Value 1 is set by default.\")\n",
        "    return 1\n",
        "  else:\n",
        "    print(\"It is a positive integer.\")\n",
        "    return float(num)\n",
        "res = get_positive_integer_smaller_than(\"Please enter a positive integer less than the given limit \",56)\n",
        "print(res)"
      ]
    },
    {
      "cell_type": "markdown",
      "id": "73909169",
      "metadata": {
        "id": "73909169"
      },
      "source": [
        "## Task 8\n",
        "\n",
        "Use the magic command `%whos` to see which objects have been created during the work with the notebook.\n",
        "\n",
        "Note: If you restart the kernel at this point, all these objects will be removed. Since most of them are needed for further tasks, after restarting the kernel, you would need to rerun all previous tasks. There is an option in the notebook menu to run all code up to a specified cell. You can test this."
      ]
    },
    {
      "cell_type": "code",
      "execution_count": 8,
      "id": "dae966a8",
      "metadata": {
        "id": "dae966a8",
        "colab": {
          "base_uri": "https://localhost:8080/"
        },
        "outputId": "8eeab669-9f79-4785-ba42-658ca942f364"
      },
      "outputs": [
        {
          "output_type": "stream",
          "name": "stdout",
          "text": [
            "Variable                            Type        Data/Info\n",
            "---------------------------------------------------------\n",
            "area_side_height                    function    <function area_side_height at 0x7fa5788b7400>\n",
            "area_three_sides                    function    <function area_three_sides at 0x7fa5788b6830>\n",
            "area_two_sides_angle                function    <function area_two_sides_angle at 0x7fa5788b76d0>\n",
            "get_positive_integer                function    <function get_positive_integer at 0x7fa5788b7a30>\n",
            "get_positive_integer_smaller_than   function    <function get_positive_in<...>r_than at 0x7fa5788b6050>\n",
            "is_triangle                         function    <function is_triangle at 0x7fa5788b6320>\n",
            "math                                module      <module 'math' (built-in)>\n",
            "menu                                function    <function menu at 0x7fa5788b7370>\n",
            "res                                 int         1\n"
          ]
        }
      ],
      "source": [
        "# Solution of exercise 8.\n",
        "%whos"
      ]
    },
    {
      "cell_type": "markdown",
      "id": "c6663fb9",
      "metadata": {
        "id": "c6663fb9"
      },
      "source": [
        "## Task 9\n",
        "\n",
        "Write a function `option_side_height` that:\n",
        "- reads the side of a triangle,\n",
        "- reads the height of the triangle,\n",
        "- calculates the area of the triangle for the given data,\n",
        "- prints the area.\n",
        "\n",
        "Be sure to use the functions written earlier (the entire function should be 4 lines of code).\n",
        "\n",
        "Test the function by calling it multiple times.\n",
        "\n",
        "Example function executions:\n",
        "\n",
        "- `Enter the side length (positive integer):  4\n",
        "Enter the height length (positive integer):  2\n",
        "The area of the triangle is equal to 4.0.`\n",
        "\n",
        "- `Enter the side length (positive integer):  3\n",
        "Enter the height length (positive integer):  df\n",
        "It isn't a positive integer...\n",
        "Value 1 is set by default.\n",
        "The area of the triangle is equal to 1.5.`\n"
      ]
    },
    {
      "cell_type": "code",
      "execution_count": 9,
      "id": "0e3861db",
      "metadata": {
        "id": "0e3861db",
        "colab": {
          "base_uri": "https://localhost:8080/"
        },
        "outputId": "4f16d28e-97a1-47c9-83fe-a26355160c00"
      },
      "outputs": [
        {
          "output_type": "stream",
          "name": "stdout",
          "text": [
            "Enter the side length (positive integer):56\n",
            "Enter the height length (positive integer):7\n",
            "The area of the triangle is equal to  196.0\n"
          ]
        }
      ],
      "source": [
        "# Solution of exercise 9.\n",
        "def option_side_height():\n",
        "  a_side = get_positive_integer('Enter the side length (positive integer):')\n",
        "  h = get_positive_integer('Enter the height length (positive integer):')\n",
        "  res = area_side_height(a_side, h)\n",
        "  return res\n",
        "print(\"The area of the triangle is equal to \",option_side_height())\n",
        "\n",
        "\n"
      ]
    },
    {
      "cell_type": "markdown",
      "id": "36b124c1",
      "metadata": {
        "id": "36b124c1"
      },
      "source": [
        "## Task 10\n",
        "\n",
        "Write a function `option_two_sides_angle` that:\n",
        "- reads two sides of a triangle,\n",
        "- reads the angle between these sides expressed in degrees (pay attention to the restrictions),\n",
        "- calculates the area of the triangle for the given data,\n",
        "- prints the area.\n",
        "\n",
        "Be sure to use the functions written earlier.\n",
        "\n",
        "Test the function by calling it multiple times.\n",
        "\n",
        "Example function executions:\n",
        "\n",
        "- `Enter the first side length (positive integer):  4\n",
        "Enter the second side length (positive integer):  6\n",
        "Enter the angle in degrees (positive integer smaller than 180):  90\n",
        "The area of the triangle is equal to 12.0.`\n",
        "\n",
        "- `Enter the first side length (positive integer):  dfa\n",
        "It isn't a positive integer...\n",
        "Value 1 is set by default.\n",
        "Enter the second side length (positive integer):  1\n",
        "Enter the angle in degrees (positive integer smaller than 180):  60\n",
        "The area of the triangle is equal to 0.4330127018922193.`"
      ]
    },
    {
      "cell_type": "code",
      "execution_count": 18,
      "id": "5a61b962",
      "metadata": {
        "id": "5a61b962",
        "colab": {
          "base_uri": "https://localhost:8080/"
        },
        "outputId": "c537f140-d1f2-41f9-a7ca-b68ba608c727"
      },
      "outputs": [
        {
          "output_type": "stream",
          "name": "stdout",
          "text": [
            "Enter the first side length (positive integer):3\n",
            "Enter the second side length (positive integer):4\n",
            "Enter the angle in degrees (positive integer smaller than 180):90\n",
            "It is a positive integer.\n",
            "6.0\n"
          ]
        }
      ],
      "source": [
        "# Solution of exercise 10.\n",
        "import math\n",
        "def option_two_sides_angle():\n",
        "  a_side = get_positive_integer('Enter the first side length (positive integer):')\n",
        "  b_side = get_positive_integer('Enter the second side length (positive integer):')\n",
        "  c_degrees = get_positive_integer_smaller_than('Enter the angle in degrees (positive integer smaller than 180):',180)\n",
        "  res = area_two_sides_angle(a_side, b_side, c_degrees)\n",
        "\n",
        "  return res\n",
        "print(option_two_sides_angle())\n",
        "\n",
        "\n"
      ]
    },
    {
      "cell_type": "markdown",
      "id": "d3fcbad2",
      "metadata": {
        "id": "d3fcbad2"
      },
      "source": [
        "## Task 11\n",
        "\n",
        "Write a function `option_three_sides` that:\n",
        "- reads three sides of a triangle,\n",
        "- checks if a triangle can be formed with these sides (if not, it should print an appropriate message),\n",
        "- calculates the area of the triangle for the given data (if the sides form a triangle) and prints the area.\n",
        "\n",
        "Be sure to use the functions written earlier.\n",
        "\n",
        "Test the function by calling it multiple times.\n",
        "\n",
        "Example function executions:\n",
        "- `Enter the first side length (positive integer):  1\n",
        "Enter the second side length (positive integer):  1\n",
        "Enter the third side length (positive integer):  1\n",
        "The area of the triangle is equal to 0.4330127018922193.`\n",
        "\n",
        "- `Enter the first side length (positive integer):  1\n",
        "Enter the second side length (positive integer):  1\n",
        "Enter the third side length (positive integer):  3\n",
        "You cannot build a triangle with such sides.`\n",
        "\n",
        "- `Enter the first side length (positive integer):  dfa\n",
        "It isn't a positive integer...\n",
        "Value 1 is set by default.\n",
        "Enter the second side length (positive integer):  1\n",
        "Enter the third side length (positive integer):  1\n",
        "The area of the triangle is equal to 0.4330127018922193.`"
      ]
    },
    {
      "cell_type": "code",
      "execution_count": 19,
      "id": "f5b509e7",
      "metadata": {
        "id": "f5b509e7",
        "colab": {
          "base_uri": "https://localhost:8080/"
        },
        "outputId": "252b4cae-036b-4b2c-c407-81736419a3e1"
      },
      "outputs": [
        {
          "output_type": "stream",
          "name": "stdout",
          "text": [
            "Enter the first side length (positive integer):3\n",
            "Enter the second side length (positive integer):4\n",
            "Enter the third side length (positive integer):5\n",
            "6.0\n"
          ]
        }
      ],
      "source": [
        "# Solution of exercise 11.\n",
        "import math\n",
        "def option_three_sides():\n",
        "  a_side = get_positive_integer('Enter the first side length (positive integer):')\n",
        "  b_side = get_positive_integer('Enter the second side length (positive integer):')\n",
        "  c_side = get_positive_integer('Enter the third side length (positive integer):')\n",
        "  res = area_three_sides(a_side, b_side, c_side)\n",
        "  return res\n",
        "print(option_three_sides())\n"
      ]
    },
    {
      "cell_type": "markdown",
      "id": "107ff821",
      "metadata": {
        "id": "107ff821"
      },
      "source": [
        "## Task 12\n",
        "\n",
        "Write a function `main` that:\n",
        "- prints a brief description of what the program does,\n",
        "- displays a menu allowing the user to choose the method for calculating the area of a triangle,\n",
        "- after the user selects an option, collects the data and calculates the area.\n",
        "\n",
        "Be sure to use the previously written functions (the function should be around 9 lines of code).\n",
        "\n",
        "Example program execution:\n",
        "\n",
        "- `Program calculates the area of a triangle in three ways.\n",
        "Choose what data do you want to provide:\n",
        "1: side and height dropped on it\n",
        "2: two sides and the angle between them\n",
        "3: three sides\n",
        "Choose an option (1, 2 or 3): 3\n",
        "Enter the first side length (positive integer):  3\n",
        "Enter the second side length (positive integer):  4\n",
        "Enter the third side length (positive integer):  5\n",
        "The area of the triangle is equal to 6.0.`"
      ]
    },
    {
      "cell_type": "markdown",
      "source": [],
      "metadata": {
        "id": "KBYhpAAmR5U-"
      },
      "id": "KBYhpAAmR5U-"
    },
    {
      "cell_type": "code",
      "execution_count": 20,
      "id": "b9e1f679",
      "metadata": {
        "id": "b9e1f679",
        "colab": {
          "base_uri": "https://localhost:8080/"
        },
        "outputId": "e3fefe08-665a-4630-ea58-76a92c7c0bee"
      },
      "outputs": [
        {
          "output_type": "stream",
          "name": "stdout",
          "text": [
            "Program calculates the area of a triangle in three ways.   \n",
            "Choose what data do you want to provide: \n",
            "1: side and height dropped on it   \n",
            "2: two sides and the angle between them \n",
            "3: three sides\n",
            "Choose an option (1, 2 or 3):1\n",
            "Enter the side length (positive integer):4\n",
            "Enter the height length (positive integer):78\n",
            "156.0\n"
          ]
        }
      ],
      "source": [
        "# Solution of exercise 12.\n",
        "def main():\n",
        "\n",
        "  choice = menu(\"Program calculates the area of a triangle in three ways. \\\n",
        "  \\nChoose what data do you want to provide: \\n1: side and height dropped on it \\\n",
        "  \\n2: two sides and the angle between them \\n3: three sides\")\n",
        "\n",
        "  if int(choice) == 1:\n",
        "    res = option_side_height()\n",
        "  elif int(choice) == 2:\n",
        "    res = option_two_sides_angle()\n",
        "  elif int(choice) == 3:\n",
        "    res = option_three_sides()\n",
        "  return res\n",
        "print(main())\n",
        "\n"
      ]
    },
    {
      "cell_type": "markdown",
      "id": "4d28235f",
      "metadata": {
        "id": "4d28235f"
      },
      "source": [
        "## Task 13 - Consolidation of Knowledge: Functions and Orders\n",
        "\n",
        "- Write a function that checks the relationship between two values and displays one of the following messages:\n",
        "    - `the first is smaller than the second`,\n",
        "    - `the first is greater than the second`,\n",
        "    - `both are equal`.\n",
        "- Test the function by calling it with integer values (several calls).\n",
        "- Test the function by calling it with floating-point numbers (several calls).\n",
        "- Test the function by calling it with strings (several calls). Experimentally determine what happens in this case.\n",
        "- Test the function by calling it with lists (several calls). Experimentally determine what happens in this case.\n",
        "- Test the function by calling it with tuples (several calls). Experimentally determine what happens in this case.\n",
        "- Test the function by calling it with dictionaries."
      ]
    },
    {
      "cell_type": "code",
      "execution_count": 22,
      "id": "f0041b77",
      "metadata": {
        "id": "f0041b77",
        "colab": {
          "base_uri": "https://localhost:8080/"
        },
        "outputId": "66c61817-d41c-46bd-9e89-37a1ee873c59"
      },
      "outputs": [
        {
          "output_type": "stream",
          "name": "stdout",
          "text": [
            "The first:6\n",
            "The second:88\n",
            "The first is smaller than the second\n"
          ]
        }
      ],
      "source": [
        "# Solution of exercise 13\n",
        "def por():\n",
        "    a = input(\"The first:\")\n",
        "    b = input(\"The second:\")\n",
        "    if a > b:\n",
        "        print(\"The first is greater than the second\")\n",
        "    elif a < b:\n",
        "        print(\"The first is smaller than the second\")\n",
        "    elif a == b:\n",
        "        print(\"Both are equal\")\n",
        "por()\n",
        "#The first:4 \\The second:4 \\Both are equal\n",
        "#The first:5 \\The second:2 \\The first is greater than the second\n",
        "#The first:2 \\The second:3 \\The first is smaller than the second\n",
        "\n",
        "#The first:4.7 \\The second:4.7 \\Both are equal\n",
        "#The first:5.6 \\The second:4.7 \\The first is greater than the second\n",
        "#The first:2.1 \\The second:5.6 \\The first is smaller than the second\n",
        "\n",
        "#The first:apple \\The second:banan \\The first is smaller than the second\n",
        "#The first:milk \\The second:milk \\Both are equal\n",
        "#The first:cucumber \\The second:brother \\The first is greater than the second\n",
        "\n",
        "#The first:[1,2,3,ha] \\The second:[4,5,milk,10,9] \\The first is smaller than the second\n",
        "#The first:[h,f,4,12,34,56] \\The second:[5] \\The first is greater than the second\n",
        "#The first:[1,2,3] \\The second:[1,2,3] \\Both are equal\n",
        "\n",
        "#The first:(1,2,3,'juice') \\The second:(98,'house')\\The first is smaller than the second\n",
        "#The first:(98,'lala','lalala') \\The second:(8,'lala','lalala') \\The first is greater than the second\n",
        "#The first:(1,2,3) \\The second:(1,2,3) \\Both are equal\n",
        "\n",
        "#The first:{\"cat\":1, \"dog\":2} \\The second:{\"milk\":7, \"tea\":4}\\The first is smaller than the second\n",
        "#The first:{'a':1, 'b':2} \\The second:{'a':1, 'b':2} \\Both are equal"
      ]
    },
    {
      "cell_type": "markdown",
      "id": "2f051095",
      "metadata": {
        "id": "2f051095"
      },
      "source": [
        "## Task 14 - Consolidation of Knowledge: Functions - Basics\n",
        "\n",
        "- Write a function named `hello_world` that returns the text \"Hello World!\".\n",
        "- Call the function. Can you see the result of the call?\n",
        "- Call the function inside the `print` function. Can you see the result of the call?\n",
        "- Check the behavior of the `type` function with the argument `hello_world`."
      ]
    },
    {
      "cell_type": "code",
      "execution_count": 23,
      "id": "9ddc14c2",
      "metadata": {
        "id": "9ddc14c2",
        "colab": {
          "base_uri": "https://localhost:8080/"
        },
        "outputId": "5e4d0cb6-df48-4816-c5df-8cf3b7971741"
      },
      "outputs": [
        {
          "output_type": "stream",
          "name": "stdout",
          "text": [
            "Hello World!\n",
            "<class 'str'>\n"
          ]
        }
      ],
      "source": [
        "# Solution of exercise 14\n",
        "def hello_world():\n",
        "    return \"Hello World!\"\n",
        "hello_world()\n",
        "\n",
        "print(hello_world())\n",
        "print(type(hello_world()))\n"
      ]
    },
    {
      "cell_type": "markdown",
      "id": "33126b2f",
      "metadata": {
        "id": "33126b2f"
      },
      "source": [
        "## Task 15 - Consolidation of Knowledge: Functions and Parameters\n",
        "\n",
        "Write a function `greet_user`. It should have one input parameter `user`. The function should return (not print) the text `\"Hello \"` concatenated with the value of the parameter. The parameter is designed to store the user's name or nickname.\n",
        "\n",
        "Test the function's behavior."
      ]
    },
    {
      "cell_type": "code",
      "execution_count": 24,
      "id": "916a1325",
      "metadata": {
        "id": "916a1325",
        "colab": {
          "base_uri": "https://localhost:8080/"
        },
        "outputId": "2409153c-026b-4739-d990-4ab4f1a1278a"
      },
      "outputs": [
        {
          "output_type": "stream",
          "name": "stdout",
          "text": [
            "Hello Polina\n"
          ]
        }
      ],
      "source": [
        "def greet_user(user):\n",
        "    hello = \"Hello \" + user\n",
        "    return hello\n",
        "print(greet_user(\"Polina\"))"
      ]
    },
    {
      "cell_type": "markdown",
      "id": "a12f1f09",
      "metadata": {
        "id": "a12f1f09"
      },
      "source": [
        "- Write a function `greet_user_n`. It should have two input parameters: `user` and `n`. The function should return (not print!) a greeting text like the previous function, repeated `n` times. Each greeting should be separated by a new line, e.g., calling `greet_user_n(\"Tom\", 3)` should return the following text:\n",
        "\n",
        "```\n",
        "Hello Tom\n",
        "Hello Tom\n",
        "Hello Tom\n",
        "```\n",
        "\n",
        "- Test the function. During testing, consider cases with too few or too many arguments."
      ]
    },
    {
      "cell_type": "code",
      "execution_count": 25,
      "id": "7272b738",
      "metadata": {
        "id": "7272b738",
        "colab": {
          "base_uri": "https://localhost:8080/"
        },
        "outputId": "d0490bcd-73b1-47da-d61f-62bed823e295"
      },
      "outputs": [
        {
          "output_type": "stream",
          "name": "stdout",
          "text": [
            "Hello Polina Hello Polina Hello Polina Hello Polina Hello Polina Hello Polina Hello Polina Hello Polina Hello Polina Hello Polina Hello Polina Hello Polina Hello Polina Hello Polina Hello Polina Hello Polina Hello Polina Hello Polina Hello Polina Hello Polina Hello Polina Hello Polina Hello Polina Hello Polina Hello Polina Hello Polina Hello Polina Hello Polina Hello Polina Hello Polina Hello Polina Hello Polina Hello Polina Hello Polina Hello Polina Hello Polina Hello Polina Hello Polina Hello Polina Hello Polina Hello Polina Hello Polina Hello Polina Hello Polina Hello Polina Hello Polina Hello Polina Hello Polina Hello Polina Hello Polina Hello Polina Hello Polina Hello Polina Hello Polina Hello Polina Hello Polina Hello Polina Hello Polina Hello Polina Hello Polina Hello Polina Hello Polina Hello Polina Hello Polina Hello Polina Hello Polina Hello Polina Hello Polina Hello Polina Hello Polina Hello Polina Hello Polina Hello Polina Hello Polina Hello Polina Hello Polina Hello Polina Hello Polina Hello Polina Hello Polina Hello Polina Hello Polina Hello Polina Hello Polina Hello Polina Hello Polina Hello Polina Hello Polina Hello Polina Hello Polina Hello Polina Hello Polina Hello Polina Hello Polina Hello Polina Hello Polina Hello Polina Hello Polina Hello Polina Hello Polina \n"
          ]
        }
      ],
      "source": [
        "def greet_user_n(user,n):\n",
        "    hello = (\"Hello \" + user) * n\n",
        "    return hello\n",
        "print(greet_user_n(\"Polina \",100))"
      ]
    }
  ],
  "metadata": {
    "kernelspec": {
      "display_name": "Python 3",
      "language": "python",
      "name": "python3"
    },
    "language_info": {
      "codemirror_mode": {
        "name": "ipython",
        "version": 3
      },
      "file_extension": ".py",
      "mimetype": "text/x-python",
      "name": "python",
      "nbconvert_exporter": "python",
      "pygments_lexer": "ipython3",
      "version": "3.8.1"
    },
    "colab": {
      "provenance": []
    }
  },
  "nbformat": 4,
  "nbformat_minor": 5
}