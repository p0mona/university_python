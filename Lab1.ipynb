{
  "cells": [
    {
      "cell_type": "markdown",
      "metadata": {
        "id": "ZoaYEC7QeLN-"
      },
      "source": [
        "<br>\n",
        "\n",
        "## Task 1\n",
        "\n",
        "Try to complete the following two tasks without using the Internet or lecture notes. If you cannot manage, refer to Lecture 2.\n",
        "\n",
        "*Create four variables: one of integer type, one of floating-point type, one of string type, and one of boolean type, with the respective names: int_var, float_var, str_var, bool_var.\n",
        "\n",
        "*Print the values of these variables and their types."
      ]
    },
    {
      "cell_type": "code",
      "execution_count": 1,
      "metadata": {
        "colab": {
          "base_uri": "https://localhost:8080/"
        },
        "id": "UZYZ6Q1DeLN_",
        "outputId": "5bbb37b9-c7b1-4b97-96e6-8269e10b404e"
      },
      "outputs": [
        {
          "name": "stdout",
          "output_type": "stream",
          "text": [
            "5 <class 'int'>\n",
            "-3.14 <class 'float'>\n",
            "Hello <class 'str'>\n",
            "True <class 'bool'>\n"
          ]
        }
      ],
      "source": [
        "# Solution of exercise 1\n",
        "int_var = 5\n",
        "float_var = -3.14\n",
        "str_var = \"Hello\"\n",
        "bool_var = True\n",
        "print(int_var, type(int_var))\n",
        "print(float_var, type(float_var))\n",
        "print(str_var, type(str_var))\n",
        "print(bool_var, type(bool_var))\n"
      ]
    },
    {
      "cell_type": "markdown",
      "metadata": {
        "id": "4F85Nu12eLOA"
      },
      "source": [
        "<br>\n",
        "\n",
        "## Task 2  \n",
        "\n",
        "1. Use the magic command:  \n",
        "   ```python\n",
        "   %whos\n",
        "   ```  \n",
        "   If you wish, you can read about magic commands on the following pages:  \n",
        "   - [Top 8 Magic Commands in Jupyter Notebook](https://towardsdatascience.com/top-8-magic-commands-in-jupyter-notebook-c1582e813560)  \n",
        "   - [9 Magic Commands to Enhance Your Jupyter Notebook Experience](https://towardsdatascience.com/9-magic-command-to-enhance-your-jupyter-notebook-experience-101fb5f3a84).  \n",
        "\n",
        "2. Then, delete the variable:  \n",
        "   ```python\n",
        "   int_var\n",
        "   ```  \n",
        "\n",
        "3. Check if it has actually been deleted.  \n",
        "\n",
        "4. Try deleting the same variable again. What happens in this case?  \n",
        "\n",
        "5. Save the notebook's kernel (save). Restart the notebook's kernel and execute the code written in this task again:  \n",
        "   ```python\n",
        "   %whos\n",
        "   ```  "
      ]
    },
    {
      "cell_type": "code",
      "execution_count": 2,
      "metadata": {
        "colab": {
          "base_uri": "https://localhost:8080/"
        },
        "id": "mloyytS9eLOA",
        "outputId": "71746b06-fa9b-4e95-d225-77a1b4d62c32"
      },
      "outputs": [
        {
          "name": "stdout",
          "output_type": "stream",
          "text": [
            "Variable    Type     Data/Info\n",
            "------------------------------\n",
            "bool_var    bool     True\n",
            "float_var   float    -3.14\n",
            "int_var     int      5\n",
            "str_var     str      Hello\n",
            "Variable    Type     Data/Info\n",
            "------------------------------\n",
            "bool_var    bool     True\n",
            "float_var   float    -3.14\n",
            "str_var     str      Hello\n"
          ]
        }
      ],
      "source": [
        "# Solution of exercise 2.\n",
        "%whos\n",
        "del int_var\n",
        "%whos"
      ]
    },
    {
      "cell_type": "markdown",
      "metadata": {
        "id": "fjbUE_2YeLOA"
      },
      "source": [
        "<br>\n",
        "\n",
        "## Task 3 - Very Important  \n",
        "\n",
        "Imagine that a program requires a condition to check whether a number belongs to the interval [1,3).  \n",
        "\n",
        "Specifically, the condition should be **true** if and only if the number belongs to the interval [1,3), meaning:  \n",
        "- If the number is within [1,3), the condition is true.  \n",
        "- If the number is outside [1,3), the condition is false.  \n",
        "\n",
        "The condition can be written as follows:  \n",
        "\n",
        "```python\n",
        "val >= 1 and val < 3\n",
        "```  \n",
        "\n",
        "After writing the condition, it is important to test it, especially if the condition is more complex. The tests should cover all relevant cases. Here, it would be appropriate to test the following values:  \n",
        "\n",
        "> -4, 2.5, 23  \n",
        "\n",
        "(A number \"too small,\" a \"valid\" number, a number \"too large\") and also the edges of the interval:  \n",
        "\n",
        "> 1, 3.  \n",
        "\n",
        "The code could look like this. It should be executed at least 5 times, entering the mentioned values into the variable `val`.  \n"
      ]
    },
    {
      "cell_type": "code",
      "execution_count": 3,
      "metadata": {
        "colab": {
          "base_uri": "https://localhost:8080/"
        },
        "id": "HZ217EwHeLOB",
        "outputId": "1a68f061-5c37-4cce-a4d7-b3ea4d00e682"
      },
      "outputs": [
        {
          "name": "stdout",
          "output_type": "stream",
          "text": [
            "True\n"
          ]
        }
      ],
      "source": [
        "val = 2.5\n",
        "cond = val >= -1 and val < 3\n",
        "print(cond)"
      ]
    },
    {
      "cell_type": "markdown",
      "metadata": {
        "id": "CuXIZHQkeLOB"
      },
      "source": [
        "Write the following conditions and test them. In the comments, specify the values you used for testing. Try to make the conditions as simple as possible.\n",
        "\n",
        "*A condition that is true if and only if the number belongs to the interval (-100, 100) but is not equal to 0.\n",
        "\n",
        "*A condition that is true if and only if the number belongs to the set (-∞, -4) ∪ [3.75, +∞).\n",
        "\n",
        "*A condition that is true if and only if the number is even and greater than 100. Note: Assume the number is an integer, and to check if a number is even, use the modulus operator (%). For example, 7 % 3 calculates the remainder of dividing 7 by 3, and the result is 1."
      ]
    },
    {
      "cell_type": "code",
      "execution_count": 4,
      "metadata": {
        "colab": {
          "base_uri": "https://localhost:8080/"
        },
        "id": "apbgV62JeLOC",
        "outputId": "e45cd99a-17fd-4336-c723-df0134b19cf7"
      },
      "outputs": [
        {
          "name": "stdout",
          "output_type": "stream",
          "text": [
            "False\n"
          ]
        }
      ],
      "source": [
        "# Solution of exercise 3 - condition 1\n",
        "val = 0\n",
        "cond = val > -100 and val < 100 and val != 0\n",
        "print(cond)\n",
        "# for: 4, -2, -100, 0, 5.5, 100"
      ]
    },
    {
      "cell_type": "code",
      "execution_count": 5,
      "metadata": {
        "colab": {
          "base_uri": "https://localhost:8080/"
        },
        "id": "cofxN_YYeLOC",
        "outputId": "2a435134-3694-4c3e-a53c-d2a6ec0e24e1"
      },
      "outputs": [
        {
          "name": "stdout",
          "output_type": "stream",
          "text": [
            "True\n"
          ]
        }
      ],
      "source": [
        "# Solution of exercise 3 - condition 2\n",
        "val = 4\n",
        "cond = (val < -4) or (val >=3.75)\n",
        "print(cond)\n",
        "# for: -10, -3.9, 0, 3.75, 4"
      ]
    },
    {
      "cell_type": "code",
      "execution_count": 6,
      "metadata": {
        "colab": {
          "base_uri": "https://localhost:8080/"
        },
        "id": "KplVW2_ueLOC",
        "outputId": "f0d6c46c-1056-46d6-8126-b7b4aafb6e8e"
      },
      "outputs": [
        {
          "name": "stdout",
          "output_type": "stream",
          "text": [
            "True\n"
          ]
        }
      ],
      "source": [
        "# Solution of exercise 3 - condition 3\n",
        "val = 104\n",
        "cond = (val > 100) and (val % 2 == 0)\n",
        "print(cond)\n",
        "# for: 100, -100, 0, 101, 104"
      ]
    },
    {
      "cell_type": "markdown",
      "metadata": {
        "id": "hY7kmv9qeLOC"
      },
      "source": [
        "<br>\n",
        "\n",
        "## Task 4 - Very Important\n",
        "\n",
        "Write a condition equivalent to the following condition, but do not use the != operator even once. Use only the == operator. You are allowed to use negation only once. Then test whether the conditions are truly equivalent. In the comments, specify the numbers you used for testing.\n",
        "\n",
        "condition1 = (x != 1 and x != 2 and x != 4)"
      ]
    },
    {
      "cell_type": "code",
      "execution_count": 7,
      "metadata": {
        "colab": {
          "base_uri": "https://localhost:8080/"
        },
        "id": "cqAQOX8oeLOC",
        "outputId": "23a25ff9-0491-4a32-e3c3-b68dbe3f973d"
      },
      "outputs": [
        {
          "name": "stdout",
          "output_type": "stream",
          "text": [
            "1. False\n",
            "False ;\n",
            "2. True\n",
            "True ;\n",
            "3. True\n",
            "True ;\n",
            "4. True\n",
            "True ;\n",
            "5. False\n",
            "False ;\n"
          ]
        }
      ],
      "source": [
        "# Solution of exercise 4\n",
        "x = 4\n",
        "test1 = (x != 1 and x != 2 and x != 4)\n",
        "test2 = not (x == 1 or x == 2 or x == 4)\n",
        "print(\"1.\", test1)\n",
        "print (test2,\";\")\n",
        "\n",
        "x = -1\n",
        "test1 = (x != 1 and x != 2 and x != 4)\n",
        "test2 = not (x == 1 or x == 2 or x == 4)\n",
        "print(\"2.\", test1)\n",
        "print (test2,\";\")\n",
        "\n",
        "x = 0\n",
        "test1 = (x != 1 and x != 2 and x != 4)\n",
        "test2 = not (x == 1 or x == 2 or x == 4)\n",
        "print(\"3.\", test1)\n",
        "print (test2,\";\")\n",
        "\n",
        "x = 10.8\n",
        "test1 = (x != 1 and x != 2 and x != 4)\n",
        "test2 = not (x == 1 or x == 2 or x == 4)\n",
        "print(\"4.\", test1)\n",
        "print (test2,\";\")\n",
        "\n",
        "x = 2\n",
        "test1 = (x != 1 and x != 2 and x != 4)\n",
        "test2 = not (x == 1 or x == 2 or x == 4)\n",
        "print(\"5.\", test1)\n",
        "print (test2,\";\")\n",
        "\n",
        "#for: 4,-1, 0, 10.8, 2"
      ]
    },
    {
      "cell_type": "markdown",
      "metadata": {
        "id": "OtVrFHqZeLOD"
      },
      "source": [
        "<br>\n",
        "\n",
        "## Task 5 - Very Important\n",
        "In a program for managing phone bills, it is necessary to determine whether a customer qualifies for a promotion to receive an additional 1 GB of Internet. Currently, three promotions are in effect:\n",
        "\n",
        "1 GB for students,\n",
        "1 GB for customers who exceeded the free Internet limit in each of the last two months,\n",
        "1 GB for customers whose total Internet usage in the last three months exceeds three times the free Internet limit.\n",
        "Promotions cannot be combined.\n",
        "\n",
        "The program will eventually fetch customer data from a database and store it in the following variables:\n",
        "\n",
        "is_student: a boolean variable, True if the customer is a student, False otherwise,\n",
        "free_limit: the free Internet limit in GB, typically 15 GB, but some customers may have a different limit,\n",
        "one_ago, two_ago, three_ago: total Internet usage in GB for the last month, the month before last, and the month preceding that, respectively.\n",
        "Your task is to write a condition that will be true if and only if the customer qualifies for the additional 1 GB promotion. Store the value of the condition in the variable is_extra_1GB.\n",
        "\n",
        "Since fetching data from the database is not yet implemented, you will need to manually assign values to the variables is_student, free_limit, one_ago, two_ago, and three_ago.\n",
        "\n",
        "Test different cases and document the cases you tested. Use a Markdown cell in this notebook to record the cases you tested (an example test is already written in this cell). You can find information on formatting text in Markdown cells at: Markdown in Jupyter Notebook."
      ]
    },
    {
      "cell_type": "code",
      "execution_count": 8,
      "metadata": {
        "colab": {
          "base_uri": "https://localhost:8080/"
        },
        "id": "VStsheZJeLOD",
        "outputId": "0783a4e7-45ea-4472-883b-bf7ba49c57f8"
      },
      "outputs": [
        {
          "name": "stdout",
          "output_type": "stream",
          "text": [
            "True\n"
          ]
        }
      ],
      "source": [
        "\n",
        "# Solution of exercise 5 - code\n",
        "is_student = False\n",
        "free_limit = 10\n",
        "one_ago = 0\n",
        "two_ago = 0\n",
        "three_ago = 0\n",
        "a = (one_ago and two_ago and three_ago == 0)\n",
        "is_extra_1GB = True\n",
        "if is_student == True or (one_ago > free_limit and two_ago > free_limit)\\\n",
        "  or (one_ago == 0 and two_ago == 0 and three_ago == 0):\n",
        "  print(is_extra_1GB)\n",
        "else:\n",
        "   print(not is_extra_1GB)\n",
        "\n",
        "#is_student = True,free_limit = 15,one_ago = 10,two_ago = 12,three_ago = 16\n",
        "#is_student = False,free_limit = 15,one_ago = 10,two_ago = 12,three_ago = 16\n",
        "#is_student = True,free_limit = 15,one_ago = 16,two_ago = 16,three_ago = 16\n",
        "#is_student = False,free_limit = 10,one_ago = 0,two_ago = 0,three_ago = 0\n"
      ]
    },
    {
      "cell_type": "markdown",
      "metadata": {
        "id": "T3VfI1BUeLOD"
      },
      "source": [
        "<div style='background:#ebeae8'>\n",
        "    \n",
        "#### Solution of exercise 5 - conducted tests\n",
        "\n",
        "Test 1:\n",
        "```python\n",
        "is_student = True\n",
        "free_limit = 15\n",
        "one_ago = 10\n",
        "two_ago = 12\n",
        "three_ago = 16\n",
        "```\n",
        "    \n",
        "</div>    "
      ]
    },
    {
      "cell_type": "markdown",
      "metadata": {
        "id": "ypO23tEjeLOD"
      },
      "source": [
        "<br>\n",
        "##Task 6\n",
        "Check if the code runs.\n",
        "Copy the code below.\n",
        "Then, apply the PEP 8 standard (https://peps.python.org/pep-0008/) to format it correctly.\n",
        "The necessary information can be found in the following sections:\n",
        "\n",
        "Whitespace in Expressions and Statements\n",
        "Naming Conventions -> Prescriptive: Naming Conventions -> Function and Variable Names\n",
        "Code Lay-out -> Maximum Line Length (consider if line breaks are necessary)\n",
        "Code Lay-out -> Indentation"
      ]
    },
    {
      "cell_type": "code",
      "execution_count": 9,
      "metadata": {
        "colab": {
          "base_uri": "https://localhost:8080/"
        },
        "id": "bcbx12nbeLOD",
        "outputId": "94965799-d90d-4d1f-a242-8c5c7d05ec7c"
      },
      "outputs": [
        {
          "name": "stdout",
          "output_type": "stream",
          "text": [
            "The area of a square with side 4.4 is equal to 19.360000000000003 \b. \n",
            "The area of an equilateral triangle with side 2.3 is equal to 2.29063719300984 \b.\n"
          ]
        }
      ],
      "source": [
        "#You can change the length of the sides of the figures.\n",
        "squareside=4.4\n",
        "triangleside=2.3\n",
        "squarearea=  squareside**2\n",
        "trianglearea=triangleside**2*3**0.5/4\n",
        "print (   \"The area of a square with side\",squareside,\"is equal to\",squarearea,\"\\b.\",\"\\nThe area of an equilateral triangle with side\",triangleside,\"is equal to\",trianglearea,\"\\b.\"  )"
      ]
    },
    {
      "cell_type": "code",
      "execution_count": 10,
      "metadata": {
        "colab": {
          "base_uri": "https://localhost:8080/"
        },
        "id": "kKZMn3QOeLOD",
        "outputId": "20bc54d0-952b-408e-a60e-1debdd091e1a"
      },
      "outputs": [
        {
          "name": "stdout",
          "output_type": "stream",
          "text": [
            "The area of a square with side 4.4 is equal to 19.360000000000003 \b. \n",
            "The area of an equilateral triangle with side 2.3 is equal to 2.29063719300984 \b.\n"
          ]
        }
      ],
      "source": [
        "# Solution of exercise 6.\n",
        "square_side = 4.4\n",
        "triangle_side = 2.3\n",
        "square_area = square_side ** 2\n",
        "triangle_area = triangle_side ** 2 * 3 ** 0.5 / 4\n",
        "print(\n",
        "    \"The area of a square with side\", square_side, \"is equal to\", square_area,\n",
        "      \"\\b.\", \"\\nThe area of an equilateral triangle with side\", triangle_side,\n",
        "      \"is equal to\", trianglearea, \"\\b.\"\n",
        "      )"
      ]
    },
    {
      "cell_type": "markdown",
      "metadata": {
        "id": "xM9S-rZseLOD"
      },
      "source": [
        "<br>\n",
        "\n",
        "## Task 7\n",
        "Check what PEP 20 is (https://peps.python.org/). Then enter the command:\n",
        "```python\n",
        "import this\n",
        "```\n",
        "and tun it"
      ]
    },
    {
      "cell_type": "code",
      "execution_count": 11,
      "metadata": {
        "colab": {
          "base_uri": "https://localhost:8080/"
        },
        "id": "r7KTZ0xoeLOD",
        "outputId": "95bcad64-8e12-4e83-b214-32f5f190b9fe"
      },
      "outputs": [
        {
          "name": "stdout",
          "output_type": "stream",
          "text": [
            "The Zen of Python, by Tim Peters\n",
            "\n",
            "Beautiful is better than ugly.\n",
            "Explicit is better than implicit.\n",
            "Simple is better than complex.\n",
            "Complex is better than complicated.\n",
            "Flat is better than nested.\n",
            "Sparse is better than dense.\n",
            "Readability counts.\n",
            "Special cases aren't special enough to break the rules.\n",
            "Although practicality beats purity.\n",
            "Errors should never pass silently.\n",
            "Unless explicitly silenced.\n",
            "In the face of ambiguity, refuse the temptation to guess.\n",
            "There should be one-- and preferably only one --obvious way to do it.\n",
            "Although that way may not be obvious at first unless you're Dutch.\n",
            "Now is better than never.\n",
            "Although never is often better than *right* now.\n",
            "If the implementation is hard to explain, it's a bad idea.\n",
            "If the implementation is easy to explain, it may be a good idea.\n",
            "Namespaces are one honking great idea -- let's do more of those!\n"
          ]
        }
      ],
      "source": [
        "# Solution of exercise 7.\n",
        "import this"
      ]
    },
    {
      "cell_type": "markdown",
      "metadata": {
        "id": "xlmD4YmWeLOE"
      },
      "source": [
        "<br>\n",
        "\n",
        "## Task 8 - Reinforcement of Knowledge: Variables\n",
        "\n",
        "Write commands that will perform the following actions:\n",
        "\n",
        "*Define two variables: coffee and tea, and assign them the values 5 and 10, respectively.\n",
        "\n",
        "*Display the values of these variables.\n"
      ]
    },
    {
      "cell_type": "code",
      "execution_count": 12,
      "metadata": {
        "colab": {
          "base_uri": "https://localhost:8080/"
        },
        "id": "Wci2VRXteLOE",
        "outputId": "6fc5db48-2675-4191-ca20-75b0b0e92a8e"
      },
      "outputs": [
        {
          "name": "stdout",
          "output_type": "stream",
          "text": [
            "coffee: 5\n",
            "tea: 10\n"
          ]
        }
      ],
      "source": [
        "coffee = 5\n",
        "tea = 10\n",
        "print(\"coffee:\", coffee)\n",
        "print(\"tea:\", tea)"
      ]
    },
    {
      "cell_type": "markdown",
      "metadata": {
        "id": "LOai50QVeLOE"
      },
      "source": [
        "Create a new variable total and assign it the sum of the above variables. Display this sum.\n",
        "\n"
      ]
    },
    {
      "cell_type": "code",
      "execution_count": 13,
      "metadata": {
        "colab": {
          "base_uri": "https://localhost:8080/"
        },
        "id": "szrXpEbKeLOE",
        "outputId": "2564b840-ca4f-4166-e719-25ce7cf7c838"
      },
      "outputs": [
        {
          "name": "stdout",
          "output_type": "stream",
          "text": [
            "15\n"
          ]
        }
      ],
      "source": [
        "total = coffee + tea\n",
        "print(total)"
      ]
    },
    {
      "cell_type": "markdown",
      "metadata": {
        "id": "mnWb84mEeLOE"
      },
      "source": [
        "Check the type of any of the created variables.\n"
      ]
    },
    {
      "cell_type": "code",
      "execution_count": 14,
      "metadata": {
        "colab": {
          "base_uri": "https://localhost:8080/"
        },
        "id": "jZpDNTuceLOE",
        "outputId": "5746f62c-8d79-4cd6-ac32-9050403448d7"
      },
      "outputs": [
        {
          "name": "stdout",
          "output_type": "stream",
          "text": [
            "<class 'int'>\n"
          ]
        }
      ],
      "source": [
        "print(type(coffee))"
      ]
    },
    {
      "cell_type": "markdown",
      "metadata": {
        "id": "8WSuhDAPeLOE"
      },
      "source": [
        "Display the value of the variable total_bev, which does not exist yet. What will happen?"
      ]
    },
    {
      "cell_type": "code",
      "execution_count": 17,
      "metadata": {
        "colab": {
          "base_uri": "https://localhost:8080/"
        },
        "id": "Fe1q0LojeLOE",
        "outputId": "efae8433-1063-4e4c-fc80-cbbb932a51d1"
      },
      "outputs": [
        {
          "name": "stdout",
          "output_type": "stream",
          "text": [
            "10\n"
          ]
        }
      ],
      "source": [
        "print(total_bev)"
      ]
    },
    {
      "cell_type": "markdown",
      "metadata": {
        "id": "PKbpiWA3eLOE"
      },
      "source": [
        "In the cell below, create the variable total_bev and assign it the value 10. Run this cell, and then run the previous one again. What will happen?"
      ]
    },
    {
      "cell_type": "code",
      "execution_count": 16,
      "metadata": {
        "id": "fpqCHWoPeLOE"
      },
      "outputs": [],
      "source": [
        "total_bev = 10"
      ]
    },
    {
      "cell_type": "markdown",
      "metadata": {
        "id": "Xf4uUZvneLOE"
      },
      "source": [
        "<br>\n",
        "\n",
        "## Task 9 - Reinforcement of Knowledge: Logical Operators\n",
        "\n",
        "*Create variables a, b, and c with values 3, 4, and 5, respectively.\n",
        "\n",
        "*Check if a is greater than b.\n",
        "\n",
        "*Check if a is equal to b.\n",
        "\n",
        "*Check if a is greater than b and if b is simultaneously greater than c.\n",
        "\n",
        "*Check if a is greater than b or if b is greater than c.\n",
        "\n",
        "*In the previous logical statement, negate each component using not. Is the newly formed statement true?\n",
        "\n",
        "*Apply De Morgan's law to the statement created earlier.\n",
        "\n",
        "*Test the code by changing the values of variables a, b, and c"
      ]
    },
    {
      "cell_type": "code",
      "execution_count": 18,
      "metadata": {
        "colab": {
          "base_uri": "https://localhost:8080/"
        },
        "id": "Kg5pSBQreLOE",
        "outputId": "7fccce2d-1cd7-4fa8-e5eb-d783a466576b"
      },
      "outputs": [
        {
          "name": "stdout",
          "output_type": "stream",
          "text": [
            "False\n",
            "False\n",
            "False\n",
            "False\n",
            "True\n",
            "True\n"
          ]
        }
      ],
      "source": [
        "# Solution of exercise 10\n",
        "a = 3\n",
        "b = 4\n",
        "c = 5\n",
        "print(a > b)\n",
        "print(a == b)\n",
        "print(a > b and b > c)\n",
        "print(a > b or b > c)\n",
        "print(not(a > b) or not(b > c))\n",
        "print(not((a > b) and (b > c)))\n"
      ]
    },
    {
      "cell_type": "markdown",
      "metadata": {
        "id": "UsoQJioyeLOE"
      },
      "source": [
        "<br>\n",
        "\n",
        "## Task 10 - Reinforcement of Knowledge: Logical Operators\n",
        "\n",
        "What is the difference between the two conditions below?\n",
        "\n",
        "```python\n",
        "cond1 = x != 0 and y / x == 2\n",
        "cond2 = y / x == 2 and x != 0\n",
        "```\n",
        "\n",
        "Would these be equivalent conditions in mathematics? Test if they are equivalent in Python. Check them for different values of the variables x and y.\n",
        "\n",
        "Recommended reading: https://py4e.pl/html3/03-conditional.php, section \"Minimal evaluation of logical expressions.\""
      ]
    },
    {
      "cell_type": "code",
      "execution_count": 19,
      "metadata": {
        "colab": {
          "base_uri": "https://localhost:8080/"
        },
        "id": "aVXo4DlceLOF",
        "outputId": "6ae1e316-4478-45f4-cc28-f23a85188421"
      },
      "outputs": [
        {
          "name": "stdout",
          "output_type": "stream",
          "text": [
            "True\n",
            "True\n"
          ]
        }
      ],
      "source": [
        "# Solution of exercise 11\n",
        "x = 3\n",
        "y = 6\n",
        "cond1 = x != 0 and y / x == 2\n",
        "cond2 = y / x == 2 and x != 0\n",
        "print(cond1)\n",
        "print(cond2)\n",
        "\n",
        "#for: x = 0, y = 4; x = 4, y = 4; x = 3, y = 6;"
      ]
    }
  ],
  "metadata": {
    "colab": {
      "provenance": []
    },
    "kernelspec": {
      "display_name": "Python 3",
      "language": "python",
      "name": "python3"
    },
    "language_info": {
      "codemirror_mode": {
        "name": "ipython",
        "version": 3
      },
      "file_extension": ".py",
      "mimetype": "text/x-python",
      "name": "python",
      "nbconvert_exporter": "python",
      "pygments_lexer": "ipython3",
      "version": "3.8.1"
    }
  },
  "nbformat": 4,
  "nbformat_minor": 0
}
