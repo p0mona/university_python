{
  "cells": [
    {
      "cell_type": "code",
      "execution_count": 96,
      "id": "9cf4dda8",
      "metadata": {
        "colab": {
          "base_uri": "https://localhost:8080/"
        },
        "id": "9cf4dda8",
        "outputId": "7c78cf98-f5df-462c-e2c0-c554d55bb836"
      },
      "outputs": [
        {
          "output_type": "stream",
          "name": "stdout",
          "text": [
            "Classes: Bcolors, Astro, Pesel created.\n"
          ]
        }
      ],
      "source": [
        "from datetime import datetime\n",
        "\n",
        "class Bcolors:\n",
        "    \"\"\"A class with names for ANSI escape sequences defining colors and font styles on terminal.\n",
        "       Source: https://stackoverflow.com/questions/287871/how-do-i-print-colored-text-to-the-terminal\n",
        "    \"\"\"\n",
        "    HEADER =    '\\033[95m'\n",
        "    OKBLUE =    '\\033[94m'\n",
        "    OKCYAN =    '\\033[96m'\n",
        "    OKGREEN =   '\\033[92m'\n",
        "    WARNING =   '\\033[93m'\n",
        "    FAIL =      '\\033[91m'\n",
        "    ENDC =      '\\033[0m'\n",
        "    BOLD =      '\\033[1m'\n",
        "    UNDERLINE = '\\033[4m'\n",
        "\n",
        "\n",
        "class Astro:\n",
        "    \"\"\"A class used to manage astro signs.\n",
        "    Class attribute 'symbols' is a dictionary that defines names for Unicodes representing arial signs.\n",
        "    \"\"\"\n",
        "\n",
        "    symbols = {\n",
        "        'Aries':       '\\U00002648',\n",
        "        'Taurus':      '\\U00002649',\n",
        "        'Gemini':      '\\U0000264A',\n",
        "        'Cancer':      '\\U0000264B',\n",
        "        'Leo':         '\\U0000264C',\n",
        "        'Virgo':       '\\U0000264D',\n",
        "        'Libra':       '\\U0000264E',\n",
        "        'Scorpius':    '\\U0000264F',\n",
        "        'Sagittarius': '\\U00002650',\n",
        "        'Capricorn':   '\\U00002651',\n",
        "        'Aquarius':    '\\U00002652',\n",
        "        'Pisces':      '\\U00002653'\n",
        "    }\n",
        "\n",
        "    def sign_name(month, day):\n",
        "        \"\"\"Returns a string with astro sign name for given month and day.\"\"\"\n",
        "        if month == 1:    astro_sign = 'Capricorn'   if (day < 20) else 'Aquarius'\n",
        "        elif month == 2:  astro_sign = 'Aquarius'    if (day < 19) else 'Pisces'\n",
        "        elif month == 3:  astro_sign = 'Pisces'      if (day < 21) else 'Aries'\n",
        "        elif month == 4:  astro_sign = 'Aries'       if (day < 20) else 'Taurus'\n",
        "        elif month == 5:  astro_sign = 'Taurus'      if (day < 21) else 'Gemini'\n",
        "        elif month == 6:  astro_sign = 'Gemini'      if (day < 21) else 'Cancer'\n",
        "        elif month == 7:  astro_sign = 'Cancer'      if (day < 23) else 'Leo'\n",
        "        elif month == 8:  astro_sign = 'Leo'         if (day < 23) else 'Virgo'\n",
        "        elif month == 9:  astro_sign = 'Virgo'       if (day < 23) else 'Libra'\n",
        "        elif month == 10: astro_sign = 'Libra'       if (day < 23) else 'Scorpius'\n",
        "        elif month == 11: astro_sign = 'Scorpius'    if (day < 22) else 'Sagittarius'\n",
        "        elif month == 12: astro_sign = 'Sagittarius' if (day < 22) else 'Capricorn'\n",
        "        return astro_sign\n",
        "\n",
        "\n",
        "class Pesel:\n",
        "    \"\"\"A class used to manage PESEL number.\n",
        "    The PESEL validation algorithm is implemented on the basis of information from the website\n",
        "    https://obywatel.gov.pl/pl/dokumenty-i-dane-osobowe/czym-jest-numer-pesel.\n",
        "    \"\"\"\n",
        "\n",
        "    def __init__(self, pesel):\n",
        "        \"\"\"Initializes 'pesel' attribute of the created object with the value of the argument.\n",
        "        If the argument is not correct, prints a warning\n",
        "        and initializes 'pesel' attribute with an empty string.\n",
        "        \"\"\"\n",
        "        self.set_pesel(pesel)\n",
        "\n",
        "    def __str__(self):\n",
        "        \"\"\"Returns a string representing Pesel object. The string consists of\n",
        "        PESEL number and data that is derived from it (birthday, gender, astro sign).\n",
        "        In case of empty 'pesel' attribute, returns the string 'No PESEL value'.\n",
        "        \"\"\"\n",
        "        if self.pesel == \"\":\n",
        "            return Bcolors.BOLD + \"No PESEL value.\" + Bcolors.ENDC\n",
        "        birthday = f\"{self.get_birthday().strftime('%Y-%m-%d')}\"\n",
        "        astro_symbol = Astro.symbols[Astro.sign_name(self.get_month(), self.get_day())]\n",
        "        return Bcolors.BOLD + f\"{self.pesel}, \" + \\\n",
        "               Bcolors.ENDC + Bcolors.OKBLUE + \\\n",
        "               f\"{birthday}, {self.get_gender()}  \" + Bcolors.ENDC + \\\n",
        "               astro_symbol\n",
        "\n",
        "    def set_pesel(self, pesel):\n",
        "        \"\"\"Sets the 'pesel' attribute of the created object with the value of the argument.\n",
        "        If the argument is not correct, prints a warning\n",
        "        and sets 'pesel' attribute with an empty string.\n",
        "        \"\"\"\n",
        "        warn_text = Bcolors.FAIL + \\\n",
        "                    f\"WARNING: class Pesel, method set_pesel(\\\"{pesel}\\\") - \"\n",
        "        if len(pesel) != 11 or not pesel.isdecimal():\n",
        "            self.pesel = \"\"\n",
        "            print(warn_text + \"wrong characters or length.\" + Bcolors.ENDC)\n",
        "            return\n",
        "        self.pesel = pesel\n",
        "        if self.calculate_control_sum() != int(pesel[10]):\n",
        "            self.pesel = \"\"\n",
        "            print(warn_text + \"wrong control sum.\" + Bcolors.ENDC)\n",
        "            return\n",
        "        try:\n",
        "            datetime(self.get_year(), self.get_month(), self.get_day())\n",
        "        except:\n",
        "            self.pesel = \"\"\n",
        "            print(warn_text + \"incorrect date.\" + Bcolors.ENDC)\n",
        "\n",
        "    def get_year(self):\n",
        "        \"\"\"Gets the year of birth as int.\n",
        "        If the 'pesel' attribute contains an empty string, the method returns None.\n",
        "        \"\"\"\n",
        "        if self.pesel == \"\":\n",
        "            return None\n",
        "        begining = [\"19\", \"20\", \"21\", \"22\", \"18\"]\n",
        "        return int(begining[int(self.pesel[2]) // 2] + self.pesel[0:2])\n",
        "\n",
        "    def get_month(self):\n",
        "        \"\"\"Gets the month of birth as int.\n",
        "        If the 'pesel' attribute contains an empty string, the method returns None.\n",
        "        \"\"\"\n",
        "        if self.pesel == \"\":\n",
        "            return None\n",
        "        return int(self.pesel[2:4]) - (int(self.pesel[2]) // 2) * 20\n",
        "\n",
        "    def get_day(self):\n",
        "        \"\"\"Gets the day of birth as int.\n",
        "        If the 'pesel' attribute contains an empty string, the method returns None.\n",
        "        \"\"\"\n",
        "        if self.pesel == \"\":\n",
        "            return None\n",
        "        return int(self.pesel[4:6])\n",
        "\n",
        "    def get_birthday(self):\n",
        "        \"\"\"Gets the birthday as datatime.\n",
        "        If the year, month, day do not form correct date, returns None.\n",
        "        \"\"\"\n",
        "        try:\n",
        "            return datetime(self.get_year(), self.get_month(), self.get_day())\n",
        "        except:\n",
        "            return None\n",
        "\n",
        "    def get_gender(self):\n",
        "        \"\"\"Gets the gender: \"F\" for female, \"M\" for male.\n",
        "        If the 'pesel' attribute contains an empty string, the method returns None.\n",
        "        \"\"\"\n",
        "        if self.pesel == \"\":\n",
        "            return None\n",
        "        return \"F\" if self.pesel[9] in {'0', '2', '4', '6', '8'} else \"M\"\n",
        "\n",
        "    def calculate_control_sum(self):\n",
        "        \"\"\"Calculates the control sum.\n",
        "        If the 'pesel' attribute contains an empty string, the method returns None.\n",
        "        \"\"\"\n",
        "        if self.pesel == \"\":\n",
        "            return None\n",
        "        ct = [1, 3, 7, 9, 1, 3, 7, 9, 1, 3]\n",
        "        sum = 0\n",
        "        for i in range(10):\n",
        "            sum += (int(self.pesel[i]) * ct[i])\n",
        "        return 10 - int(str(sum)[-1])\n",
        "\n",
        "print(\"Classes: Bcolors, Astro, Pesel created.\")"
      ]
    },
    {
      "cell_type": "markdown",
      "id": "91aa1267",
      "metadata": {
        "id": "91aa1267"
      },
      "source": [
        "<br>\n",
        "\n",
        "## Task 1 - abstraction\n",
        "\n",
        "In this task, you are to learn how to use the `Pesel` class without understanding its code. The only thing you will need to do is read the description of the class and its methods.\n",
        "\n",
        "First, please execute the command\n",
        "```python\n",
        "help(Pesel)\n",
        "```\n",
        "and read the description there. Where did the descriptions of the methods and class come from? Please look in the code above."
      ]
    },
    {
      "cell_type": "code",
      "execution_count": 47,
      "id": "1d1b2ea4",
      "metadata": {
        "colab": {
          "base_uri": "https://localhost:8080/"
        },
        "id": "1d1b2ea4",
        "outputId": "b671938e-c01d-4320-8099-aebc5e7867b9"
      },
      "outputs": [
        {
          "output_type": "stream",
          "name": "stdout",
          "text": [
            "Help on class Pesel in module __main__:\n",
            "\n",
            "class Pesel(builtins.object)\n",
            " |  Pesel(pesel)\n",
            " |  \n",
            " |  A class used to manage PESEL number.\n",
            " |  The PESEL validation algorithm is implemented on the basis of information from the website\n",
            " |  https://obywatel.gov.pl/pl/dokumenty-i-dane-osobowe/czym-jest-numer-pesel.\n",
            " |  \n",
            " |  Methods defined here:\n",
            " |  \n",
            " |  __init__(self, pesel)\n",
            " |      Initializes 'pesel' attribute of the created object with the value of the argument.\n",
            " |      If the argument is not correct, prints a warning\n",
            " |      and initializes 'pesel' attribute with an empty string.\n",
            " |  \n",
            " |  __str__(self)\n",
            " |      Returns a string representing Pesel object. The string consists of\n",
            " |      PESEL number and data that is derived from it (birthday, gender, astro sign).\n",
            " |      In case of empty 'pesel' attribute, returns the string 'No PESEL value'.\n",
            " |  \n",
            " |  calculate_control_sum(self)\n",
            " |      Calculates the control sum.\n",
            " |      If the 'pesel' attribute contains an empty string, the method returns None.\n",
            " |  \n",
            " |  get_birthday(self)\n",
            " |      Gets the birthday as datatime.\n",
            " |      If the year, month, day do not form correct date, returns None.\n",
            " |  \n",
            " |  get_day(self)\n",
            " |      Gets the day of birth as int.\n",
            " |      If the 'pesel' attribute contains an empty string, the method returns None.\n",
            " |  \n",
            " |  get_gender(self)\n",
            " |      Gets the gender: \"F\" for female, \"M\" for male.\n",
            " |      If the 'pesel' attribute contains an empty string, the method returns None.\n",
            " |  \n",
            " |  get_month(self)\n",
            " |      Gets the month of birth as int.\n",
            " |      If the 'pesel' attribute contains an empty string, the method returns None.\n",
            " |  \n",
            " |  get_year(self)\n",
            " |      Gets the year of birth as int.\n",
            " |      If the 'pesel' attribute contains an empty string, the method returns None.\n",
            " |  \n",
            " |  set_pesel(self, pesel)\n",
            " |      Sets the 'pesel' attribute of the created object with the value of the argument.\n",
            " |      If the argument is not correct, prints a warning\n",
            " |      and sets 'pesel' attribute with an empty string.\n",
            " |  \n",
            " |  ----------------------------------------------------------------------\n",
            " |  Data descriptors defined here:\n",
            " |  \n",
            " |  __dict__\n",
            " |      dictionary for instance variables (if defined)\n",
            " |  \n",
            " |  __weakref__\n",
            " |      list of weak references to the object (if defined)\n",
            "\n"
          ]
        }
      ],
      "source": [
        "help(Pesel)"
      ]
    },
    {
      "cell_type": "markdown",
      "id": "4c71f664",
      "metadata": {
        "id": "4c71f664"
      },
      "source": [
        "\n",
        "\n",
        "\"Cheat Sheet\" - simplified UML diagram of the `Pesel` class:\n",
        "```\n",
        "                    +----------------------+                  \n",
        "                    |        Pesel         |                  \n",
        "                    |----------------------|                  \n",
        "                    | pesel                |  \n",
        "                    |----------------------|                  \n",
        "                    | __init__             |                  \n",
        "                    | __str__              |                  \n",
        "                    | calculate_control_sum|                  \n",
        "                    | get_birthday         |                  \n",
        "                    | get_day              |                  \n",
        "                    | get_gender           |                  \n",
        "                    | get_month            |                  \n",
        "                    | get_year             |                  \n",
        "                    | set_pesel            |                  \n",
        "                    +----------------------+                  \n",
        "\n",
        "```\n",
        "\n",
        "Now, please test the `Pesel` class. I suggest separating each task with the following instruction:\n",
        "```python\n",
        "print(\"\\n----------------------------------\")\n",
        "```\n",
        "\n",
        "1. Create an object of type `Pesel` for the PESEL `\"49080134328\"` and print this object.\n",
        "2. Create a list `pesel_objects` of `Pesel` objects based on the list `pesel_strings`:\n",
        "```python\n",
        "pesel_strings = [\"49080134328\", \"65120498991\", \"30892208062\", \"13311807941\", \"07413106613\",\n",
        "                    \"22681417098\", \"55080426688\", \"12345\", \"06270227781\", \"06270227782\", \"06273227788\"\n",
        "                   ]\n",
        "```\n",
        "3. Print the elements of the `pesel_objects` list. Pay attention to what happens when there is an invalid PESEL.\n",
        "4. Print the `pesel` attribute for each object in the `pesel_objects` list.\n",
        "5. For each object in the `pesel_objects` list, print the birth year encoded in the PESEL, gender, birth date, and the calculated control sum.\n",
        "6. Change the PESEL of the last object in the `pesel_objects` list, e.g., to `\"97102351398\"`. Do not create a new object, do not change the `pesel` attribute directly, but use the appropriate method. Print all the objects in the list again."
      ]
    },
    {
      "cell_type": "code",
      "execution_count": 97,
      "id": "4e960f96",
      "metadata": {
        "id": "4e960f96",
        "colab": {
          "base_uri": "https://localhost:8080/"
        },
        "outputId": "a3a2d20f-3836-4e47-d320-8a25cabab59a"
      },
      "outputs": [
        {
          "output_type": "stream",
          "name": "stdout",
          "text": [
            "PESEL: \u001b[1m49080134328, \u001b[0m\u001b[94m1949-08-01, F  \u001b[0m♌\n",
            "\n",
            "----------------------------------\n",
            "\u001b[91mWARNING: class Pesel, method set_pesel(\"12345\") - wrong characters or length.\u001b[0m\n",
            "\u001b[91mWARNING: class Pesel, method set_pesel(\"06270227782\") - wrong control sum.\u001b[0m\n",
            "\u001b[91mWARNING: class Pesel, method set_pesel(\"06273227788\") - incorrect date.\u001b[0m\n",
            "\n",
            "----------------------------------\n",
            "PESEL: \u001b[1m49080134328, \u001b[0m\u001b[94m1949-08-01, F  \u001b[0m♌\n",
            "PESEL: \u001b[1m65120498991, \u001b[0m\u001b[94m1965-12-04, M  \u001b[0m♐\n",
            "PESEL: \u001b[1m30892208062, \u001b[0m\u001b[94m1830-09-22, F  \u001b[0m♍\n",
            "PESEL: \u001b[1m13311807941, \u001b[0m\u001b[94m2013-11-18, F  \u001b[0m♏\n",
            "PESEL: \u001b[1m07413106613, \u001b[0m\u001b[94m2107-01-31, M  \u001b[0m♒\n",
            "PESEL: \u001b[1m22681417098, \u001b[0m\u001b[94m2222-08-14, M  \u001b[0m♌\n",
            "PESEL: \u001b[1m55080426688, \u001b[0m\u001b[94m1955-08-04, F  \u001b[0m♌\n",
            "PESEL: \u001b[1mNo PESEL value.\u001b[0m\n",
            "PESEL: \u001b[1m06270227781, \u001b[0m\u001b[94m2006-07-02, F  \u001b[0m♋\n",
            "PESEL: \u001b[1mNo PESEL value.\u001b[0m\n",
            "PESEL: \u001b[1mNo PESEL value.\u001b[0m\n",
            "\n",
            "----------------------------------\n",
            "49080134328\n",
            "65120498991\n",
            "30892208062\n",
            "13311807941\n",
            "07413106613\n",
            "22681417098\n",
            "55080426688\n",
            "\n",
            "06270227781\n",
            "\n",
            "\n",
            "\n",
            "----------------------------------\n",
            "PESEL:49080134328, sex: F, birthday: 1949-08-01 00:00:00, sum: 8\n",
            "PESEL:65120498991, sex: M, birthday: 1965-12-04 00:00:00, sum: 1\n",
            "PESEL:30892208062, sex: F, birthday: 1830-09-22 00:00:00, sum: 2\n",
            "PESEL:13311807941, sex: F, birthday: 2013-11-18 00:00:00, sum: 1\n",
            "PESEL:07413106613, sex: M, birthday: 2107-01-31 00:00:00, sum: 3\n",
            "PESEL:22681417098, sex: M, birthday: 2222-08-14 00:00:00, sum: 8\n",
            "PESEL:55080426688, sex: F, birthday: 1955-08-04 00:00:00, sum: 8\n",
            "PESEL:, sex: None, birthday: None, sum: None\n",
            "PESEL:06270227781, sex: F, birthday: 2006-07-02 00:00:00, sum: 1\n",
            "PESEL:, sex: None, birthday: None, sum: None\n",
            "PESEL:, sex: None, birthday: None, sum: None\n",
            "\n",
            "----------------------------------\n",
            "\u001b[1m49080134328, \u001b[0m\u001b[94m1949-08-01, F  \u001b[0m♌\n",
            "\u001b[1m65120498991, \u001b[0m\u001b[94m1965-12-04, M  \u001b[0m♐\n",
            "\u001b[1m30892208062, \u001b[0m\u001b[94m1830-09-22, F  \u001b[0m♍\n",
            "\u001b[1m13311807941, \u001b[0m\u001b[94m2013-11-18, F  \u001b[0m♏\n",
            "\u001b[1m07413106613, \u001b[0m\u001b[94m2107-01-31, M  \u001b[0m♒\n",
            "\u001b[1m22681417098, \u001b[0m\u001b[94m2222-08-14, M  \u001b[0m♌\n",
            "\u001b[1m55080426688, \u001b[0m\u001b[94m1955-08-04, F  \u001b[0m♌\n",
            "\u001b[1mNo PESEL value.\u001b[0m\n",
            "\u001b[1m06270227781, \u001b[0m\u001b[94m2006-07-02, F  \u001b[0m♋\n",
            "\u001b[1mNo PESEL value.\u001b[0m\n",
            "\u001b[1m97102351398, \u001b[0m\u001b[94m1997-10-23, M  \u001b[0m♏\n"
          ]
        }
      ],
      "source": [
        "class Pesel:\n",
        "  pesel_1 = Pesel(\"49080134328\")\n",
        "  print(f\"PESEL: {pesel_1}\")\n",
        "  print(\"\\n----------------------------------\")\n",
        "\n",
        "  pesel_strings = [\"49080134328\", \"65120498991\", \"30892208062\", \"13311807941\", \"07413106613\",\n",
        "                  \"22681417098\", \"55080426688\", \"12345\", \"06270227781\", \"06270227782\", \"06273227788\"\n",
        "                  ]\n",
        "  pesel_objects = [Pesel(pesel_notlist) for pesel_notlist in pesel_strings]\n",
        "  print(\"\\n----------------------------------\")\n",
        "\n",
        "  for pesel_2 in pesel_objects:\n",
        "    print(f\"PESEL: {pesel_2}\")\n",
        "  print(\"\\n----------------------------------\")\n",
        "\n",
        "  for ell in pesel_objects:\n",
        "    print(ell.pesel)\n",
        "  print(\"\\n----------------------------------\")\n",
        "\n",
        "  for atr in pesel_objects:\n",
        "    print(f\"PESEL:{atr.pesel}, sex: {atr.get_gender()}, birthday: {atr.get_birthday()}, sum: {atr.calculate_control_sum()}\")\n",
        "  print(\"\\n----------------------------------\")\n",
        "\n",
        "  pesel_objects[-1].set_pesel(\"97102351398\")\n",
        "  for chpesel in pesel_objects:\n",
        "    print(chpesel)\n"
      ]
    },
    {
      "cell_type": "markdown",
      "id": "28d93e07",
      "metadata": {
        "id": "28d93e07"
      },
      "source": [
        "<br>\n",
        "\n",
        "## Task 2 - creating a class and objects, checking the correctness of attributes\n",
        "\n",
        "Create the `Person` class. It will be used to store data about people. For now, there should be only one attribute of the object in this class: `first_name`. Create it in the `__init__` method. Remember that the `__init__` method will have two parameters: `self` and a parameter through which we will pass the name, e.g. `first_name`.\n",
        "\n",
        "Test the class by creating objects with the names `\"Tom\"`, `\"Tom1\"`, `\"tom\"`. Print the `first_name` attribute of the created objects.\n",
        "\n",
        "Note: the `first_name` parameter is different from the `first_name` attribute, despite the same name. In the `__init__` method, we refer to the argument by writing `first_name`, and to the attribute by writing `self.first_name`."
      ]
    },
    {
      "cell_type": "code",
      "execution_count": 98,
      "id": "e79bc4a2",
      "metadata": {
        "id": "e79bc4a2",
        "colab": {
          "base_uri": "https://localhost:8080/"
        },
        "outputId": "078586a3-c12e-460b-8864-dc90f2754764"
      },
      "outputs": [
        {
          "output_type": "stream",
          "name": "stdout",
          "text": [
            "Tom\n",
            "Tom1\n",
            "tom\n"
          ]
        }
      ],
      "source": [
        "# The first version of class Person\n",
        "class Person:\n",
        "  def __init__(self, first_name):\n",
        "    self.first_name = first_name\n",
        "obj1 = Person(\"Tom\")\n",
        "obj2 = Person(\"Tom1\")\n",
        "obj3 = Person(\"tom\")\n",
        "toms = [obj1, obj2, obj3]\n",
        "for atr in toms:\n",
        "  print(atr.first_name)\n"
      ]
    },
    {
      "cell_type": "markdown",
      "id": "c399b21c",
      "metadata": {
        "id": "c399b21c"
      },
      "source": [
        "<br>\n",
        "\n",
        "Note that names should only contain letters, with the first character being uppercase. This is not checked when the object is created, but it should be.\n",
        "\n",
        "<div class=\"alert alert-block alert-info\">\n",
        "The class should provide a means to prevent or at least make it difficult to create an invalid object.\n",
        "\n",
        "</div>\n",
        "\n",
        "Write a function `is_correct_name` that checks whether a given string contains no obvious errors that would prevent it from being a name, i.e. whether it contains only letters and whether the first character is uppercase. The function should return a boolean value. In case the string cannot be a name, the function should print a warning to the screen, e.g.\n",
        "```\n",
        "WARNING: functiom is_correct_name(\"Tom1\") - non-letter or first character not uppercase\n",
        "```\n",
        "Test the function.\n",
        "\n",
        "Hint: use the `isalpha` method applied to the string."
      ]
    },
    {
      "cell_type": "code",
      "execution_count": 99,
      "id": "dbe52667",
      "metadata": {
        "id": "dbe52667",
        "colab": {
          "base_uri": "https://localhost:8080/"
        },
        "outputId": "4577db9b-5c98-46ae-c8d6-64ce12607358"
      },
      "outputs": [
        {
          "output_type": "stream",
          "name": "stdout",
          "text": [
            "WARNING: function is_correct_name (\"Tom1\") - non-letter or first character not uppercase\n",
            "WARNING: function is_correct_name (\"tom\") - non-letter or first character not uppercase\n"
          ]
        },
        {
          "output_type": "execute_result",
          "data": {
            "text/plain": [
              "False"
            ]
          },
          "metadata": {},
          "execution_count": 99
        }
      ],
      "source": [
        "# Function 'is_correct_name'\n",
        "def is_correct_name(name):\n",
        "  res = name.isalpha()\n",
        "  if name[0].islower() or res == False:\n",
        "    print(f'WARNING: function is_correct_name (\"{name}\") - non-letter or first character not uppercase')\n",
        "    return False\n",
        "  else:\n",
        "    return True\n",
        "is_correct_name(\"Tom\")\n",
        "is_correct_name(\"Tom1\")\n",
        "is_correct_name(\"tom\")"
      ]
    },
    {
      "cell_type": "markdown",
      "id": "351f9a21",
      "metadata": {
        "id": "351f9a21"
      },
      "source": [
        "<br>\n",
        "\n",
        "Write a second version of the `Person` class. In the `__init__` method, use the `is_correct_name` function. In the case of an incorrect name, assign an empty string to the `first_name` attribute.\n",
        "\n",
        "Additionally, in the `__init__` method, create a second attribute `last_name` in the same way. Test the class."
      ]
    },
    {
      "cell_type": "code",
      "execution_count": 100,
      "id": "0e5416a2",
      "metadata": {
        "id": "0e5416a2",
        "colab": {
          "base_uri": "https://localhost:8080/"
        },
        "outputId": "c4648650-7adb-4cfa-dffb-df6a1d088bb1"
      },
      "outputs": [
        {
          "output_type": "stream",
          "name": "stdout",
          "text": [
            "WARNING: function is_correct_name (\"Tom1\") - non-letter or first character not uppercase\n",
            "WARNING: function is_correct_name (\"tom\") - non-letter or first character not uppercase\n",
            "WARNING: function is_correct_name (\"brandt\") - non-letter or first character not uppercase\n",
            "WARNING: function is_correct_name (\"bran4t\") - non-letter or first character not uppercase\n",
            "First name: Tom, last name: Brandt\n",
            "First name: , last name: Brandt\n",
            "First name: , last name: \n",
            "First name: Tom, last name: \n"
          ]
        }
      ],
      "source": [
        "# The second version of class Person\n",
        "class Person:\n",
        "  def __init__(self, first_name, last_name):\n",
        "    self.first_name = first_name if is_correct_name(first_name) else \"\"\n",
        "    self.last_name = last_name if is_correct_name(last_name) else \"\"\n",
        "obj1 = Person(\"Tom\",\"Brandt\")\n",
        "obj2 = Person(\"Tom1\",\"Brandt\")\n",
        "obj3 = Person(\"tom\",\"brandt\")\n",
        "obj4 = Person(\"Tom\",\"bran4t\")\n",
        "toms = [obj1, obj2, obj3, obj4]\n",
        "for atr in toms:\n",
        "  print(f\"First name: {atr.first_name}, last name: {atr.last_name}\")\n",
        "\n"
      ]
    },
    {
      "cell_type": "markdown",
      "id": "b0dcfeb3",
      "metadata": {
        "id": "b0dcfeb3"
      },
      "source": [
        "<br>\n",
        "\n",
        "The `is_correct_name` function currently exists outside the `Person` class. This is not the best solution, because it is closely related to the `Person` class and used in it. However, there is no need for it to be called for the object - after creating the object, we will no longer check the correctness of the name.\n",
        "\n",
        "In such a case, the `is_correct_name` function should be moved to the `Person` class and created as a method of the class, not the object. To do this, simply paste the function into the class, correcting the indentation. You do not have to change anything in the function itself (maybe only the content of the warning printed to the screen):\n",
        "```\n",
        "WARNING: class Person, method is_correct_name(\"Tom1\") - non-letter or first character not uppercase\n",
        "```\n",
        "However, the `__init__` method should be corrected. Instead of `is_correct_name(first_name)`, it must now be `Person.is_correct_name(first_name)`."
      ]
    },
    {
      "cell_type": "code",
      "execution_count": 101,
      "id": "a5bac8ae",
      "metadata": {
        "id": "a5bac8ae",
        "colab": {
          "base_uri": "https://localhost:8080/"
        },
        "outputId": "4022c260-a1c2-4c32-e60c-cc35b7c8e20c"
      },
      "outputs": [
        {
          "output_type": "stream",
          "name": "stdout",
          "text": [
            "WARNING: function is_correct_name (\"Tom1\") - non-letter or first character not uppercase\n",
            "WARNING: function is_correct_name (\"tom\") - non-letter or first character not uppercase\n",
            "WARNING: function is_correct_name (\"brandt\") - non-letter or first character not uppercase\n",
            "WARNING: function is_correct_name (\"bran4t\") - non-letter or first character not uppercase\n",
            "First name: Tom, last name: Brandt\n",
            "First name: , last name: Brandt\n",
            "First name: , last name: \n",
            "First name: Tom, last name: \n"
          ]
        }
      ],
      "source": [
        "if \"is_correct_name\" in globals():\n",
        "    del is_correct_name\n",
        "\n",
        "# The third version of class Person\n",
        "class Person:\n",
        "  def is_correct_name(name):\n",
        "    res = name.isalpha()\n",
        "    if name[0].islower() or res == False:\n",
        "      print(f'WARNING: function is_correct_name (\"{name}\") - non-letter or first character not uppercase')\n",
        "      return False\n",
        "    else:\n",
        "      return True\n",
        "  def __init__(self, first_name, last_name):\n",
        "    self.first_name = first_name if Person.is_correct_name(first_name) else \"\"\n",
        "    self.last_name = last_name if Person.is_correct_name(last_name) else \"\"\n",
        "obj1 = Person(\"Tom\",\"Brandt\")\n",
        "obj2 = Person(\"Tom1\",\"Brandt\")\n",
        "obj3 = Person(\"tom\",\"brandt\")\n",
        "obj4 = Person(\"Tom\",\"bran4t\")\n",
        "toms = [obj1, obj2, obj3, obj4]\n",
        "for atr in toms:\n",
        "  print(f\"First name: {atr.first_name}, last name: {atr.last_name}\")\n",
        "\n"
      ]
    },
    {
      "cell_type": "markdown",
      "id": "231fc9dc",
      "metadata": {
        "id": "231fc9dc"
      },
      "source": [
        "<br>\n",
        "\n",
        "## Task 3 - Printing an object\n",
        "\n",
        "Test the code:\n",
        "```python\n",
        "person = Person(\"Tom\", \"Joe\")\n",
        "print(person)\n",
        "```\n",
        "What was printed?"
      ]
    },
    {
      "cell_type": "code",
      "execution_count": 102,
      "id": "530a9486",
      "metadata": {
        "id": "530a9486",
        "colab": {
          "base_uri": "https://localhost:8080/"
        },
        "outputId": "cc07da99-fd0f-40f1-bbb4-01a34a09714f"
      },
      "outputs": [
        {
          "output_type": "stream",
          "name": "stdout",
          "text": [
            "<__main__.Person object at 0x7958a03f58a0>\n"
          ]
        }
      ],
      "source": [
        "person = Person(\"Tom\", \"Joe\")\n",
        "print(person)"
      ]
    },
    {
      "cell_type": "markdown",
      "id": "95ef1037",
      "metadata": {
        "id": "95ef1037"
      },
      "source": [
        "\n",
        "\n",
        "---\n",
        "\n",
        "Usually, when we want to print an object, we don't want to see a line like:\n",
        "```\n",
        "<__main__.Person object at 0x061CE4D8>\n",
        "```\n",
        "We would prefer to see something like:\n",
        "```\n",
        "first name: Tom\n",
        "last name: Joe\n",
        "```\n",
        "\n",
        "To achieve this, define the `__str__` method in the `Person` class. It must have one argument: `self`. This method should return a string created using the `first_name` and `last_name` attributes. Test the object printing again.\n",
        "\n",
        "Note: A similar method has been defined for the `Pesel` class. The returned string looks complicated because it includes text formatting (colors, bold font, zodiac signs). You don't need to format the text here."
      ]
    },
    {
      "cell_type": "code",
      "execution_count": 103,
      "id": "93e2c6d2",
      "metadata": {
        "id": "93e2c6d2",
        "colab": {
          "base_uri": "https://localhost:8080/"
        },
        "outputId": "d4d4ca79-63d7-44e2-bc97-1fd0deb249bf"
      },
      "outputs": [
        {
          "output_type": "stream",
          "name": "stdout",
          "text": [
            "WARNING: function is_correct_name (\"Tom1\") - non-letter or first character not uppercase\n",
            "WARNING: function is_correct_name (\"tom\") - non-letter or first character not uppercase\n",
            "WARNING: function is_correct_name (\"brandt\") - non-letter or first character not uppercase\n",
            "WARNING: function is_correct_name (\"bran4t\") - non-letter or first character not uppercase\n",
            "First name: Tom, \n",
            "Last name: Brandt\n",
            "First name: , \n",
            "Last name: Brandt\n",
            "First name: , \n",
            "Last name: \n",
            "First name: Tom, \n",
            "Last name: \n"
          ]
        }
      ],
      "source": [
        "# The fourth version of class Person\n",
        "class Person:\n",
        "  def is_correct_name(self, name):\n",
        "    res = name.isalpha()\n",
        "    if name[0].islower() or res == False:\n",
        "      print(f'WARNING: function is_correct_name (\"{name}\") - non-letter or first character not uppercase')\n",
        "      return False\n",
        "    else:\n",
        "      return True\n",
        "  def __init__(self, first_name, last_name):\n",
        "    self.first_name = first_name if self.is_correct_name(first_name) else \"\"\n",
        "    self.last_name = last_name if self.is_correct_name(last_name) else \"\"\n",
        "  def __str__(self):\n",
        "    return f\"First name: {self.first_name}, \\nLast name: {self.last_name}\"\n",
        "obj1 = Person(\"Tom\",\"Brandt\")\n",
        "obj2 = Person(\"Tom1\",\"Brandt\")\n",
        "obj3 = Person(\"tom\",\"brandt\")\n",
        "obj4 = Person(\"Tom\",\"bran4t\")\n",
        "toms = [obj1, obj2, obj3, obj4]\n",
        "for atr in toms:\n",
        "  print(str(atr))\n",
        "\n"
      ]
    },
    {
      "cell_type": "markdown",
      "id": "1c0fbfeb",
      "metadata": {
        "id": "1c0fbfeb"
      },
      "source": [
        "\n",
        "\n",
        "## Task 4 - Encapsulation - Set and Get Methods\n",
        "\n",
        "Note that currently, if we create an object with an incorrect first name or last name, to change it we would have to directly modify the corresponding attribute. This is dangerous because it's easy to forget to use the `Person.is_correct_name` method beforehand to detect potential errors.\n",
        "\n",
        "<div class=\"alert alert-block alert-info\">\n",
        "The class should provide means to prevent or at least make it difficult to create an invalid object.\n",
        "</div>\n",
        "\n",
        "Even if we don't forget, it's still inconvenient because we would have to write code like this:\n",
        "```python\n",
        "person = Person(\"ada\", \"Joe\")\n",
        "name = \"Ada\"\n",
        "if Person.is_correct_name(name):\n",
        "    person.first_name = name\n",
        "else:\n",
        "    person.first_name = \"\"\n",
        "```\n",
        "\n",
        "<div class=\"alert alert-block alert-info\">\n",
        "It's better if the user of the class doesn't directly modify the object's attributes. The class should provide means to do this through methods.\n",
        "</div>\n",
        "\n",
        "Therefore, it's a good idea to write setters, i.e., methods `set_first_name` and `set_last_name`, which perform validation and appropriately modify the attributes. Write them. Be sure to use them in the `__init__` method instead of the existing code.\n",
        "\n",
        "<div class=\"alert alert-block alert-info\">\n",
        "Avoid repeating code at all costs.\n",
        "</div>\n",
        "\n",
        "Also, write getters, i.e., methods `get_first_name` and `get_last_name`, which return the values of the respective attributes.\n",
        "\n",
        "Hint: If you're unsure what arguments the setters or getters should have, take a look at the code of the `Pesel` class.\n",
        "\n",
        "**Benefit**: If the creator of the `Person` class decides to change its implementation (e.g., storing the first and last names not in separate attributes but as a list of two strings), users of this class who never accessed the `first_name` or `last_name` attributes directly, but always through methods, will not have to change their code — everything will still work. This is why getters are often written, even though they might seem unnecessary.\n",
        "\n",
        "Remember to test the code."
      ]
    },
    {
      "cell_type": "code",
      "execution_count": 104,
      "id": "f9f7ad7c",
      "metadata": {
        "id": "f9f7ad7c",
        "colab": {
          "base_uri": "https://localhost:8080/"
        },
        "outputId": "dd9cd1e5-b9f8-4621-b18e-8773193372f4"
      },
      "outputs": [
        {
          "output_type": "stream",
          "name": "stdout",
          "text": [
            "WARNING: function is_correct_name (\"Tom1\") - non-letter or first character not uppercase\n",
            "WARNING: function is_correct_name (\"tom\") - non-letter or first character not uppercase\n",
            "WARNING: function is_correct_name (\"brandt\") - non-letter or first character not uppercase\n",
            "WARNING: function is_correct_name (\"bran4t\") - non-letter or first character not uppercase\n",
            "First name: Tom, \n",
            "Last name: Brandt\n",
            "First name: , \n",
            "Last name: Brandt\n",
            "First name: , \n",
            "Last name: \n",
            "First name: Tom, \n",
            "Last name: \n"
          ]
        }
      ],
      "source": [
        "# The fifth version of class Person\n",
        "class Person:\n",
        "  def is_correct_name(self, name):\n",
        "    res = name.isalpha()\n",
        "    if name[0].islower() or res == False:\n",
        "      print(f'WARNING: function is_correct_name (\"{name}\") - non-letter or first character not uppercase')\n",
        "      return False\n",
        "    else:\n",
        "      return True\n",
        "  def __init__(self, first_name, last_name):\n",
        "    self.set_first_name(first_name)\n",
        "    self.set_last_name(last_name)\n",
        "  def set_first_name(self, first_name):\n",
        "    if self.is_correct_name(first_name):\n",
        "      self.first_name = first_name\n",
        "    else:\n",
        "      self.first_name = \"\"\n",
        "  def set_last_name(self, last_name):\n",
        "    if self.is_correct_name(last_name):\n",
        "      self.last_name = last_name\n",
        "    else:\n",
        "      self.last_name = \"\"\n",
        "  def get_first_name(self):\n",
        "    return self.first_name\n",
        "  def get_last_name(self):\n",
        "    return self.last_name\n",
        "  def __str__(self):\n",
        "    return f\"First name: {self.first_name}, \\nLast name: {self.last_name}\"\n",
        "obj1 = Person(\"Tom\",\"Brandt\")\n",
        "obj2 = Person(\"Tom1\",\"Brandt\")\n",
        "obj3 = Person(\"tom\",\"brandt\")\n",
        "obj4 = Person(\"Tom\",\"bran4t\")\n",
        "toms = [obj1, obj2, obj3, obj4]\n",
        "for atr in toms:\n",
        "  print(str(atr))\n"
      ]
    },
    {
      "cell_type": "markdown",
      "id": "a89ca1d9",
      "metadata": {
        "id": "a89ca1d9"
      },
      "source": [
        "<br>\n",
        "\n",
        "## Task 5 - composition\n",
        "\n",
        "Composition occurs when one object has attributes that are objects of another class. This is a common phenomenon.\n",
        "\n",
        "Add the `pesel` attribute to the `Person` class, which is an object of the `Pesel` class. Be sure to write a setter and getter for it. Use the setter to create the attribute in the `__init__` method.\n",
        "\n",
        "Update the `__str__` method. Remember to test the code."
      ]
    },
    {
      "cell_type": "code",
      "execution_count": 105,
      "id": "213ca22c",
      "metadata": {
        "id": "213ca22c",
        "colab": {
          "base_uri": "https://localhost:8080/"
        },
        "outputId": "afcd6b82-25f4-4151-edd9-57dc315b2636"
      },
      "outputs": [
        {
          "output_type": "stream",
          "name": "stdout",
          "text": [
            "WARNING: function is_correct_name (\"Tom1\") - non-letter or first character not uppercase\n",
            "WARNING: function is_correct_name (\"tom\") - non-letter or first character not uppercase\n",
            "WARNING: function is_correct_name (\"brandt\") - non-letter or first character not uppercase\n",
            "WARNING: function is_correct_name (\"bran4t\") - non-letter or first character not uppercase\n",
            "First name: Tom, \n",
            "Last name: Brandt, \n",
            "PESEL: 49080134328\n",
            "First name: , \n",
            "Last name: Brandt, \n",
            "No valid PESEL\n",
            "First name: , \n",
            "Last name: , \n",
            "PESEL: 55080426688\n",
            "First name: Tom, \n",
            "Last name: , \n",
            "PESEL: 06270227782\n"
          ]
        }
      ],
      "source": [
        "# The sixth version of class Person\n",
        "class Pesel:\n",
        "    def __init__(self, pesel_number):\n",
        "        if self.is_valid_pesel(pesel_number):\n",
        "            self.pesel_number = pesel_number\n",
        "        else:\n",
        "            self.pesel_number = \"\"\n",
        "\n",
        "    def is_valid_pesel(self, pesel_number):\n",
        "        return len(pesel_number) == 11 and pesel_number.isdigit()\n",
        "\n",
        "    def __str__(self):\n",
        "        if self.pesel_number == \"\":\n",
        "            return \"No valid PESEL\"\n",
        "        return f\"PESEL: {self.pesel_number}\"\n",
        "\n",
        "    def get_year(self):\n",
        "      if self.pesel_number:\n",
        "        year_prefix = self.pesel_number[:2]\n",
        "        year = int(year_prefix)\n",
        "        if year < 20:\n",
        "          return 2000 + year\n",
        "        else:\n",
        "          return 1900 + year\n",
        "      return None\n",
        "\n",
        "class Person:\n",
        "    def is_correct_name(self, name):\n",
        "        res = name.isalpha()\n",
        "        if name[0].islower() or res == False:\n",
        "            print(f'WARNING: function is_correct_name (\"{name}\") - non-letter or first character not uppercase')\n",
        "            return False\n",
        "        else:\n",
        "            return True\n",
        "\n",
        "    def __init__(self, first_name, last_name, pesel):\n",
        "        self.set_first_name(first_name)\n",
        "        self.set_last_name(last_name)\n",
        "        self.set_pesel(pesel)\n",
        "\n",
        "    def set_pesel(self, pesel):\n",
        "        self.pesel = Pesel(pesel)\n",
        "        if self.pesel.pesel_number == \"\":\n",
        "            self.pesel = None\n",
        "\n",
        "    def set_first_name(self, first_name):\n",
        "        if self.is_correct_name(first_name):\n",
        "            self.first_name = first_name\n",
        "        else:\n",
        "            self.first_name = \"\"\n",
        "\n",
        "    def set_last_name(self, last_name):\n",
        "        if self.is_correct_name(last_name):\n",
        "            self.last_name = last_name\n",
        "        else:\n",
        "            self.last_name = \"\"\n",
        "\n",
        "    def get_first_name(self):\n",
        "        return self.first_name\n",
        "\n",
        "    def get_last_name(self):\n",
        "        return self.last_name\n",
        "\n",
        "    def get_pesel(self):\n",
        "        return self.pesel\n",
        "\n",
        "    def __str__(self):\n",
        "        pesel_str = str(self.pesel) if self.pesel else \"No valid PESEL\"\n",
        "        return f\"First name: {self.first_name}, \\nLast name: {self.last_name}, \\n{pesel_str}\"\n",
        "\n",
        "    def is_male(self):\n",
        "      if self.pesel and self.pesel.pesel_number != \"\":\n",
        "          return int(self.pesel.pesel_number[9]) % 2 == 1\n",
        "      return False\n",
        "\n",
        "    def get_year(self):\n",
        "      if self.pesel_number:\n",
        "          year_prefix = self.pesel_number[:2]\n",
        "          year = int(year_prefix)\n",
        "          if year < 20:\n",
        "              return 2000 + year\n",
        "          else:\n",
        "              return 1900 + year\n",
        "      return None\n",
        "\n",
        "\n",
        "obj1 = Person(\"Tom\", \"Brandt\", \"49080134328\")\n",
        "obj2 = Person(\"Tom1\", \"Brandt\", \"12345\")\n",
        "obj3 = Person(\"tom\", \"brandt\", \"55080426688\")\n",
        "obj4 = Person(\"Tom\", \"bran4t\", \"06270227782\")\n",
        "\n",
        "toms = [obj1, obj2, obj3, obj4]\n",
        "for atr in toms:\n",
        "    print(str(atr))\n",
        "\n"
      ]
    },
    {
      "cell_type": "markdown",
      "id": "ffd8a556",
      "metadata": {
        "id": "ffd8a556"
      },
      "source": [
        "<br>\n",
        "\n",
        "## Task 6 - Using the `Person` class\n",
        "\n",
        "Using the following lists:\n",
        "\n",
        "```python\n",
        "pesels = (\"96041369189\", \"02241916791\", \"03290941521\", \"99050283147\", \"98100144331\", \"98030692285\", \"01262733619\", \"00311262898\", \"98090516376\", \"97102351398\")\n",
        "first_names = (\"Bolesława\", \"Witold\", \"Subisława\", \"Klaudyna\", \"Aleks\", \"Delfina\", \"Samuel\", \"Otto\", \"Zygfryd\", \"Dobrogost\")\n",
        "last_names =(\"Kubas\", \"Miotk\", \"Piętka\", \"Boratyńska\", \"Wojtkiewicz\", \"Moskała\", \"Sobiech\", \"Toporek\", \"Mrożek\", \"Skałecki\")\n",
        "```\n",
        "\n",
        "Create a list of `persons` of `Person` objects, then print it out."
      ]
    },
    {
      "cell_type": "code",
      "execution_count": 106,
      "id": "b16b2eed",
      "metadata": {
        "id": "b16b2eed",
        "colab": {
          "base_uri": "https://localhost:8080/"
        },
        "outputId": "1858fdef-947f-434d-eaee-28fe16903a88"
      },
      "outputs": [
        {
          "output_type": "stream",
          "name": "stdout",
          "text": [
            "First name: Bolesława, \n",
            "Last name: Kubas, \n",
            "PESEL: 96041369189\n",
            "\n",
            "First name: Witold, \n",
            "Last name: Miotk, \n",
            "PESEL: 02241916791\n",
            "\n",
            "First name: Subisława, \n",
            "Last name: Piętka, \n",
            "PESEL: 03290941521\n",
            "\n",
            "First name: Klaudyna, \n",
            "Last name: Boratyńska, \n",
            "PESEL: 99050283147\n",
            "\n",
            "First name: Aleks, \n",
            "Last name: Wojtkiewicz, \n",
            "PESEL: 98100144331\n",
            "\n",
            "First name: Delfina, \n",
            "Last name: Moskała, \n",
            "PESEL: 98030692285\n",
            "\n",
            "First name: Samuel, \n",
            "Last name: Sobiech, \n",
            "PESEL: 01262733619\n",
            "\n",
            "First name: Otto, \n",
            "Last name: Toporek, \n",
            "PESEL: 00311262898\n",
            "\n",
            "First name: Zygfryd, \n",
            "Last name: Mrożek, \n",
            "PESEL: 98090516376\n",
            "\n",
            "First name: Dobrogost, \n",
            "Last name: Skałecki, \n",
            "PESEL: 97102351398\n",
            "\n"
          ]
        }
      ],
      "source": [
        "pesels = (\"96041369189\", \"02241916791\", \"03290941521\", \"99050283147\", \"98100144331\", \"98030692285\", \"01262733619\", \"00311262898\", \"98090516376\", \"97102351398\")\n",
        "first_names = (\"Bolesława\", \"Witold\", \"Subisława\", \"Klaudyna\", \"Aleks\", \"Delfina\", \"Samuel\", \"Otto\", \"Zygfryd\", \"Dobrogost\")\n",
        "last_names =(\"Kubas\", \"Miotk\", \"Piętka\", \"Boratyńska\", \"Wojtkiewicz\", \"Moskała\", \"Sobiech\", \"Toporek\", \"Mrożek\", \"Skałecki\")\n",
        "persons = []\n",
        "for i in range(len(pesels)):\n",
        "  pesel = pesels[i]\n",
        "  first_name = first_names[i]\n",
        "  last_name = last_names[i]\n",
        "  people = Person(first_name, last_name, pesel)\n",
        "  persons.append(people)\n",
        "for people in persons:\n",
        "    print(str(people))\n",
        "    print()\n",
        "\n"
      ]
    },
    {
      "cell_type": "markdown",
      "id": "72425fb9",
      "metadata": {
        "id": "72425fb9"
      },
      "source": [
        "<br>\n",
        "\n",
        "Print only those objects from the `persons` list that represent males."
      ]
    },
    {
      "cell_type": "code",
      "execution_count": 107,
      "id": "93cd7d3b",
      "metadata": {
        "id": "93cd7d3b",
        "colab": {
          "base_uri": "https://localhost:8080/"
        },
        "outputId": "156bfceb-743c-4574-af52-5f85a4f20d14"
      },
      "outputs": [
        {
          "output_type": "stream",
          "name": "stdout",
          "text": [
            "First name: Witold, \n",
            "Last name: Miotk, \n",
            "PESEL: 02241916791\n",
            "\n",
            "First name: Aleks, \n",
            "Last name: Wojtkiewicz, \n",
            "PESEL: 98100144331\n",
            "\n",
            "First name: Samuel, \n",
            "Last name: Sobiech, \n",
            "PESEL: 01262733619\n",
            "\n",
            "First name: Otto, \n",
            "Last name: Toporek, \n",
            "PESEL: 00311262898\n",
            "\n",
            "First name: Zygfryd, \n",
            "Last name: Mrożek, \n",
            "PESEL: 98090516376\n",
            "\n",
            "First name: Dobrogost, \n",
            "Last name: Skałecki, \n",
            "PESEL: 97102351398\n",
            "\n"
          ]
        }
      ],
      "source": [
        "for person in persons:\n",
        "    if person.is_male():\n",
        "        print(str(person))\n",
        "        print()\n",
        "\n",
        "\n"
      ]
    },
    {
      "cell_type": "markdown",
      "id": "8fa5b23b",
      "metadata": {
        "id": "8fa5b23b"
      },
      "source": [
        "<br>\n",
        "\n",
        "Print only those objects from the `persons` list that represent people born after the year 2000."
      ]
    },
    {
      "cell_type": "code",
      "execution_count": 108,
      "id": "4bbec0c3",
      "metadata": {
        "id": "4bbec0c3",
        "colab": {
          "base_uri": "https://localhost:8080/"
        },
        "outputId": "d235b1c0-f4ae-47c2-e312-a765e2e09cc0"
      },
      "outputs": [
        {
          "output_type": "stream",
          "name": "stdout",
          "text": [
            "First name: Witold, \n",
            "Last name: Miotk, \n",
            "PESEL: 02241916791\n",
            "\n",
            "First name: Subisława, \n",
            "Last name: Piętka, \n",
            "PESEL: 03290941521\n",
            "\n",
            "First name: Samuel, \n",
            "Last name: Sobiech, \n",
            "PESEL: 01262733619\n",
            "\n"
          ]
        }
      ],
      "source": [
        "for young in persons:\n",
        "    if young.get_pesel().get_year() > 2000:\n",
        "        print(str(young))\n",
        "        print()"
      ]
    }
  ],
  "metadata": {
    "kernelspec": {
      "display_name": "Python 3",
      "language": "python",
      "name": "python3"
    },
    "language_info": {
      "codemirror_mode": {
        "name": "ipython",
        "version": 3
      },
      "file_extension": ".py",
      "mimetype": "text/x-python",
      "name": "python",
      "nbconvert_exporter": "python",
      "pygments_lexer": "ipython3",
      "version": "3.8.1"
    },
    "colab": {
      "provenance": []
    }
  },
  "nbformat": 4,
  "nbformat_minor": 5
}