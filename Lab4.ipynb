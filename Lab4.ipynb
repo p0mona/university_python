{
  "cells": [
    {
      "cell_type": "markdown",
      "id": "b76d71c2",
      "metadata": {
        "id": "b76d71c2"
      },
      "source": [
        "## Task 1\n",
        "\n",
        "Calculate the minimum of two numbers. Solve the task in 3 ways:\n",
        "1. Using the `if-else` statement,\n",
        "2. Using the conditional (ternary) operator,\n",
        "3. Using an appropriate function from the standard library.\n",
        "\n",
        "You can read about the `if-else` statement on the following pages:\n",
        "- https://www.algorytm.edu.pl/python-if-else\n",
        "- https://kt.academy/pl/article/py-warunki\n",
        "\n",
        "You can read about the conditional operator on these pages:\n",
        "- https://blog.furas.pl/operator-trojargumentowy-w-pythonie.html\n",
        "- https://datagy.io/inline-if-in-python/\n",
        "\n",
        "The appropriate function from the standard library must be found by yourself – just browse the list of built-in functions in the documentation and figure out which function it is. Link:\n",
        "- https://docs.python.org/3.11/library/index.html, topic: Built-in Functions\n",
        "\n",
        "Consider which solution is the best?"
      ]
    },
    {
      "cell_type": "code",
      "execution_count": 1,
      "id": "41bfe4c9",
      "metadata": {
        "colab": {
          "base_uri": "https://localhost:8080/"
        },
        "id": "41bfe4c9",
        "outputId": "ad85feae-2c04-431e-c3ab-0edef3d96941"
      },
      "outputs": [
        {
          "output_type": "stream",
          "name": "stdout",
          "text": [
            "5\n",
            "8\n",
            "5\n"
          ]
        }
      ],
      "source": [
        "# Solution of exercise 1: the first method\n",
        "num1 = int(input())\n",
        "num2 = int(input())\n",
        "if num1 < num2:\n",
        "    print(num1)\n",
        "else:\n",
        "    print(num2)"
      ]
    },
    {
      "cell_type": "code",
      "execution_count": 2,
      "id": "d61b9159",
      "metadata": {
        "colab": {
          "base_uri": "https://localhost:8080/"
        },
        "id": "d61b9159",
        "outputId": "49faed6e-ce62-4321-f642-7b127f314441"
      },
      "outputs": [
        {
          "output_type": "stream",
          "name": "stdout",
          "text": [
            "6\n",
            "3\n",
            "3\n"
          ]
        }
      ],
      "source": [
        "# Solution of exercise 1: the second method\n",
        "num1 = int(input())\n",
        "num2 = int(input())\n",
        "minimum = num1 if num1 < num2 else num2\n",
        "print(minimum)"
      ]
    },
    {
      "cell_type": "code",
      "execution_count": 3,
      "id": "6e36228b",
      "metadata": {
        "colab": {
          "base_uri": "https://localhost:8080/"
        },
        "id": "6e36228b",
        "outputId": "1ea3d932-748c-475b-beb8-22b62fcdff98"
      },
      "outputs": [
        {
          "output_type": "stream",
          "name": "stdout",
          "text": [
            "5\n",
            "99\n",
            "5\n"
          ]
        }
      ],
      "source": [
        "# Solution of exercise 1: the third method\n",
        "num1 = int(input())\n",
        "num2 = int(input())\n",
        "res = min(num1,num2)\n",
        "print(res)"
      ]
    },
    {
      "cell_type": "markdown",
      "id": "3eeacc60",
      "metadata": {
        "id": "3eeacc60"
      },
      "source": [
        "## Task 2\n",
        "\n",
        "Assign a year to the variable `year`. Write code that will determine whether it is a leap year or not. The output should be a statement like:\n",
        "\n",
        "`The year 2011 is not a leap year.`\n",
        "\n",
        "Use an f-string to print the result (an example is provided in lecture 3). If you need more examples or explanations, you can refer to the following pages:\n",
        "- https://bulldogjob.pl/readme/python-3-poznaj-f-strings\n",
        "- https://www.freecodecamp.org/news/python-f-strings-tutorial-how-to-use-f-strings-for-string-formatting/"
      ]
    },
    {
      "cell_type": "code",
      "execution_count": 4,
      "id": "d37eee9c",
      "metadata": {
        "colab": {
          "base_uri": "https://localhost:8080/"
        },
        "id": "d37eee9c",
        "outputId": "a2888cd7-de86-496a-c5b9-cd632ab2b65b"
      },
      "outputs": [
        {
          "output_type": "stream",
          "name": "stdout",
          "text": [
            "1345\n",
            "The year 1345 is not a leap year.\n"
          ]
        }
      ],
      "source": [
        "# Solution of exercise 2.\n",
        "year = int(input())\n",
        "if year % 4 == 0 and year % 100 != 0 or year % 400 == 0 :\n",
        "    print(f\"The year {year} is a leap year.\")\n",
        "else:\n",
        "    print(f\"The year {year} is not a leap year.\")"
      ]
    },
    {
      "cell_type": "markdown",
      "id": "416f292e",
      "metadata": {
        "id": "416f292e"
      },
      "source": [
        "## Task 3\n",
        "\n",
        "Based on the income stored in the variable `income`, calculate the PIT (Personal Income Tax) value before deductions for the year 2023. Print an appropriate message.\n",
        "\n",
        "The method for calculating the tax value in 2023 is provided in the first table on the following page:\n",
        "\n",
        "[https://www.pit.pl/skala-podatkowa-pit/](https://www.pit.pl/skala-podatkowa-pit/)"
      ]
    },
    {
      "cell_type": "code",
      "execution_count": 5,
      "id": "6a77af7d",
      "metadata": {
        "id": "6a77af7d",
        "colab": {
          "base_uri": "https://localhost:8080/"
        },
        "outputId": "c8934386-26bb-4668-e8a2-90f009617e41"
      },
      "outputs": [
        {
          "output_type": "stream",
          "name": "stdout",
          "text": [
            "12345\n",
            "The PIT tax before deductions in 2023 is 1481.4\n"
          ]
        }
      ],
      "source": [
        "# Solution of exercise 3.\n",
        "income = int(input())\n",
        "if income < 120000:\n",
        "    pod = income * 12 / 100\n",
        "    print(\"The PIT tax before deductions in 2023 is\", pod)\n",
        "else:\n",
        "    kzp = int(input())\n",
        "    pod = 10800 + ((income - 120000) * 32 / 100) - kzp\n",
        "    print(\"The PIT tax before deductions in 2023 is\", pod)"
      ]
    },
    {
      "cell_type": "markdown",
      "id": "0685c988",
      "metadata": {
        "id": "0685c988"
      },
      "source": [
        "## Task 4\n",
        "\n",
        "Assign the coordinates of a point to the variables `x` and `y`. Then, check whether the point lies in the first quadrant of the coordinate system or not. The output should be one of the following messages (exactly as shown, with the appropriate coordinates):\n",
        "\n",
        "- `The point (2,7) lies in the first quadrant of the coordinate system.`\n",
        "- `The point (34.2,-4.3) doesn't lie in the first quadrant of the coordinate system.`\n",
        "\n",
        "Write the first version to make it work. Use f-strings. Then, modify it as described below.\n",
        "\n",
        "First, notice that both messages share a common beginning:\n",
        "- `The point (2,7)`\n",
        "\n",
        "Ensure that the part of the code responsible for printing this part appears **exactly once** in the entire code.\n",
        "\n",
        "Similarly, both messages share a common ending:\n",
        "- `in the first quadrant of the coordinate system.`\n",
        "\n",
        "Ensure that the part of the code responsible for printing this part also appears **exactly once** in the entire code.\n",
        "\n",
        "It will be useful to define the `end` parameter in the `print` function appropriately (this parameter is discussed in lecture 3). You can also read about it on this page:\n",
        "- https://www.freecodecamp.org/news/python-new-line-and-how-to-python-print-without-a-newline/"
      ]
    },
    {
      "cell_type": "code",
      "execution_count": 7,
      "id": "bac1bb9e",
      "metadata": {
        "id": "bac1bb9e",
        "colab": {
          "base_uri": "https://localhost:8080/"
        },
        "outputId": "5558865c-87c4-4471-8656-c25bc2def4d3"
      },
      "outputs": [
        {
          "output_type": "stream",
          "name": "stdout",
          "text": [
            "2\n",
            "5\n",
            "The point (2.0,5.0) lies in the first quadrant of the coordinate system.\n",
            "-5\n",
            "4\n",
            "The point (-5.0,4.0) doesn't lie in the first quadrant of the coordinate system.\n"
          ]
        }
      ],
      "source": [
        "# Solution of exercise 4.\n",
        "x = float(input())\n",
        "y = float(input())\n",
        "wyn = f\"The point ({x},{y})\"\n",
        "wyn2 = \"in the first quadrant of the coordinate system.\"\n",
        "if x > 0 and y > 0:\n",
        "    print(wyn + \" lies \" + wyn2)\n",
        "else:\n",
        "    print(wyn + \" doesn't lie \" + wyn2)\n",
        "\n",
        "x = float(input())\n",
        "y = float(input())\n",
        "print(f\"The point ({x},{y})\", end = \"\")\n",
        "if x > 0 and y > 0:\n",
        "    print(\" lies \", end = \"\")\n",
        "else:\n",
        "    print(\" doesn't lie \", end = \"\")\n",
        "print(\"in the first quadrant of the coordinate system.\")"
      ]
    },
    {
      "cell_type": "markdown",
      "id": "6af03ced",
      "metadata": {
        "id": "6af03ced"
      },
      "source": [
        "## Task 5\n",
        "\n",
        "Write a code that assigns a grade based on the points obtained by a student. The grading scale is as follows:\n",
        "\n",
        "|Points|Grade|\n",
        "|---|---|\n",
        "|[0,50]| 2|\n",
        "|(50,60]| 3|\n",
        "|(60,70]| 3.5|\n",
        "|(70,80]| 4|\n",
        "|(80,90]| 4.5|\n",
        "|(90,100]| 5|\n",
        "\n",
        "Store the points in the variable `points`, and the grade in `grade`. The grade is one of the numbers listed in the table. If someone enters a negative number or a value greater than 100 in the `points` variable, the `grade` variable should contain the message:\n",
        "\n",
        "`\"unrated, because points are invalid\"`\n",
        "\n",
        "Finally, print the points and grade with an appropriate message."
      ]
    },
    {
      "cell_type": "code",
      "execution_count": 8,
      "id": "b24726b3",
      "metadata": {
        "colab": {
          "base_uri": "https://localhost:8080/"
        },
        "id": "b24726b3",
        "outputId": "b02a3e4e-513f-4e13-a7dd-ed08725216c7"
      },
      "outputs": [
        {
          "output_type": "stream",
          "name": "stdout",
          "text": [
            "76\n",
            "The student scored 76 points on the test. This is a grade of 4.\n",
            "98\n",
            "The student scored 98 points on the test. This is a grade of 5.\n"
          ]
        }
      ],
      "source": [
        "# Solution of exercise 5.\n",
        "points = int(input())\n",
        "if 0 <= points <= 50:\n",
        "    grade = 2\n",
        "else:\n",
        "    if 50 < points <= 60:\n",
        "        grade = 3\n",
        "    else:\n",
        "        if 60 < points <= 70:\n",
        "            grade = 3.5\n",
        "        else:\n",
        "            if 70 < points <= 80:\n",
        "                grade = 4\n",
        "            else:\n",
        "                if 80 < points <= 90:\n",
        "                    grade = 4.5\n",
        "                else:\n",
        "                    if 90 < points <= 100:\n",
        "                        grade = 5\n",
        "if points < 0 or points > 100:\n",
        "    print(\"unrated, because points are invalid\")\n",
        "else:\n",
        "    print(f\"The student scored {points} points on the test. This is a grade of {grade}.\")\n",
        "\n",
        "points = int(input())\n",
        "if 0 <= points <= 50:\n",
        "    grade = 2\n",
        "elif 50 < points <= 60:\n",
        "    grade = 3\n",
        "elif 60 < points <= 70:\n",
        "    grade = 3.5\n",
        "elif 70 < points <= 80:\n",
        "    grade = 4\n",
        "elif 80 < points <= 90:\n",
        "    grade = 4.5\n",
        "elif 90 < points <= 100:\n",
        "    grade = 5\n",
        "if points < 0 or points > 100:\n",
        "    print(\"unrated, because points are invalid\")\n",
        "else:\n",
        "    print(f\"The student scored {points} points on the test. This is a grade of {grade}.\")"
      ]
    },
    {
      "cell_type": "markdown",
      "id": "ae60b7e8",
      "metadata": {
        "id": "ae60b7e8"
      },
      "source": [
        "<br>\n",
        "\n",
        "\n",
        "## Task 6\n",
        "\n",
        "In this task, the person running the code (the user) will be asked to input a number. Use the built-in `input` function for this. You can read more about it on the following page:\n",
        "- http://books.icse.us.edu.pl/runestone/static/thinkcspy/SimplePythonData/Input.html\n",
        "\n",
        "Your task is to ask the user to enter a non-negative integer and check if they succeed. Example outputs of the program could be:\n",
        "\n",
        "- `Enter a nonnegative integer: 43\n",
        "You did it!`\n",
        "\n",
        "- `Enter a nonnegative integer: -3\n",
        "It isn't a nonnegative integer...`\n",
        "\n",
        "- `Enter a nonnegative integer: er2sd\n",
        "It isn't a nonnegative integer...`\n",
        "\n",
        "Remember that the `input` function returns a string. Think about what characters are allowed when we create a non-negative integer from them. Find out what the `isdecimal` method does, for example, by reading information on the page:\n",
        "\n",
        "- https://www.programiz.com/python-programming/methods/string/isdecimal"
      ]
    },
    {
      "cell_type": "code",
      "execution_count": 9,
      "id": "894626b8",
      "metadata": {
        "id": "894626b8",
        "colab": {
          "base_uri": "https://localhost:8080/"
        },
        "outputId": "d1afcada-7639-4d72-b8bb-6cccdd990cc9"
      },
      "outputs": [
        {
          "output_type": "stream",
          "name": "stdout",
          "text": [
            "Enter a nonnegative integer:5\n",
            "5 You did it!\n"
          ]
        }
      ],
      "source": [
        "# Solution of exercise 6.\n",
        "num = input(\"Enter a nonnegative integer:\")\n",
        "num.isdecimal()\n",
        "if num.isdecimal() == False :\n",
        "    print(f\"{num} It isn't a not nonnegative integer...\")\n",
        "else:\n",
        "    liczba = int(num)\n",
        "    if liczba >= 0:\n",
        "        print(f\"{liczba} You did it!\")"
      ]
    },
    {
      "cell_type": "markdown",
      "id": "c7db42fa",
      "metadata": {
        "id": "c7db42fa"
      },
      "source": [
        "## Task 7\n",
        "\n",
        "Expand the previous task so that after confirming that the user has entered a valid non-negative integer, the program displays a message indicating whether it is a positive number or zero. Example outputs of the program could be:\n",
        "\n",
        "- `Enter a nonnegative integer: 343\n",
        "It is a positive integer.`\n",
        "\n",
        "- `Enter a nonnegative integer: 0\n",
        "It is zero.`\n",
        "\n",
        "- `Enter a nonnegative integer: -4\n",
        "It isn't a nonnegative integer...`\n",
        "\n",
        "- `Enter a nonnegative integer: 3gdsf\n",
        "It isn't a nonnegative integer...`\n",
        "\n",
        "It is recommended to use type conversion functions (lecture 3)."
      ]
    },
    {
      "cell_type": "code",
      "execution_count": 10,
      "id": "1c3f2d88",
      "metadata": {
        "id": "1c3f2d88",
        "colab": {
          "base_uri": "https://localhost:8080/"
        },
        "outputId": "f0da8d42-1c94-4d75-9552-0ce5a6139951"
      },
      "outputs": [
        {
          "output_type": "stream",
          "name": "stdout",
          "text": [
            "Enter a nonnegative integer:0\n",
            "0 It is zero.\n"
          ]
        }
      ],
      "source": [
        "# Solution of exercise 7.\n",
        "num = input(\"Enter a nonnegative integer:\")\n",
        "num.isdecimal()\n",
        "if num.isdecimal() == False :\n",
        "    print(f\"{num} It isn't a not nonnegative integer...\")\n",
        "else:\n",
        "    liczba = int(num)\n",
        "    if liczba > 0:\n",
        "        print(f\"{liczba} It is a positive integer.\")\n",
        "    else:\n",
        "        print(f\"{liczba} It is zero.\")"
      ]
    },
    {
      "cell_type": "markdown",
      "id": "2f6ba04a",
      "metadata": {
        "id": "2f6ba04a"
      },
      "source": [
        "<br>\n",
        "\n",
        "\n",
        "## Task 8\n",
        "\n",
        "Write a program that calculates the reciprocal or the opposite number of a number provided by the user:\n",
        "\n",
        "- The user is prompted to enter a positive integer, and the program checks if the input is indeed a positive integer.\n",
        "- Then, a menu is displayed, and the user is asked to choose an option:\n",
        "- Option 1: calculate the opposite number,\n",
        "- Option 2: calculate the reciprocal.\n",
        "- The program checks if the user provided a valid option.\n",
        "- After choosing an option, the program calculates the result—either the opposite number or the reciprocal—depending on the selected option and displays the result on the screen.\n",
        "\n",
        "Sample runs of the program:\n",
        "\n",
        "- `Enter a positive integer: wrw4\n",
        "It isn't a positive integer...`\n",
        "\n",
        "- `Enter a positive integer: -3\n",
        "It isn't a positive integer...`\n",
        "\n",
        "- `Enter a positive integer: 0\n",
        "It isn't a positive integer...`\n",
        "\n",
        "- `Enter a positive integer: 5\n",
        "What do you want to calculate?\n",
        "1: opposite number\n",
        "2: reciprocal\n",
        "Choose an option (1 or 2): fds\n",
        "Incorrect option...`\n",
        "\n",
        "- `Enter a positive integer: 4\n",
        "What do you want to calculate?\n",
        "1: opposite number\n",
        "2: reciprocal\n",
        "Choose an option (1 or 2): 0\n",
        "Incorrect option...`\n",
        "\n",
        "- `Enter a positive integer: 5\n",
        "What do you want to calculate?\n",
        "1: opposite number\n",
        "2: reciprocal\n",
        "Choose an option (1 or 2): 1\n",
        "The opposite number of 5 is -5.`\n",
        "\n",
        "- `Enter a positive integer: 5\n",
        "What do you want to calculate?\n",
        "1: opposite number\n",
        "2: reciprocal\n",
        "Choose an option (1 or 2): 2\n",
        "The reciprocal of 5 is 0.2.`\n",
        "\n"
      ]
    },
    {
      "cell_type": "code",
      "execution_count": 12,
      "id": "e6ab940e",
      "metadata": {
        "id": "e6ab940e",
        "colab": {
          "base_uri": "https://localhost:8080/"
        },
        "outputId": "e138b70d-7ca8-4d3c-e93e-e2e93c825642"
      },
      "outputs": [
        {
          "output_type": "stream",
          "name": "stdout",
          "text": [
            "Enter a positive integer:3\n",
            "3 What do you want to calculate? 1: opposite number  \n",
            "2: reciprocal \n",
            "Choose an option (1 or 2)\n",
            "2\n",
            "The reciprocal of 3 is 0.3333333333333333.\n"
          ]
        }
      ],
      "source": [
        "# Solution of exercise 8.\n",
        "num = input(\"Enter a positive integer:\")\n",
        "num.isdecimal()\n",
        "if num.isdecimal() == False :\n",
        "    print(f\"{num} It isn't a positive integer...\")\n",
        "else:\n",
        "    liczba = int(num)\n",
        "    if liczba == 0:\n",
        "        print(f\"{num} It isn't a positive integer...\")\n",
        "    elif liczba > 0:\n",
        "            print(f\"{liczba} What do you want to calculate? 1: opposite number\\\n",
        "  \\n2: reciprocal \\nChoose an option (1 or 2)\")\n",
        "            opnum = input()\n",
        "            if opnum.isdecimal() == False:\n",
        "                print(f\"{opnum} Incorrect option...\")\n",
        "            else:\n",
        "                opnum1 = int(opnum)\n",
        "                if opnum1 == 1:\n",
        "                    print(f\"The opposite number of {liczba} is {0 - liczba}.\")\n",
        "                elif opnum1 == 2:\n",
        "                    print(f\"The reciprocal of {liczba} is {1 / liczba}.\")\n",
        "                else:\n",
        "                    print(f\"{opnum} Incorrect option...\")\n",
        "\n"
      ]
    },
    {
      "cell_type": "markdown",
      "id": "7c4e409e",
      "metadata": {
        "id": "7c4e409e"
      },
      "source": [
        "<br>\n",
        "\n",
        "## Task 9 - message persistence: if-else control statement\n",
        "\n",
        "- Define variables `a` and `b` with values ​​5 and 7 respectively.\n",
        "- Write a statement that checks whether `a` is greater or equal to `b`. If so, then display: `a is bigger or equal to b`. Otherwise, display: `a is smaller than b`. Test with the statement for different values ​​of `a` and `b`.\n",
        "- Write a statement that checks the relationship between `a` and `b` more precisely, i.e. displays one of the messages: `a is smaller than b`, `b is smaller than a`, `a is equal to b`. Test with the statement for different values ​​of `a` and `b`."
      ]
    },
    {
      "cell_type": "code",
      "execution_count": 14,
      "id": "da15c0da",
      "metadata": {
        "id": "da15c0da",
        "colab": {
          "base_uri": "https://localhost:8080/"
        },
        "outputId": "d0cdedc9-6cc4-49c3-ae57-b617aca81abd"
      },
      "outputs": [
        {
          "output_type": "stream",
          "name": "stdout",
          "text": [
            "a is smaller than b\n",
            "c = 6\n",
            "d = 3\n",
            "d is smaller than c\n"
          ]
        }
      ],
      "source": [
        "# Solution of exercise 9.\n",
        "a = 5\n",
        "b = 7\n",
        "if a >= b:\n",
        "    print(\"a is bigger or equal to b\")\n",
        "else:\n",
        "    print(\"a is smaller than b\")\n",
        "c = input(\"c = \")\n",
        "d = input(\"d = \")\n",
        "if c < d:\n",
        "    print(\"c is smaller than d\")\n",
        "else:\n",
        "    if c > d:\n",
        "        print(\"d is smaller than c\")\n",
        "    else:\n",
        "        print(\"a is equal to b\")"
      ]
    },
    {
      "cell_type": "markdown",
      "id": "97a0871e",
      "metadata": {
        "id": "97a0871e"
      },
      "source": [
        "## Task 10 - Reinforcement: Checking if a key exists in a dictionary\n",
        "\n",
        "1. Create a dictionary `bev_prices`. The keys should be drinks: `juice`, `tea`, `milk`, and the corresponding values should be their prices: `8`, `7`, `5`.\n",
        "2. Prompt the user to enter a key. If the key exists in the dictionary, display the value associated with that key. If the key does not exist, display an appropriate message. Use the `get` method in the condition.\n",
        "3. Think about whether this code will always work. Could you create a dictionary with values that would display the message that the key does not exist, even though the key actually does exist? If the answer is 'yes', modify the `bev_prices` dictionary to demonstrate this.\n",
        "4. Write the same condition again, but this time use the `in` operator. Which method is better?\n",
        "\n",
        "Hint: Refer to tasks 4 and 10 from lab 3."
      ]
    },
    {
      "cell_type": "code",
      "execution_count": 17,
      "id": "035d0e58",
      "metadata": {
        "id": "035d0e58",
        "colab": {
          "base_uri": "https://localhost:8080/"
        },
        "outputId": "9b0a9120-268e-4b05-d1ce-7a1ceca4a779"
      },
      "outputs": [
        {
          "output_type": "stream",
          "name": "stdout",
          "text": [
            "Please enter the key: 4\n",
            "No such key\n",
            "Please enter the key: milk\n",
            "5\n"
          ]
        }
      ],
      "source": [
        "# Solution of exercise 10.\n",
        "bev_prices = {\"juice\": 8, \"tea\": 7, \"milk\": 5, 9: 0}\n",
        "key = input(\"Please enter the key: \")\n",
        "if bev_prices.get(key) != None:\n",
        "    print(bev_prices.get(key))\n",
        "else:\n",
        "    print(\"No such key\")\n",
        "\n",
        "bev_prices1 = {\"juice\": 8, \"tea\": 7, \"milk\": 5, 9: 0}\n",
        "key = input(\"Please enter the key: \")\n",
        "if key in bev_prices:\n",
        "    print(bev_prices1[key])\n",
        "else:\n",
        "    print(\"No such key\")\n"
      ]
    }
  ],
  "metadata": {
    "kernelspec": {
      "display_name": "Python 3",
      "language": "python",
      "name": "python3"
    },
    "language_info": {
      "codemirror_mode": {
        "name": "ipython",
        "version": 3
      },
      "file_extension": ".py",
      "mimetype": "text/x-python",
      "name": "python",
      "nbconvert_exporter": "python",
      "pygments_lexer": "ipython3",
      "version": "3.8.1"
    },
    "colab": {
      "provenance": []
    }
  },
  "nbformat": 4,
  "nbformat_minor": 5
}